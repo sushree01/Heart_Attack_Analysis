{
 "cells": [
  {
   "cell_type": "markdown",
   "id": "6a76b962",
   "metadata": {},
   "source": [
    "## 1.Loading the Required Libraries"
   ]
  },
  {
   "cell_type": "code",
   "execution_count": 2,
   "id": "ca2d6742",
   "metadata": {},
   "outputs": [],
   "source": [
    "import numpy as np\n",
    "import pandas as pd\n",
    "import matplotlib.pyplot as plt\n",
    "import seaborn as sns"
   ]
  },
  {
   "cell_type": "code",
   "execution_count": 3,
   "id": "1c2bf019",
   "metadata": {},
   "outputs": [],
   "source": [
    "from warnings import filterwarnings\n",
    "filterwarnings('ignore')"
   ]
  },
  {
   "cell_type": "code",
   "execution_count": 4,
   "id": "28942733",
   "metadata": {},
   "outputs": [],
   "source": [
    "from xgboost import XGBClassifier\n",
    "from sklearn.linear_model import LogisticRegression,SGDClassifier\n",
    "from sklearn.tree import DecisionTreeClassifier\n",
    "from sklearn.ensemble import RandomForestClassifier,AdaBoostClassifier,GradientBoostingClassifier\n",
    "from sklearn.neighbors import KNeighborsClassifier\n",
    "from sklearn.naive_bayes import GaussianNB\n",
    "from sklearn.svm import SVC\n",
    "from lightgbm import LGBMClassifier\n",
    "from catboost import CatBoostClassifier"
   ]
  },
  {
   "cell_type": "code",
   "execution_count": 47,
   "id": "6691ec22",
   "metadata": {},
   "outputs": [],
   "source": [
    "from sklearn.decomposition import PCA\n",
    "from sklearn.preprocessing import StandardScaler\n",
    "from sklearn.model_selection import train_test_split,GridSearchCV\n",
    "from sklearn.metrics import accuracy_score,confusion_matrix,classification_report,recall_score,precision_score,roc_curve,auc"
   ]
  },
  {
   "cell_type": "code",
   "execution_count": 88,
   "id": "7d9a678b",
   "metadata": {},
   "outputs": [],
   "source": [
    "import keras\n",
    "from keras.models import Sequential\n",
    "from keras.layers import Dense,Dropout\n",
    "from keras.callbacks import EarlyStopping"
   ]
  },
  {
   "cell_type": "markdown",
   "id": "ef046d00",
   "metadata": {},
   "source": [
    "## 2.Loading the Dataset"
   ]
  },
  {
   "cell_type": "code",
   "execution_count": 6,
   "id": "128f0cc0",
   "metadata": {},
   "outputs": [
    {
     "data": {
      "text/plain": [
       "(303, 14)"
      ]
     },
     "execution_count": 6,
     "metadata": {},
     "output_type": "execute_result"
    }
   ],
   "source": [
    "df_heart=pd.read_csv('C:/Users/Sushree Jena/Desktop/imarticus/machine learning/Kaggle/heart_attack/heart.csv')\n",
    "df_heart.shape"
   ]
  },
  {
   "cell_type": "code",
   "execution_count": 7,
   "id": "c879ed77",
   "metadata": {},
   "outputs": [
    {
     "data": {
      "text/html": [
       "<div>\n",
       "<style scoped>\n",
       "    .dataframe tbody tr th:only-of-type {\n",
       "        vertical-align: middle;\n",
       "    }\n",
       "\n",
       "    .dataframe tbody tr th {\n",
       "        vertical-align: top;\n",
       "    }\n",
       "\n",
       "    .dataframe thead th {\n",
       "        text-align: right;\n",
       "    }\n",
       "</style>\n",
       "<table border=\"1\" class=\"dataframe\">\n",
       "  <thead>\n",
       "    <tr style=\"text-align: right;\">\n",
       "      <th></th>\n",
       "      <th>age</th>\n",
       "      <th>sex</th>\n",
       "      <th>cp</th>\n",
       "      <th>trtbps</th>\n",
       "      <th>chol</th>\n",
       "      <th>fbs</th>\n",
       "      <th>restecg</th>\n",
       "      <th>thalachh</th>\n",
       "      <th>exng</th>\n",
       "      <th>oldpeak</th>\n",
       "      <th>slp</th>\n",
       "      <th>caa</th>\n",
       "      <th>thall</th>\n",
       "      <th>output</th>\n",
       "    </tr>\n",
       "  </thead>\n",
       "  <tbody>\n",
       "    <tr>\n",
       "      <th>0</th>\n",
       "      <td>63</td>\n",
       "      <td>1</td>\n",
       "      <td>3</td>\n",
       "      <td>145</td>\n",
       "      <td>233</td>\n",
       "      <td>1</td>\n",
       "      <td>0</td>\n",
       "      <td>150</td>\n",
       "      <td>0</td>\n",
       "      <td>2.3</td>\n",
       "      <td>0</td>\n",
       "      <td>0</td>\n",
       "      <td>1</td>\n",
       "      <td>1</td>\n",
       "    </tr>\n",
       "    <tr>\n",
       "      <th>1</th>\n",
       "      <td>37</td>\n",
       "      <td>1</td>\n",
       "      <td>2</td>\n",
       "      <td>130</td>\n",
       "      <td>250</td>\n",
       "      <td>0</td>\n",
       "      <td>1</td>\n",
       "      <td>187</td>\n",
       "      <td>0</td>\n",
       "      <td>3.5</td>\n",
       "      <td>0</td>\n",
       "      <td>0</td>\n",
       "      <td>2</td>\n",
       "      <td>1</td>\n",
       "    </tr>\n",
       "    <tr>\n",
       "      <th>2</th>\n",
       "      <td>41</td>\n",
       "      <td>0</td>\n",
       "      <td>1</td>\n",
       "      <td>130</td>\n",
       "      <td>204</td>\n",
       "      <td>0</td>\n",
       "      <td>0</td>\n",
       "      <td>172</td>\n",
       "      <td>0</td>\n",
       "      <td>1.4</td>\n",
       "      <td>2</td>\n",
       "      <td>0</td>\n",
       "      <td>2</td>\n",
       "      <td>1</td>\n",
       "    </tr>\n",
       "    <tr>\n",
       "      <th>3</th>\n",
       "      <td>56</td>\n",
       "      <td>1</td>\n",
       "      <td>1</td>\n",
       "      <td>120</td>\n",
       "      <td>236</td>\n",
       "      <td>0</td>\n",
       "      <td>1</td>\n",
       "      <td>178</td>\n",
       "      <td>0</td>\n",
       "      <td>0.8</td>\n",
       "      <td>2</td>\n",
       "      <td>0</td>\n",
       "      <td>2</td>\n",
       "      <td>1</td>\n",
       "    </tr>\n",
       "    <tr>\n",
       "      <th>4</th>\n",
       "      <td>57</td>\n",
       "      <td>0</td>\n",
       "      <td>0</td>\n",
       "      <td>120</td>\n",
       "      <td>354</td>\n",
       "      <td>0</td>\n",
       "      <td>1</td>\n",
       "      <td>163</td>\n",
       "      <td>1</td>\n",
       "      <td>0.6</td>\n",
       "      <td>2</td>\n",
       "      <td>0</td>\n",
       "      <td>2</td>\n",
       "      <td>1</td>\n",
       "    </tr>\n",
       "  </tbody>\n",
       "</table>\n",
       "</div>"
      ],
      "text/plain": [
       "   age  sex  cp  trtbps  chol  fbs  restecg  thalachh  exng  oldpeak  slp  \\\n",
       "0   63    1   3     145   233    1        0       150     0      2.3    0   \n",
       "1   37    1   2     130   250    0        1       187     0      3.5    0   \n",
       "2   41    0   1     130   204    0        0       172     0      1.4    2   \n",
       "3   56    1   1     120   236    0        1       178     0      0.8    2   \n",
       "4   57    0   0     120   354    0        1       163     1      0.6    2   \n",
       "\n",
       "   caa  thall  output  \n",
       "0    0      1       1  \n",
       "1    0      2       1  \n",
       "2    0      2       1  \n",
       "3    0      2       1  \n",
       "4    0      2       1  "
      ]
     },
     "execution_count": 7,
     "metadata": {},
     "output_type": "execute_result"
    }
   ],
   "source": [
    "df_heart.head()"
   ]
  },
  {
   "cell_type": "code",
   "execution_count": 8,
   "id": "a6dc8822",
   "metadata": {},
   "outputs": [
    {
     "data": {
      "text/html": [
       "<div>\n",
       "<style scoped>\n",
       "    .dataframe tbody tr th:only-of-type {\n",
       "        vertical-align: middle;\n",
       "    }\n",
       "\n",
       "    .dataframe tbody tr th {\n",
       "        vertical-align: top;\n",
       "    }\n",
       "\n",
       "    .dataframe thead th {\n",
       "        text-align: right;\n",
       "    }\n",
       "</style>\n",
       "<table border=\"1\" class=\"dataframe\">\n",
       "  <thead>\n",
       "    <tr style=\"text-align: right;\">\n",
       "      <th></th>\n",
       "      <th>age</th>\n",
       "      <th>sex</th>\n",
       "      <th>cp</th>\n",
       "      <th>trtbps</th>\n",
       "      <th>chol</th>\n",
       "      <th>fbs</th>\n",
       "      <th>restecg</th>\n",
       "      <th>thalachh</th>\n",
       "      <th>exng</th>\n",
       "      <th>oldpeak</th>\n",
       "      <th>slp</th>\n",
       "      <th>caa</th>\n",
       "      <th>thall</th>\n",
       "      <th>output</th>\n",
       "    </tr>\n",
       "  </thead>\n",
       "  <tbody>\n",
       "    <tr>\n",
       "      <th>count</th>\n",
       "      <td>303.000000</td>\n",
       "      <td>303.000000</td>\n",
       "      <td>303.000000</td>\n",
       "      <td>303.000000</td>\n",
       "      <td>303.000000</td>\n",
       "      <td>303.000000</td>\n",
       "      <td>303.000000</td>\n",
       "      <td>303.000000</td>\n",
       "      <td>303.000000</td>\n",
       "      <td>303.000000</td>\n",
       "      <td>303.000000</td>\n",
       "      <td>303.000000</td>\n",
       "      <td>303.000000</td>\n",
       "      <td>303.000000</td>\n",
       "    </tr>\n",
       "    <tr>\n",
       "      <th>mean</th>\n",
       "      <td>54.366337</td>\n",
       "      <td>0.683168</td>\n",
       "      <td>0.966997</td>\n",
       "      <td>131.623762</td>\n",
       "      <td>246.264026</td>\n",
       "      <td>0.148515</td>\n",
       "      <td>0.528053</td>\n",
       "      <td>149.646865</td>\n",
       "      <td>0.326733</td>\n",
       "      <td>1.039604</td>\n",
       "      <td>1.399340</td>\n",
       "      <td>0.729373</td>\n",
       "      <td>2.313531</td>\n",
       "      <td>0.544554</td>\n",
       "    </tr>\n",
       "    <tr>\n",
       "      <th>std</th>\n",
       "      <td>9.082101</td>\n",
       "      <td>0.466011</td>\n",
       "      <td>1.032052</td>\n",
       "      <td>17.538143</td>\n",
       "      <td>51.830751</td>\n",
       "      <td>0.356198</td>\n",
       "      <td>0.525860</td>\n",
       "      <td>22.905161</td>\n",
       "      <td>0.469794</td>\n",
       "      <td>1.161075</td>\n",
       "      <td>0.616226</td>\n",
       "      <td>1.022606</td>\n",
       "      <td>0.612277</td>\n",
       "      <td>0.498835</td>\n",
       "    </tr>\n",
       "    <tr>\n",
       "      <th>min</th>\n",
       "      <td>29.000000</td>\n",
       "      <td>0.000000</td>\n",
       "      <td>0.000000</td>\n",
       "      <td>94.000000</td>\n",
       "      <td>126.000000</td>\n",
       "      <td>0.000000</td>\n",
       "      <td>0.000000</td>\n",
       "      <td>71.000000</td>\n",
       "      <td>0.000000</td>\n",
       "      <td>0.000000</td>\n",
       "      <td>0.000000</td>\n",
       "      <td>0.000000</td>\n",
       "      <td>0.000000</td>\n",
       "      <td>0.000000</td>\n",
       "    </tr>\n",
       "    <tr>\n",
       "      <th>25%</th>\n",
       "      <td>47.500000</td>\n",
       "      <td>0.000000</td>\n",
       "      <td>0.000000</td>\n",
       "      <td>120.000000</td>\n",
       "      <td>211.000000</td>\n",
       "      <td>0.000000</td>\n",
       "      <td>0.000000</td>\n",
       "      <td>133.500000</td>\n",
       "      <td>0.000000</td>\n",
       "      <td>0.000000</td>\n",
       "      <td>1.000000</td>\n",
       "      <td>0.000000</td>\n",
       "      <td>2.000000</td>\n",
       "      <td>0.000000</td>\n",
       "    </tr>\n",
       "    <tr>\n",
       "      <th>50%</th>\n",
       "      <td>55.000000</td>\n",
       "      <td>1.000000</td>\n",
       "      <td>1.000000</td>\n",
       "      <td>130.000000</td>\n",
       "      <td>240.000000</td>\n",
       "      <td>0.000000</td>\n",
       "      <td>1.000000</td>\n",
       "      <td>153.000000</td>\n",
       "      <td>0.000000</td>\n",
       "      <td>0.800000</td>\n",
       "      <td>1.000000</td>\n",
       "      <td>0.000000</td>\n",
       "      <td>2.000000</td>\n",
       "      <td>1.000000</td>\n",
       "    </tr>\n",
       "    <tr>\n",
       "      <th>75%</th>\n",
       "      <td>61.000000</td>\n",
       "      <td>1.000000</td>\n",
       "      <td>2.000000</td>\n",
       "      <td>140.000000</td>\n",
       "      <td>274.500000</td>\n",
       "      <td>0.000000</td>\n",
       "      <td>1.000000</td>\n",
       "      <td>166.000000</td>\n",
       "      <td>1.000000</td>\n",
       "      <td>1.600000</td>\n",
       "      <td>2.000000</td>\n",
       "      <td>1.000000</td>\n",
       "      <td>3.000000</td>\n",
       "      <td>1.000000</td>\n",
       "    </tr>\n",
       "    <tr>\n",
       "      <th>max</th>\n",
       "      <td>77.000000</td>\n",
       "      <td>1.000000</td>\n",
       "      <td>3.000000</td>\n",
       "      <td>200.000000</td>\n",
       "      <td>564.000000</td>\n",
       "      <td>1.000000</td>\n",
       "      <td>2.000000</td>\n",
       "      <td>202.000000</td>\n",
       "      <td>1.000000</td>\n",
       "      <td>6.200000</td>\n",
       "      <td>2.000000</td>\n",
       "      <td>4.000000</td>\n",
       "      <td>3.000000</td>\n",
       "      <td>1.000000</td>\n",
       "    </tr>\n",
       "  </tbody>\n",
       "</table>\n",
       "</div>"
      ],
      "text/plain": [
       "              age         sex          cp      trtbps        chol         fbs  \\\n",
       "count  303.000000  303.000000  303.000000  303.000000  303.000000  303.000000   \n",
       "mean    54.366337    0.683168    0.966997  131.623762  246.264026    0.148515   \n",
       "std      9.082101    0.466011    1.032052   17.538143   51.830751    0.356198   \n",
       "min     29.000000    0.000000    0.000000   94.000000  126.000000    0.000000   \n",
       "25%     47.500000    0.000000    0.000000  120.000000  211.000000    0.000000   \n",
       "50%     55.000000    1.000000    1.000000  130.000000  240.000000    0.000000   \n",
       "75%     61.000000    1.000000    2.000000  140.000000  274.500000    0.000000   \n",
       "max     77.000000    1.000000    3.000000  200.000000  564.000000    1.000000   \n",
       "\n",
       "          restecg    thalachh        exng     oldpeak         slp         caa  \\\n",
       "count  303.000000  303.000000  303.000000  303.000000  303.000000  303.000000   \n",
       "mean     0.528053  149.646865    0.326733    1.039604    1.399340    0.729373   \n",
       "std      0.525860   22.905161    0.469794    1.161075    0.616226    1.022606   \n",
       "min      0.000000   71.000000    0.000000    0.000000    0.000000    0.000000   \n",
       "25%      0.000000  133.500000    0.000000    0.000000    1.000000    0.000000   \n",
       "50%      1.000000  153.000000    0.000000    0.800000    1.000000    0.000000   \n",
       "75%      1.000000  166.000000    1.000000    1.600000    2.000000    1.000000   \n",
       "max      2.000000  202.000000    1.000000    6.200000    2.000000    4.000000   \n",
       "\n",
       "            thall      output  \n",
       "count  303.000000  303.000000  \n",
       "mean     2.313531    0.544554  \n",
       "std      0.612277    0.498835  \n",
       "min      0.000000    0.000000  \n",
       "25%      2.000000    0.000000  \n",
       "50%      2.000000    1.000000  \n",
       "75%      3.000000    1.000000  \n",
       "max      3.000000    1.000000  "
      ]
     },
     "execution_count": 8,
     "metadata": {},
     "output_type": "execute_result"
    }
   ],
   "source": [
    "df_heart.describe()"
   ]
  },
  {
   "cell_type": "markdown",
   "id": "a82923c2",
   "metadata": {},
   "source": [
    "## 3.Exploratory Data Analysis"
   ]
  },
  {
   "cell_type": "code",
   "execution_count": 9,
   "id": "c88b2773",
   "metadata": {},
   "outputs": [
    {
     "data": {
      "text/plain": [
       "0    143\n",
       "2     87\n",
       "1     50\n",
       "3     23\n",
       "Name: cp, dtype: int64"
      ]
     },
     "execution_count": 9,
     "metadata": {},
     "output_type": "execute_result"
    }
   ],
   "source": [
    "df_heart.cp.value_counts()"
   ]
  },
  {
   "cell_type": "markdown",
   "id": "6a00075a",
   "metadata": {},
   "source": [
    "From the summary table, we can see that the minimum value for cp column is 0. But as per our dataset, there is no description for 0. Let's convert it into 4 and classify it as asymptomatic."
   ]
  },
  {
   "cell_type": "code",
   "execution_count": 10,
   "id": "9df10d70",
   "metadata": {},
   "outputs": [],
   "source": [
    "df_heart.loc[(df_heart['cp']==0,'cp')]=4"
   ]
  },
  {
   "cell_type": "code",
   "execution_count": 11,
   "id": "b00e40c9",
   "metadata": {},
   "outputs": [
    {
     "data": {
      "text/plain": [
       "4    143\n",
       "2     87\n",
       "1     50\n",
       "3     23\n",
       "Name: cp, dtype: int64"
      ]
     },
     "execution_count": 11,
     "metadata": {},
     "output_type": "execute_result"
    }
   ],
   "source": [
    "df_heart.cp.value_counts()"
   ]
  },
  {
   "cell_type": "code",
   "execution_count": 12,
   "id": "4e660aa3",
   "metadata": {},
   "outputs": [
    {
     "name": "stdout",
     "output_type": "stream",
     "text": [
      "<class 'pandas.core.frame.DataFrame'>\n",
      "RangeIndex: 303 entries, 0 to 302\n",
      "Data columns (total 14 columns):\n",
      " #   Column    Non-Null Count  Dtype  \n",
      "---  ------    --------------  -----  \n",
      " 0   age       303 non-null    int64  \n",
      " 1   sex       303 non-null    int64  \n",
      " 2   cp        303 non-null    int64  \n",
      " 3   trtbps    303 non-null    int64  \n",
      " 4   chol      303 non-null    int64  \n",
      " 5   fbs       303 non-null    int64  \n",
      " 6   restecg   303 non-null    int64  \n",
      " 7   thalachh  303 non-null    int64  \n",
      " 8   exng      303 non-null    int64  \n",
      " 9   oldpeak   303 non-null    float64\n",
      " 10  slp       303 non-null    int64  \n",
      " 11  caa       303 non-null    int64  \n",
      " 12  thall     303 non-null    int64  \n",
      " 13  output    303 non-null    int64  \n",
      "dtypes: float64(1), int64(13)\n",
      "memory usage: 33.3 KB\n"
     ]
    }
   ],
   "source": [
    "df_heart.info()"
   ]
  },
  {
   "cell_type": "markdown",
   "id": "6865a9fc",
   "metadata": {},
   "source": [
    "We can see that there are some columns which are originally categorical, but as misinterpreted as numerical column in the data. Let's change the datatype."
   ]
  },
  {
   "cell_type": "code",
   "execution_count": 13,
   "id": "b0394c8e",
   "metadata": {},
   "outputs": [],
   "source": [
    "cols=['sex','cp','fbs','restecg','exng','slp','caa','thall','output']"
   ]
  },
  {
   "cell_type": "code",
   "execution_count": 14,
   "id": "af47849a",
   "metadata": {},
   "outputs": [],
   "source": [
    "for col in cols:\n",
    "    df_heart[col]=df_heart[col].astype('category')"
   ]
  },
  {
   "cell_type": "code",
   "execution_count": 15,
   "id": "7ee379d7",
   "metadata": {},
   "outputs": [
    {
     "name": "stdout",
     "output_type": "stream",
     "text": [
      "<class 'pandas.core.frame.DataFrame'>\n",
      "RangeIndex: 303 entries, 0 to 302\n",
      "Data columns (total 14 columns):\n",
      " #   Column    Non-Null Count  Dtype   \n",
      "---  ------    --------------  -----   \n",
      " 0   age       303 non-null    int64   \n",
      " 1   sex       303 non-null    category\n",
      " 2   cp        303 non-null    category\n",
      " 3   trtbps    303 non-null    int64   \n",
      " 4   chol      303 non-null    int64   \n",
      " 5   fbs       303 non-null    category\n",
      " 6   restecg   303 non-null    category\n",
      " 7   thalachh  303 non-null    int64   \n",
      " 8   exng      303 non-null    category\n",
      " 9   oldpeak   303 non-null    float64 \n",
      " 10  slp       303 non-null    category\n",
      " 11  caa       303 non-null    category\n",
      " 12  thall     303 non-null    category\n",
      " 13  output    303 non-null    category\n",
      "dtypes: category(9), float64(1), int64(4)\n",
      "memory usage: 16.0 KB\n"
     ]
    }
   ],
   "source": [
    "df_heart.info()"
   ]
  },
  {
   "cell_type": "code",
   "execution_count": 16,
   "id": "0ba4a3fc",
   "metadata": {},
   "outputs": [
    {
     "data": {
      "text/plain": [
       "age         0\n",
       "sex         0\n",
       "cp          0\n",
       "trtbps      0\n",
       "chol        0\n",
       "fbs         0\n",
       "restecg     0\n",
       "thalachh    0\n",
       "exng        0\n",
       "oldpeak     0\n",
       "slp         0\n",
       "caa         0\n",
       "thall       0\n",
       "output      0\n",
       "dtype: int64"
      ]
     },
     "execution_count": 16,
     "metadata": {},
     "output_type": "execute_result"
    }
   ],
   "source": [
    "df_heart.isnull().sum()"
   ]
  },
  {
   "cell_type": "markdown",
   "id": "1a0e89bc",
   "metadata": {},
   "source": [
    "We can see that there are no missing values for the data."
   ]
  },
  {
   "cell_type": "code",
   "execution_count": 17,
   "id": "7d72be62",
   "metadata": {},
   "outputs": [],
   "source": [
    "#Checking for duplicates"
   ]
  },
  {
   "cell_type": "code",
   "execution_count": 18,
   "id": "188715a6",
   "metadata": {},
   "outputs": [
    {
     "data": {
      "text/plain": [
       "1"
      ]
     },
     "execution_count": 18,
     "metadata": {},
     "output_type": "execute_result"
    }
   ],
   "source": [
    "sum(df_heart.duplicated())"
   ]
  },
  {
   "cell_type": "markdown",
   "id": "97fdc9b7",
   "metadata": {},
   "source": [
    "There is 1 duplicate data,let's drop that before model building"
   ]
  },
  {
   "cell_type": "code",
   "execution_count": 19,
   "id": "95a1b100",
   "metadata": {},
   "outputs": [],
   "source": [
    "df_heart=df_heart.drop_duplicates()"
   ]
  },
  {
   "cell_type": "code",
   "execution_count": 20,
   "id": "62615a8d",
   "metadata": {},
   "outputs": [
    {
     "data": {
      "text/plain": [
       "(302, 14)"
      ]
     },
     "execution_count": 20,
     "metadata": {},
     "output_type": "execute_result"
    }
   ],
   "source": [
    "df_heart.shape"
   ]
  },
  {
   "cell_type": "code",
   "execution_count": 21,
   "id": "33f7d8c5",
   "metadata": {},
   "outputs": [],
   "source": [
    "#Checking the outliers"
   ]
  },
  {
   "cell_type": "code",
   "execution_count": 22,
   "id": "ad30c37f",
   "metadata": {},
   "outputs": [
    {
     "data": {
      "image/png": "[encoded data removed]",
      "text/plain": [
       "<Figure size 864x648 with 1 Axes>"
      ]
     },
     "metadata": {
      "needs_background": "light"
     },
     "output_type": "display_data"
    }
   ],
   "source": [
    "plt.figure(figsize=(12,9))\n",
    "sns.boxplot(data=df_heart)\n",
    "plt.show()"
   ]
  },
  {
   "cell_type": "markdown",
   "id": "a57627fc",
   "metadata": {},
   "source": [
    "Let's convert the chol data into categorical data, so as to take care of outliers in the data."
   ]
  },
  {
   "cell_type": "code",
   "execution_count": 23,
   "id": "8764e2fd",
   "metadata": {},
   "outputs": [
    {
     "data": {
      "text/plain": [
       "(126, 564)"
      ]
     },
     "execution_count": 23,
     "metadata": {},
     "output_type": "execute_result"
    }
   ],
   "source": [
    "df_heart.chol.min(),df_heart.chol.max()"
   ]
  },
  {
   "cell_type": "code",
   "execution_count": 24,
   "id": "df7bef37",
   "metadata": {},
   "outputs": [
    {
     "data": {
      "text/plain": [
       "0    257\n",
       "1     45\n",
       "Name: fbs, dtype: int64"
      ]
     },
     "execution_count": 24,
     "metadata": {},
     "output_type": "execute_result"
    }
   ],
   "source": [
    "df_heart.fbs.value_counts()"
   ]
  },
  {
   "cell_type": "code",
   "execution_count": 25,
   "id": "3029292f",
   "metadata": {},
   "outputs": [
    {
     "data": {
      "text/plain": [
       "2    165\n",
       "3    117\n",
       "1     18\n",
       "0      2\n",
       "Name: thall, dtype: int64"
      ]
     },
     "execution_count": 25,
     "metadata": {},
     "output_type": "execute_result"
    }
   ],
   "source": [
    "df_heart.thall.value_counts()"
   ]
  },
  {
   "cell_type": "code",
   "execution_count": 26,
   "id": "7155183c",
   "metadata": {},
   "outputs": [],
   "source": [
    "df_heart['chol_cat']=pd.cut(df_heart.chol,bins=[120,200,240,565],labels=['good','borderline','high'])"
   ]
  },
  {
   "cell_type": "code",
   "execution_count": 27,
   "id": "beb38fc7",
   "metadata": {},
   "outputs": [
    {
     "data": {
      "text/plain": [
       "high          151\n",
       "borderline    101\n",
       "good           50\n",
       "Name: chol_cat, dtype: int64"
      ]
     },
     "execution_count": 27,
     "metadata": {},
     "output_type": "execute_result"
    }
   ],
   "source": [
    "df_heart.chol_cat.value_counts()"
   ]
  },
  {
   "cell_type": "code",
   "execution_count": 28,
   "id": "bc8930cf",
   "metadata": {},
   "outputs": [
    {
     "data": {
      "text/plain": [
       "chol_cat     \n",
       "good        1    29\n",
       "            0    21\n",
       "borderline  1    63\n",
       "            0    38\n",
       "high        0    79\n",
       "            1    72\n",
       "Name: output, dtype: int64"
      ]
     },
     "execution_count": 28,
     "metadata": {},
     "output_type": "execute_result"
    }
   ],
   "source": [
    "df_heart.groupby('chol_cat')['output'].value_counts()"
   ]
  },
  {
   "cell_type": "code",
   "execution_count": 29,
   "id": "5b281eca",
   "metadata": {},
   "outputs": [
    {
     "data": {
      "image/png": "[encoded data removed]",
      "text/plain": [
       "<Figure size 432x288 with 1 Axes>"
      ]
     },
     "metadata": {
      "needs_background": "light"
     },
     "output_type": "display_data"
    }
   ],
   "source": [
    "cp=sns.countplot(x='chol_cat',hue='output',data=df_heart)\n",
    "cp.bar_label(cp.containers[1])\n",
    "plt.show()"
   ]
  },
  {
   "cell_type": "markdown",
   "id": "ce5ee5f2",
   "metadata": {},
   "source": [
    "We can see that there are 72 positive outcomes with high cholesterol level in the blood."
   ]
  },
  {
   "cell_type": "markdown",
   "id": "15acc2cf",
   "metadata": {},
   "source": [
    "We will drop the chol column since we do not require it now."
   ]
  },
  {
   "cell_type": "code",
   "execution_count": 30,
   "id": "6e05e9a4",
   "metadata": {},
   "outputs": [],
   "source": [
    "df_heart=df_heart.drop('chol',axis=1)"
   ]
  },
  {
   "cell_type": "code",
   "execution_count": 31,
   "id": "3f40bba9",
   "metadata": {},
   "outputs": [
    {
     "data": {
      "text/plain": [
       "(71, 202)"
      ]
     },
     "execution_count": 31,
     "metadata": {},
     "output_type": "execute_result"
    }
   ],
   "source": [
    "df_heart.thalachh.min(),df_heart.thalachh.max()"
   ]
  },
  {
   "cell_type": "code",
   "execution_count": 32,
   "id": "8411e37f",
   "metadata": {},
   "outputs": [
    {
     "data": {
      "text/plain": [
       "Index(['age', 'trtbps', 'thalachh', 'oldpeak'], dtype='object')"
      ]
     },
     "execution_count": 32,
     "metadata": {},
     "output_type": "execute_result"
    }
   ],
   "source": [
    "num_cols=df_heart.select_dtypes(include=np.number)\n",
    "num_cols.columns"
   ]
  },
  {
   "cell_type": "code",
   "execution_count": 33,
   "id": "364656d0",
   "metadata": {},
   "outputs": [],
   "source": [
    "cols=['trtbps','thalachh','oldpeak']"
   ]
  },
  {
   "cell_type": "code",
   "execution_count": 34,
   "id": "0ff4d7b1",
   "metadata": {},
   "outputs": [],
   "source": [
    "def boundaries(data,variable):\n",
    "    LL=data[variable].quantile(.25)-((data[variable].quantile(.75)-data[variable].quantile(.25))*1.5)\n",
    "    UL=data[variable].quantile(.75)+((data[variable].quantile(.75)-data[variable].quantile(.25))*1.5)\n",
    "    return LL,UL"
   ]
  },
  {
   "cell_type": "code",
   "execution_count": 35,
   "id": "f3d3ad3e",
   "metadata": {},
   "outputs": [],
   "source": [
    "for col in cols:\n",
    "    LL,UL=boundaries(df_heart,col)\n",
    "    \n",
    "    df_heart[col]=np.where(df_heart[col]<LL,LL,\n",
    "                          np.where(df_heart[col]>UL,UL,df_heart[col]))"
   ]
  },
  {
   "cell_type": "code",
   "execution_count": 36,
   "id": "3c9e60fb",
   "metadata": {},
   "outputs": [
    {
     "data": {
      "image/png": "[encoded data removed]",
      "text/plain": [
       "<Figure size 432x288 with 1 Axes>"
      ]
     },
     "metadata": {
      "needs_background": "light"
     },
     "output_type": "display_data"
    }
   ],
   "source": [
    "sns.boxplot(data=df_heart)\n",
    "plt.show()"
   ]
  },
  {
   "cell_type": "code",
   "execution_count": 37,
   "id": "4bb47ab1",
   "metadata": {},
   "outputs": [],
   "source": [
    "#Checking for Linearity"
   ]
  },
  {
   "cell_type": "code",
   "execution_count": 38,
   "id": "d6364569",
   "metadata": {},
   "outputs": [
    {
     "data": {
      "image/png": "[encoded data removed]",
      "text/plain": [
       "<Figure size 762.375x720 with 20 Axes>"
      ]
     },
     "metadata": {
      "needs_background": "light"
     },
     "output_type": "display_data"
    }
   ],
   "source": [
    "sns.pairplot(df_heart,hue='output')\n",
    "plt.show()"
   ]
  },
  {
   "cell_type": "markdown",
   "id": "c5e1533f",
   "metadata": {},
   "source": [
    "We can see that there is no linear relationship among the independent features."
   ]
  },
  {
   "cell_type": "code",
   "execution_count": 39,
   "id": "b3d76db0",
   "metadata": {},
   "outputs": [],
   "source": [
    "#Test for Correlation"
   ]
  },
  {
   "cell_type": "code",
   "execution_count": 40,
   "id": "942a5a07",
   "metadata": {},
   "outputs": [
    {
     "data": {
      "image/png": "[encoded data removed]",
      "text/plain": [
       "<Figure size 432x288 with 2 Axes>"
      ]
     },
     "metadata": {
      "needs_background": "light"
     },
     "output_type": "display_data"
    }
   ],
   "source": [
    "vcorr=df_heart.corr()\n",
    "\n",
    "sns.heatmap(vcorr[(vcorr<-0.60) | (vcorr>0.60)],annot=True)\n",
    "\n",
    "plt.show()"
   ]
  },
  {
   "cell_type": "markdown",
   "id": "06114022",
   "metadata": {},
   "source": [
    "We can see that there is no strong correlation among the independent features."
   ]
  },
  {
   "cell_type": "code",
   "execution_count": 41,
   "id": "454a179f",
   "metadata": {},
   "outputs": [],
   "source": [
    "#Test for Normality"
   ]
  },
  {
   "cell_type": "code",
   "execution_count": 42,
   "id": "f6862cc7",
   "metadata": {},
   "outputs": [],
   "source": [
    "column=['age', 'trtbps', 'thalachh', 'oldpeak']"
   ]
  },
  {
   "cell_type": "code",
   "execution_count": 43,
   "id": "2e614088",
   "metadata": {},
   "outputs": [
    {
     "data": {
      "image/png": "[encoded data removed]",
      "text/plain": [
       "<Figure size 432x288 with 1 Axes>"
      ]
     },
     "metadata": {
      "needs_background": "light"
     },
     "output_type": "display_data"
    },
    {
     "data": {
      "image/png": "[encoded data removed]",
      "text/plain": [
       "<Figure size 432x288 with 1 Axes>"
      ]
     },
     "metadata": {
      "needs_background": "light"
     },
     "output_type": "display_data"
    },
    {
     "data": {
      "image/png": "[encoded data removed]",
      "text/plain": [
       "<Figure size 432x288 with 1 Axes>"
      ]
     },
     "metadata": {
      "needs_background": "light"
     },
     "output_type": "display_data"
    },
    {
     "data": {
      "image/png": "[encoded data removed]",
      "text/plain": [
       "<Figure size 432x288 with 1 Axes>"
      ]
     },
     "metadata": {
      "needs_background": "light"
     },
     "output_type": "display_data"
    }
   ],
   "source": [
    "for col in column:\n",
    "    sns.kdeplot(x=col,data=df_heart)\n",
    "    plt.show()"
   ]
  },
  {
   "cell_type": "code",
   "execution_count": 44,
   "id": "cdf54571",
   "metadata": {},
   "outputs": [
    {
     "data": {
      "text/html": [
       "<div>\n",
       "<style scoped>\n",
       "    .dataframe tbody tr th:only-of-type {\n",
       "        vertical-align: middle;\n",
       "    }\n",
       "\n",
       "    .dataframe tbody tr th {\n",
       "        vertical-align: top;\n",
       "    }\n",
       "\n",
       "    .dataframe thead th {\n",
       "        text-align: right;\n",
       "    }\n",
       "</style>\n",
       "<table border=\"1\" class=\"dataframe\">\n",
       "  <thead>\n",
       "    <tr style=\"text-align: right;\">\n",
       "      <th></th>\n",
       "      <th>age</th>\n",
       "      <th>sex</th>\n",
       "      <th>cp</th>\n",
       "      <th>trtbps</th>\n",
       "      <th>fbs</th>\n",
       "      <th>restecg</th>\n",
       "      <th>thalachh</th>\n",
       "      <th>exng</th>\n",
       "      <th>oldpeak</th>\n",
       "      <th>slp</th>\n",
       "      <th>caa</th>\n",
       "      <th>thall</th>\n",
       "      <th>output</th>\n",
       "      <th>chol_cat</th>\n",
       "    </tr>\n",
       "  </thead>\n",
       "  <tbody>\n",
       "    <tr>\n",
       "      <th>0</th>\n",
       "      <td>63</td>\n",
       "      <td>1</td>\n",
       "      <td>3</td>\n",
       "      <td>145.0</td>\n",
       "      <td>1</td>\n",
       "      <td>0</td>\n",
       "      <td>150.0</td>\n",
       "      <td>0</td>\n",
       "      <td>2.3</td>\n",
       "      <td>0</td>\n",
       "      <td>0</td>\n",
       "      <td>1</td>\n",
       "      <td>1</td>\n",
       "      <td>borderline</td>\n",
       "    </tr>\n",
       "    <tr>\n",
       "      <th>1</th>\n",
       "      <td>37</td>\n",
       "      <td>1</td>\n",
       "      <td>2</td>\n",
       "      <td>130.0</td>\n",
       "      <td>0</td>\n",
       "      <td>1</td>\n",
       "      <td>187.0</td>\n",
       "      <td>0</td>\n",
       "      <td>3.5</td>\n",
       "      <td>0</td>\n",
       "      <td>0</td>\n",
       "      <td>2</td>\n",
       "      <td>1</td>\n",
       "      <td>high</td>\n",
       "    </tr>\n",
       "    <tr>\n",
       "      <th>2</th>\n",
       "      <td>41</td>\n",
       "      <td>0</td>\n",
       "      <td>1</td>\n",
       "      <td>130.0</td>\n",
       "      <td>0</td>\n",
       "      <td>0</td>\n",
       "      <td>172.0</td>\n",
       "      <td>0</td>\n",
       "      <td>1.4</td>\n",
       "      <td>2</td>\n",
       "      <td>0</td>\n",
       "      <td>2</td>\n",
       "      <td>1</td>\n",
       "      <td>borderline</td>\n",
       "    </tr>\n",
       "    <tr>\n",
       "      <th>3</th>\n",
       "      <td>56</td>\n",
       "      <td>1</td>\n",
       "      <td>1</td>\n",
       "      <td>120.0</td>\n",
       "      <td>0</td>\n",
       "      <td>1</td>\n",
       "      <td>178.0</td>\n",
       "      <td>0</td>\n",
       "      <td>0.8</td>\n",
       "      <td>2</td>\n",
       "      <td>0</td>\n",
       "      <td>2</td>\n",
       "      <td>1</td>\n",
       "      <td>borderline</td>\n",
       "    </tr>\n",
       "    <tr>\n",
       "      <th>4</th>\n",
       "      <td>57</td>\n",
       "      <td>0</td>\n",
       "      <td>4</td>\n",
       "      <td>120.0</td>\n",
       "      <td>0</td>\n",
       "      <td>1</td>\n",
       "      <td>163.0</td>\n",
       "      <td>1</td>\n",
       "      <td>0.6</td>\n",
       "      <td>2</td>\n",
       "      <td>0</td>\n",
       "      <td>2</td>\n",
       "      <td>1</td>\n",
       "      <td>high</td>\n",
       "    </tr>\n",
       "  </tbody>\n",
       "</table>\n",
       "</div>"
      ],
      "text/plain": [
       "   age sex cp  trtbps fbs restecg  thalachh exng  oldpeak slp caa thall  \\\n",
       "0   63   1  3   145.0   1       0     150.0    0      2.3   0   0     1   \n",
       "1   37   1  2   130.0   0       1     187.0    0      3.5   0   0     2   \n",
       "2   41   0  1   130.0   0       0     172.0    0      1.4   2   0     2   \n",
       "3   56   1  1   120.0   0       1     178.0    0      0.8   2   0     2   \n",
       "4   57   0  4   120.0   0       1     163.0    1      0.6   2   0     2   \n",
       "\n",
       "  output    chol_cat  \n",
       "0      1  borderline  \n",
       "1      1        high  \n",
       "2      1  borderline  \n",
       "3      1  borderline  \n",
       "4      1        high  "
      ]
     },
     "execution_count": 44,
     "metadata": {},
     "output_type": "execute_result"
    }
   ],
   "source": [
    "df_heart.head()"
   ]
  },
  {
   "cell_type": "code",
   "execution_count": 45,
   "id": "ea77643c",
   "metadata": {},
   "outputs": [],
   "source": [
    "#Converting the output column into numerical column"
   ]
  },
  {
   "cell_type": "code",
   "execution_count": 46,
   "id": "eea72522",
   "metadata": {},
   "outputs": [],
   "source": [
    "df_heart['output']=df_heart['output'].astype('int')"
   ]
  },
  {
   "cell_type": "markdown",
   "id": "e814cbfb",
   "metadata": {},
   "source": [
    "## 4.Dummy Encoding"
   ]
  },
  {
   "cell_type": "code",
   "execution_count": 52,
   "id": "afed004c",
   "metadata": {},
   "outputs": [],
   "source": [
    "#converting other categorical columns into numerical columns"
   ]
  },
  {
   "cell_type": "code",
   "execution_count": 53,
   "id": "2da0ccad",
   "metadata": {},
   "outputs": [],
   "source": [
    "df_heart_dummy=pd.get_dummies(df_heart,drop_first=True)"
   ]
  },
  {
   "cell_type": "code",
   "execution_count": 54,
   "id": "d2583ba6",
   "metadata": {},
   "outputs": [
    {
     "data": {
      "text/plain": [
       "(302, 24)"
      ]
     },
     "execution_count": 54,
     "metadata": {},
     "output_type": "execute_result"
    }
   ],
   "source": [
    "df_heart_dummy.shape"
   ]
  },
  {
   "cell_type": "markdown",
   "id": "813ee5b4",
   "metadata": {},
   "source": [
    "## 5.Separating the Independent and Dependent Variables"
   ]
  },
  {
   "cell_type": "code",
   "execution_count": 56,
   "id": "65f8dc7c",
   "metadata": {},
   "outputs": [],
   "source": [
    "X=df_heart_dummy.drop('output',axis=1)\n",
    "y=df_heart_dummy['output']"
   ]
  },
  {
   "cell_type": "markdown",
   "id": "f52c8067",
   "metadata": {},
   "source": [
    "## 6.PCA"
   ]
  },
  {
   "cell_type": "code",
   "execution_count": 59,
   "id": "b030857d",
   "metadata": {},
   "outputs": [],
   "source": [
    "#Scaling the data"
   ]
  },
  {
   "cell_type": "code",
   "execution_count": 62,
   "id": "2918d28b",
   "metadata": {},
   "outputs": [
    {
     "data": {
      "text/html": [
       "<div>\n",
       "<style scoped>\n",
       "    .dataframe tbody tr th:only-of-type {\n",
       "        vertical-align: middle;\n",
       "    }\n",
       "\n",
       "    .dataframe tbody tr th {\n",
       "        vertical-align: top;\n",
       "    }\n",
       "\n",
       "    .dataframe thead th {\n",
       "        text-align: right;\n",
       "    }\n",
       "</style>\n",
       "<table border=\"1\" class=\"dataframe\">\n",
       "  <thead>\n",
       "    <tr style=\"text-align: right;\">\n",
       "      <th></th>\n",
       "      <th>age</th>\n",
       "      <th>trtbps</th>\n",
       "      <th>thalachh</th>\n",
       "      <th>oldpeak</th>\n",
       "      <th>sex_1</th>\n",
       "      <th>cp_2</th>\n",
       "      <th>cp_3</th>\n",
       "      <th>cp_4</th>\n",
       "      <th>fbs_1</th>\n",
       "      <th>restecg_1</th>\n",
       "      <th>...</th>\n",
       "      <th>slp_2</th>\n",
       "      <th>caa_1</th>\n",
       "      <th>caa_2</th>\n",
       "      <th>caa_3</th>\n",
       "      <th>caa_4</th>\n",
       "      <th>thall_1</th>\n",
       "      <th>thall_2</th>\n",
       "      <th>thall_3</th>\n",
       "      <th>chol_cat_borderline</th>\n",
       "      <th>chol_cat_high</th>\n",
       "    </tr>\n",
       "  </thead>\n",
       "  <tbody>\n",
       "    <tr>\n",
       "      <th>0</th>\n",
       "      <td>0.949794</td>\n",
       "      <td>0.828927</td>\n",
       "      <td>0.017027</td>\n",
       "      <td>1.147606</td>\n",
       "      <td>0.682656</td>\n",
       "      <td>-0.630990</td>\n",
       "      <td>3.482877</td>\n",
       "      <td>-0.948352</td>\n",
       "      <td>2.389793</td>\n",
       "      <td>-1.0</td>\n",
       "      <td>...</td>\n",
       "      <td>-0.935829</td>\n",
       "      <td>-0.5237</td>\n",
       "      <td>-0.379393</td>\n",
       "      <td>-0.266312</td>\n",
       "      <td>-0.115857</td>\n",
       "      <td>3.972125</td>\n",
       "      <td>-1.097442</td>\n",
       "      <td>-0.795256</td>\n",
       "      <td>1.410709</td>\n",
       "      <td>-1.0</td>\n",
       "    </tr>\n",
       "    <tr>\n",
       "      <th>1</th>\n",
       "      <td>-1.928548</td>\n",
       "      <td>-0.075902</td>\n",
       "      <td>1.644957</td>\n",
       "      <td>2.230096</td>\n",
       "      <td>0.682656</td>\n",
       "      <td>1.584812</td>\n",
       "      <td>-0.287119</td>\n",
       "      <td>-0.948352</td>\n",
       "      <td>-0.418446</td>\n",
       "      <td>1.0</td>\n",
       "      <td>...</td>\n",
       "      <td>-0.935829</td>\n",
       "      <td>-0.5237</td>\n",
       "      <td>-0.379393</td>\n",
       "      <td>-0.266312</td>\n",
       "      <td>-0.115857</td>\n",
       "      <td>-0.251754</td>\n",
       "      <td>0.911210</td>\n",
       "      <td>-0.795256</td>\n",
       "      <td>-0.708864</td>\n",
       "      <td>1.0</td>\n",
       "    </tr>\n",
       "    <tr>\n",
       "      <th>2</th>\n",
       "      <td>-1.485726</td>\n",
       "      <td>-0.075902</td>\n",
       "      <td>0.984985</td>\n",
       "      <td>0.335739</td>\n",
       "      <td>-1.464866</td>\n",
       "      <td>-0.630990</td>\n",
       "      <td>-0.287119</td>\n",
       "      <td>-0.948352</td>\n",
       "      <td>-0.418446</td>\n",
       "      <td>-1.0</td>\n",
       "      <td>...</td>\n",
       "      <td>1.068571</td>\n",
       "      <td>-0.5237</td>\n",
       "      <td>-0.379393</td>\n",
       "      <td>-0.266312</td>\n",
       "      <td>-0.115857</td>\n",
       "      <td>-0.251754</td>\n",
       "      <td>0.911210</td>\n",
       "      <td>-0.795256</td>\n",
       "      <td>1.410709</td>\n",
       "      <td>-1.0</td>\n",
       "    </tr>\n",
       "    <tr>\n",
       "      <th>3</th>\n",
       "      <td>0.174856</td>\n",
       "      <td>-0.679121</td>\n",
       "      <td>1.248974</td>\n",
       "      <td>-0.205506</td>\n",
       "      <td>0.682656</td>\n",
       "      <td>-0.630990</td>\n",
       "      <td>-0.287119</td>\n",
       "      <td>-0.948352</td>\n",
       "      <td>-0.418446</td>\n",
       "      <td>1.0</td>\n",
       "      <td>...</td>\n",
       "      <td>1.068571</td>\n",
       "      <td>-0.5237</td>\n",
       "      <td>-0.379393</td>\n",
       "      <td>-0.266312</td>\n",
       "      <td>-0.115857</td>\n",
       "      <td>-0.251754</td>\n",
       "      <td>0.911210</td>\n",
       "      <td>-0.795256</td>\n",
       "      <td>1.410709</td>\n",
       "      <td>-1.0</td>\n",
       "    </tr>\n",
       "    <tr>\n",
       "      <th>4</th>\n",
       "      <td>0.285561</td>\n",
       "      <td>-0.679121</td>\n",
       "      <td>0.589003</td>\n",
       "      <td>-0.385921</td>\n",
       "      <td>-1.464866</td>\n",
       "      <td>-0.630990</td>\n",
       "      <td>-0.287119</td>\n",
       "      <td>1.054461</td>\n",
       "      <td>-0.418446</td>\n",
       "      <td>1.0</td>\n",
       "      <td>...</td>\n",
       "      <td>1.068571</td>\n",
       "      <td>-0.5237</td>\n",
       "      <td>-0.379393</td>\n",
       "      <td>-0.266312</td>\n",
       "      <td>-0.115857</td>\n",
       "      <td>-0.251754</td>\n",
       "      <td>0.911210</td>\n",
       "      <td>-0.795256</td>\n",
       "      <td>-0.708864</td>\n",
       "      <td>1.0</td>\n",
       "    </tr>\n",
       "  </tbody>\n",
       "</table>\n",
       "<p>5 rows × 23 columns</p>\n",
       "</div>"
      ],
      "text/plain": [
       "        age    trtbps  thalachh   oldpeak     sex_1      cp_2      cp_3  \\\n",
       "0  0.949794  0.828927  0.017027  1.147606  0.682656 -0.630990  3.482877   \n",
       "1 -1.928548 -0.075902  1.644957  2.230096  0.682656  1.584812 -0.287119   \n",
       "2 -1.485726 -0.075902  0.984985  0.335739 -1.464866 -0.630990 -0.287119   \n",
       "3  0.174856 -0.679121  1.248974 -0.205506  0.682656 -0.630990 -0.287119   \n",
       "4  0.285561 -0.679121  0.589003 -0.385921 -1.464866 -0.630990 -0.287119   \n",
       "\n",
       "       cp_4     fbs_1  restecg_1  ...     slp_2   caa_1     caa_2     caa_3  \\\n",
       "0 -0.948352  2.389793       -1.0  ... -0.935829 -0.5237 -0.379393 -0.266312   \n",
       "1 -0.948352 -0.418446        1.0  ... -0.935829 -0.5237 -0.379393 -0.266312   \n",
       "2 -0.948352 -0.418446       -1.0  ...  1.068571 -0.5237 -0.379393 -0.266312   \n",
       "3 -0.948352 -0.418446        1.0  ...  1.068571 -0.5237 -0.379393 -0.266312   \n",
       "4  1.054461 -0.418446        1.0  ...  1.068571 -0.5237 -0.379393 -0.266312   \n",
       "\n",
       "      caa_4   thall_1   thall_2   thall_3  chol_cat_borderline  chol_cat_high  \n",
       "0 -0.115857  3.972125 -1.097442 -0.795256             1.410709           -1.0  \n",
       "1 -0.115857 -0.251754  0.911210 -0.795256            -0.708864            1.0  \n",
       "2 -0.115857 -0.251754  0.911210 -0.795256             1.410709           -1.0  \n",
       "3 -0.115857 -0.251754  0.911210 -0.795256             1.410709           -1.0  \n",
       "4 -0.115857 -0.251754  0.911210 -0.795256            -0.708864            1.0  \n",
       "\n",
       "[5 rows x 23 columns]"
      ]
     },
     "execution_count": 62,
     "metadata": {},
     "output_type": "execute_result"
    }
   ],
   "source": [
    "sc=StandardScaler()\n",
    "X_scaled=sc.fit_transform(X)\n",
    "df_X_scaled=pd.DataFrame(X_scaled,columns=X.columns)\n",
    "df_X_scaled.head()"
   ]
  },
  {
   "cell_type": "code",
   "execution_count": 58,
   "id": "da94e2c6",
   "metadata": {},
   "outputs": [],
   "source": [
    "pca=PCA()"
   ]
  },
  {
   "cell_type": "code",
   "execution_count": 64,
   "id": "44fd1e6e",
   "metadata": {},
   "outputs": [
    {
     "data": {
      "text/plain": [
       "array([[ 0.8143953 , -1.33079349,  3.81366042, ..., -0.2690258 ,\n",
       "         0.71516211, -0.0350886 ],\n",
       "       [-1.63891812,  0.37769814,  0.26421539, ..., -0.25354295,\n",
       "         0.84231006,  0.04092003],\n",
       "       [-2.48614358, -0.50368434,  0.63058698, ...,  0.8693746 ,\n",
       "        -0.36419401, -0.02785009],\n",
       "       ...,\n",
       "       [ 3.07490567, -0.55506705,  0.6412761 , ...,  0.33983672,\n",
       "        -0.39949316,  0.00818145],\n",
       "       [ 2.83163871, -1.16966912, -0.84426518, ...,  0.32907235,\n",
       "         0.03528991,  0.00479543],\n",
       "       [-1.05464656,  0.11465832,  1.70454465, ...,  0.95149353,\n",
       "         0.18106955,  0.00416725]])"
      ]
     },
     "execution_count": 64,
     "metadata": {},
     "output_type": "execute_result"
    }
   ],
   "source": [
    "pca_heart=pca.fit_transform(df_X_scaled)\n",
    "pca_heart"
   ]
  },
  {
   "cell_type": "code",
   "execution_count": 65,
   "id": "05e17d0e",
   "metadata": {},
   "outputs": [
    {
     "name": "stdout",
     "output_type": "stream",
     "text": [
      "[0.17816921 0.26653665 0.33970992 0.40771086 0.47021299 0.52324355\n",
      " 0.57462132 0.62372269 0.67117617 0.71391257 0.7541722  0.79217814\n",
      " 0.82657943 0.85980707 0.89054983 0.91475849 0.93713029 0.95773313\n",
      " 0.97423233 0.98594884 0.99529851 0.99949571 1.        ]\n"
     ]
    }
   ],
   "source": [
    "print(np.cumsum(pca.explained_variance_ratio_))"
   ]
  },
  {
   "cell_type": "markdown",
   "id": "7a567ea4",
   "metadata": {},
   "source": [
    "With 19 features,we can explain 97.4% variance in the data."
   ]
  },
  {
   "cell_type": "code",
   "execution_count": 66,
   "id": "c5fe3984",
   "metadata": {},
   "outputs": [
    {
     "data": {
      "text/html": [
       "<div>\n",
       "<style scoped>\n",
       "    .dataframe tbody tr th:only-of-type {\n",
       "        vertical-align: middle;\n",
       "    }\n",
       "\n",
       "    .dataframe tbody tr th {\n",
       "        vertical-align: top;\n",
       "    }\n",
       "\n",
       "    .dataframe thead th {\n",
       "        text-align: right;\n",
       "    }\n",
       "</style>\n",
       "<table border=\"1\" class=\"dataframe\">\n",
       "  <thead>\n",
       "    <tr style=\"text-align: right;\">\n",
       "      <th></th>\n",
       "      <th>0</th>\n",
       "      <th>1</th>\n",
       "      <th>2</th>\n",
       "      <th>3</th>\n",
       "      <th>4</th>\n",
       "      <th>5</th>\n",
       "      <th>6</th>\n",
       "      <th>7</th>\n",
       "      <th>8</th>\n",
       "      <th>9</th>\n",
       "      <th>10</th>\n",
       "      <th>11</th>\n",
       "      <th>12</th>\n",
       "      <th>13</th>\n",
       "      <th>14</th>\n",
       "      <th>15</th>\n",
       "      <th>16</th>\n",
       "      <th>17</th>\n",
       "      <th>18</th>\n",
       "    </tr>\n",
       "  </thead>\n",
       "  <tbody>\n",
       "    <tr>\n",
       "      <th>0</th>\n",
       "      <td>0.814395</td>\n",
       "      <td>-1.330793</td>\n",
       "      <td>3.813660</td>\n",
       "      <td>3.492820</td>\n",
       "      <td>-0.419244</td>\n",
       "      <td>1.880888</td>\n",
       "      <td>0.297904</td>\n",
       "      <td>2.494852</td>\n",
       "      <td>1.372245</td>\n",
       "      <td>-0.569382</td>\n",
       "      <td>0.092034</td>\n",
       "      <td>0.323981</td>\n",
       "      <td>-0.366362</td>\n",
       "      <td>0.431485</td>\n",
       "      <td>0.434538</td>\n",
       "      <td>0.654695</td>\n",
       "      <td>1.312558</td>\n",
       "      <td>-0.678673</td>\n",
       "      <td>-1.217479</td>\n",
       "    </tr>\n",
       "    <tr>\n",
       "      <th>1</th>\n",
       "      <td>-1.638918</td>\n",
       "      <td>0.377698</td>\n",
       "      <td>0.264215</td>\n",
       "      <td>-0.363594</td>\n",
       "      <td>0.778742</td>\n",
       "      <td>-2.020799</td>\n",
       "      <td>-0.172276</td>\n",
       "      <td>0.964949</td>\n",
       "      <td>-0.031775</td>\n",
       "      <td>-1.047287</td>\n",
       "      <td>1.604491</td>\n",
       "      <td>-0.209245</td>\n",
       "      <td>-0.470171</td>\n",
       "      <td>0.274735</td>\n",
       "      <td>-2.057596</td>\n",
       "      <td>-1.908912</td>\n",
       "      <td>0.645573</td>\n",
       "      <td>-0.280077</td>\n",
       "      <td>-0.541007</td>\n",
       "    </tr>\n",
       "    <tr>\n",
       "      <th>2</th>\n",
       "      <td>-2.486144</td>\n",
       "      <td>-0.503684</td>\n",
       "      <td>0.630587</td>\n",
       "      <td>-0.097723</td>\n",
       "      <td>-1.350629</td>\n",
       "      <td>-0.093249</td>\n",
       "      <td>0.357390</td>\n",
       "      <td>0.110643</td>\n",
       "      <td>-1.002630</td>\n",
       "      <td>0.381866</td>\n",
       "      <td>-0.020968</td>\n",
       "      <td>-1.109754</td>\n",
       "      <td>-0.340968</td>\n",
       "      <td>-0.966043</td>\n",
       "      <td>-0.135870</td>\n",
       "      <td>0.047287</td>\n",
       "      <td>1.308034</td>\n",
       "      <td>-0.370070</td>\n",
       "      <td>0.190305</td>\n",
       "    </tr>\n",
       "    <tr>\n",
       "      <th>3</th>\n",
       "      <td>-2.481395</td>\n",
       "      <td>-1.500285</td>\n",
       "      <td>0.254262</td>\n",
       "      <td>0.031144</td>\n",
       "      <td>-0.851525</td>\n",
       "      <td>0.324349</td>\n",
       "      <td>0.331540</td>\n",
       "      <td>-0.323058</td>\n",
       "      <td>-0.477607</td>\n",
       "      <td>-0.208478</td>\n",
       "      <td>-0.295561</td>\n",
       "      <td>0.326220</td>\n",
       "      <td>0.260667</td>\n",
       "      <td>0.327898</td>\n",
       "      <td>-0.297842</td>\n",
       "      <td>-0.635419</td>\n",
       "      <td>-0.488005</td>\n",
       "      <td>0.117254</td>\n",
       "      <td>-1.005847</td>\n",
       "    </tr>\n",
       "    <tr>\n",
       "      <th>4</th>\n",
       "      <td>-0.988782</td>\n",
       "      <td>1.283550</td>\n",
       "      <td>-1.804039</td>\n",
       "      <td>-0.610834</td>\n",
       "      <td>-1.577299</td>\n",
       "      <td>0.066546</td>\n",
       "      <td>0.105564</td>\n",
       "      <td>-0.505006</td>\n",
       "      <td>0.128335</td>\n",
       "      <td>0.216805</td>\n",
       "      <td>-0.157336</td>\n",
       "      <td>0.713978</td>\n",
       "      <td>-1.104625</td>\n",
       "      <td>0.428090</td>\n",
       "      <td>-0.367814</td>\n",
       "      <td>0.609549</td>\n",
       "      <td>0.503525</td>\n",
       "      <td>0.628274</td>\n",
       "      <td>-1.108783</td>\n",
       "    </tr>\n",
       "  </tbody>\n",
       "</table>\n",
       "</div>"
      ],
      "text/plain": [
       "         0         1         2         3         4         5         6   \\\n",
       "0  0.814395 -1.330793  3.813660  3.492820 -0.419244  1.880888  0.297904   \n",
       "1 -1.638918  0.377698  0.264215 -0.363594  0.778742 -2.020799 -0.172276   \n",
       "2 -2.486144 -0.503684  0.630587 -0.097723 -1.350629 -0.093249  0.357390   \n",
       "3 -2.481395 -1.500285  0.254262  0.031144 -0.851525  0.324349  0.331540   \n",
       "4 -0.988782  1.283550 -1.804039 -0.610834 -1.577299  0.066546  0.105564   \n",
       "\n",
       "         7         8         9         10        11        12        13  \\\n",
       "0  2.494852  1.372245 -0.569382  0.092034  0.323981 -0.366362  0.431485   \n",
       "1  0.964949 -0.031775 -1.047287  1.604491 -0.209245 -0.470171  0.274735   \n",
       "2  0.110643 -1.002630  0.381866 -0.020968 -1.109754 -0.340968 -0.966043   \n",
       "3 -0.323058 -0.477607 -0.208478 -0.295561  0.326220  0.260667  0.327898   \n",
       "4 -0.505006  0.128335  0.216805 -0.157336  0.713978 -1.104625  0.428090   \n",
       "\n",
       "         14        15        16        17        18  \n",
       "0  0.434538  0.654695  1.312558 -0.678673 -1.217479  \n",
       "1 -2.057596 -1.908912  0.645573 -0.280077 -0.541007  \n",
       "2 -0.135870  0.047287  1.308034 -0.370070  0.190305  \n",
       "3 -0.297842 -0.635419 -0.488005  0.117254 -1.005847  \n",
       "4 -0.367814  0.609549  0.503525  0.628274 -1.108783  "
      ]
     },
     "execution_count": 66,
     "metadata": {},
     "output_type": "execute_result"
    }
   ],
   "source": [
    "df_pca_heart=pd.DataFrame(pca_heart[:,:19])\n",
    "df_pca_heart.head()"
   ]
  },
  {
   "cell_type": "code",
   "execution_count": 67,
   "id": "2cfe7fd4",
   "metadata": {},
   "outputs": [],
   "source": [
    "X=df_pca_heart"
   ]
  },
  {
   "cell_type": "markdown",
   "id": "ada0c1c2",
   "metadata": {},
   "source": [
    "## 7.Splitting into train and test set"
   ]
  },
  {
   "cell_type": "code",
   "execution_count": 72,
   "id": "3ed68486",
   "metadata": {},
   "outputs": [],
   "source": [
    "X_train,X_test,y_train,y_test=train_test_split(X,y,test_size=0.15,random_state=1)"
   ]
  },
  {
   "cell_type": "code",
   "execution_count": 73,
   "id": "5e0141f1",
   "metadata": {},
   "outputs": [
    {
     "data": {
      "text/plain": [
       "((256, 19), (46, 19), (256,), (46,))"
      ]
     },
     "execution_count": 73,
     "metadata": {},
     "output_type": "execute_result"
    }
   ],
   "source": [
    "X_train.shape,X_test.shape,y_train.shape,y_test.shape"
   ]
  },
  {
   "cell_type": "markdown",
   "id": "6b1d9104",
   "metadata": {},
   "source": [
    "## 8.Scaling the data"
   ]
  },
  {
   "cell_type": "code",
   "execution_count": 75,
   "id": "94e158c3",
   "metadata": {},
   "outputs": [],
   "source": [
    "sc=StandardScaler()\n",
    "\n",
    "X_train_scaled=sc.fit_transform(X_train)\n",
    "X_test_scaled=sc.transform(X_test)"
   ]
  },
  {
   "cell_type": "markdown",
   "id": "4da7ec13",
   "metadata": {},
   "source": [
    "## 9.Finding the best parameters"
   ]
  },
  {
   "cell_type": "code",
   "execution_count": 77,
   "id": "5f2f09c3",
   "metadata": {},
   "outputs": [],
   "source": [
    "#GridSearchCV"
   ]
  },
  {
   "cell_type": "code",
   "execution_count": 78,
   "id": "b0d66f30",
   "metadata": {},
   "outputs": [
    {
     "data": {
      "text/html": [
       "<style>#sk-container-id-1 {color: black;background-color: white;}#sk-container-id-1 pre{padding: 0;}#sk-container-id-1 div.sk-toggleable {background-color: white;}#sk-container-id-1 label.sk-toggleable__label {cursor: pointer;display: block;width: 100%;margin-bottom: 0;padding: 0.3em;box-sizing: border-box;text-align: center;}#sk-container-id-1 label.sk-toggleable__label-arrow:before {content: \"▸\";float: left;margin-right: 0.25em;color: #696969;}#sk-container-id-1 label.sk-toggleable__label-arrow:hover:before {color: black;}#sk-container-id-1 div.sk-estimator:hover label.sk-toggleable__label-arrow:before {color: black;}#sk-container-id-1 div.sk-toggleable__content {max-height: 0;max-width: 0;overflow: hidden;text-align: left;background-color: #f0f8ff;}#sk-container-id-1 div.sk-toggleable__content pre {margin: 0.2em;color: black;border-radius: 0.25em;background-color: #f0f8ff;}#sk-container-id-1 input.sk-toggleable__control:checked~div.sk-toggleable__content {max-height: 200px;max-width: 100%;overflow: auto;}#sk-container-id-1 input.sk-toggleable__control:checked~label.sk-toggleable__label-arrow:before {content: \"▾\";}#sk-container-id-1 div.sk-estimator input.sk-toggleable__control:checked~label.sk-toggleable__label {background-color: #d4ebff;}#sk-container-id-1 div.sk-label input.sk-toggleable__control:checked~label.sk-toggleable__label {background-color: #d4ebff;}#sk-container-id-1 input.sk-hidden--visually {border: 0;clip: rect(1px 1px 1px 1px);clip: rect(1px, 1px, 1px, 1px);height: 1px;margin: -1px;overflow: hidden;padding: 0;position: absolute;width: 1px;}#sk-container-id-1 div.sk-estimator {font-family: monospace;background-color: #f0f8ff;border: 1px dotted black;border-radius: 0.25em;box-sizing: border-box;margin-bottom: 0.5em;}#sk-container-id-1 div.sk-estimator:hover {background-color: #d4ebff;}#sk-container-id-1 div.sk-parallel-item::after {content: \"\";width: 100%;border-bottom: 1px solid gray;flex-grow: 1;}#sk-container-id-1 div.sk-label:hover label.sk-toggleable__label {background-color: #d4ebff;}#sk-container-id-1 div.sk-serial::before {content: \"\";position: absolute;border-left: 1px solid gray;box-sizing: border-box;top: 0;bottom: 0;left: 50%;z-index: 0;}#sk-container-id-1 div.sk-serial {display: flex;flex-direction: column;align-items: center;background-color: white;padding-right: 0.2em;padding-left: 0.2em;position: relative;}#sk-container-id-1 div.sk-item {position: relative;z-index: 1;}#sk-container-id-1 div.sk-parallel {display: flex;align-items: stretch;justify-content: center;background-color: white;position: relative;}#sk-container-id-1 div.sk-item::before, #sk-container-id-1 div.sk-parallel-item::before {content: \"\";position: absolute;border-left: 1px solid gray;box-sizing: border-box;top: 0;bottom: 0;left: 50%;z-index: -1;}#sk-container-id-1 div.sk-parallel-item {display: flex;flex-direction: column;z-index: 1;position: relative;background-color: white;}#sk-container-id-1 div.sk-parallel-item:first-child::after {align-self: flex-end;width: 50%;}#sk-container-id-1 div.sk-parallel-item:last-child::after {align-self: flex-start;width: 50%;}#sk-container-id-1 div.sk-parallel-item:only-child::after {width: 0;}#sk-container-id-1 div.sk-dashed-wrapped {border: 1px dashed gray;margin: 0 0.4em 0.5em 0.4em;box-sizing: border-box;padding-bottom: 0.4em;background-color: white;}#sk-container-id-1 div.sk-label label {font-family: monospace;font-weight: bold;display: inline-block;line-height: 1.2em;}#sk-container-id-1 div.sk-label-container {text-align: center;}#sk-container-id-1 div.sk-container {/* jupyter's `normalize.less` sets `[hidden] { display: none; }` but bootstrap.min.css set `[hidden] { display: none !important; }` so we also need the `!important` here to be able to override the default hidden behavior on the sphinx rendered scikit-learn.org. See: https://github.com/scikit-learn/scikit-learn/issues/21755 */display: inline-block !important;position: relative;}#sk-container-id-1 div.sk-text-repr-fallback {display: none;}</style><div id=\"sk-container-id-1\" class=\"sk-top-container\"><div class=\"sk-text-repr-fallback\"><pre>RandomForestClassifier()</pre><b>In a Jupyter environment, please rerun this cell to show the HTML representation or trust the notebook. <br />On GitHub, the HTML representation is unable to render, please try loading this page with nbviewer.org.</b></div><div class=\"sk-container\" hidden><div class=\"sk-item\"><div class=\"sk-estimator sk-toggleable\"><input class=\"sk-toggleable__control sk-hidden--visually\" id=\"sk-estimator-id-1\" type=\"checkbox\" checked><label for=\"sk-estimator-id-1\" class=\"sk-toggleable__label sk-toggleable__label-arrow\">RandomForestClassifier</label><div class=\"sk-toggleable__content\"><pre>RandomForestClassifier()</pre></div></div></div></div></div>"
      ],
      "text/plain": [
       "RandomForestClassifier()"
      ]
     },
     "execution_count": 78,
     "metadata": {},
     "output_type": "execute_result"
    }
   ],
   "source": [
    "rf=RandomForestClassifier()\n",
    "rf.fit(X_train_scaled,y_train)"
   ]
  },
  {
   "cell_type": "code",
   "execution_count": 79,
   "id": "53aa5880",
   "metadata": {},
   "outputs": [],
   "source": [
    "tuned_parameters={'n_estimators':[85,100],'min_samples_split':[15,20],'max_depth':[8,10]}"
   ]
  },
  {
   "cell_type": "code",
   "execution_count": 80,
   "id": "c1f56e76",
   "metadata": {},
   "outputs": [
    {
     "data": {
      "text/html": [
       "<style>#sk-container-id-2 {color: black;background-color: white;}#sk-container-id-2 pre{padding: 0;}#sk-container-id-2 div.sk-toggleable {background-color: white;}#sk-container-id-2 label.sk-toggleable__label {cursor: pointer;display: block;width: 100%;margin-bottom: 0;padding: 0.3em;box-sizing: border-box;text-align: center;}#sk-container-id-2 label.sk-toggleable__label-arrow:before {content: \"▸\";float: left;margin-right: 0.25em;color: #696969;}#sk-container-id-2 label.sk-toggleable__label-arrow:hover:before {color: black;}#sk-container-id-2 div.sk-estimator:hover label.sk-toggleable__label-arrow:before {color: black;}#sk-container-id-2 div.sk-toggleable__content {max-height: 0;max-width: 0;overflow: hidden;text-align: left;background-color: #f0f8ff;}#sk-container-id-2 div.sk-toggleable__content pre {margin: 0.2em;color: black;border-radius: 0.25em;background-color: #f0f8ff;}#sk-container-id-2 input.sk-toggleable__control:checked~div.sk-toggleable__content {max-height: 200px;max-width: 100%;overflow: auto;}#sk-container-id-2 input.sk-toggleable__control:checked~label.sk-toggleable__label-arrow:before {content: \"▾\";}#sk-container-id-2 div.sk-estimator input.sk-toggleable__control:checked~label.sk-toggleable__label {background-color: #d4ebff;}#sk-container-id-2 div.sk-label input.sk-toggleable__control:checked~label.sk-toggleable__label {background-color: #d4ebff;}#sk-container-id-2 input.sk-hidden--visually {border: 0;clip: rect(1px 1px 1px 1px);clip: rect(1px, 1px, 1px, 1px);height: 1px;margin: -1px;overflow: hidden;padding: 0;position: absolute;width: 1px;}#sk-container-id-2 div.sk-estimator {font-family: monospace;background-color: #f0f8ff;border: 1px dotted black;border-radius: 0.25em;box-sizing: border-box;margin-bottom: 0.5em;}#sk-container-id-2 div.sk-estimator:hover {background-color: #d4ebff;}#sk-container-id-2 div.sk-parallel-item::after {content: \"\";width: 100%;border-bottom: 1px solid gray;flex-grow: 1;}#sk-container-id-2 div.sk-label:hover label.sk-toggleable__label {background-color: #d4ebff;}#sk-container-id-2 div.sk-serial::before {content: \"\";position: absolute;border-left: 1px solid gray;box-sizing: border-box;top: 0;bottom: 0;left: 50%;z-index: 0;}#sk-container-id-2 div.sk-serial {display: flex;flex-direction: column;align-items: center;background-color: white;padding-right: 0.2em;padding-left: 0.2em;position: relative;}#sk-container-id-2 div.sk-item {position: relative;z-index: 1;}#sk-container-id-2 div.sk-parallel {display: flex;align-items: stretch;justify-content: center;background-color: white;position: relative;}#sk-container-id-2 div.sk-item::before, #sk-container-id-2 div.sk-parallel-item::before {content: \"\";position: absolute;border-left: 1px solid gray;box-sizing: border-box;top: 0;bottom: 0;left: 50%;z-index: -1;}#sk-container-id-2 div.sk-parallel-item {display: flex;flex-direction: column;z-index: 1;position: relative;background-color: white;}#sk-container-id-2 div.sk-parallel-item:first-child::after {align-self: flex-end;width: 50%;}#sk-container-id-2 div.sk-parallel-item:last-child::after {align-self: flex-start;width: 50%;}#sk-container-id-2 div.sk-parallel-item:only-child::after {width: 0;}#sk-container-id-2 div.sk-dashed-wrapped {border: 1px dashed gray;margin: 0 0.4em 0.5em 0.4em;box-sizing: border-box;padding-bottom: 0.4em;background-color: white;}#sk-container-id-2 div.sk-label label {font-family: monospace;font-weight: bold;display: inline-block;line-height: 1.2em;}#sk-container-id-2 div.sk-label-container {text-align: center;}#sk-container-id-2 div.sk-container {/* jupyter's `normalize.less` sets `[hidden] { display: none; }` but bootstrap.min.css set `[hidden] { display: none !important; }` so we also need the `!important` here to be able to override the default hidden behavior on the sphinx rendered scikit-learn.org. See: https://github.com/scikit-learn/scikit-learn/issues/21755 */display: inline-block !important;position: relative;}#sk-container-id-2 div.sk-text-repr-fallback {display: none;}</style><div id=\"sk-container-id-2\" class=\"sk-top-container\"><div class=\"sk-text-repr-fallback\"><pre>GridSearchCV(cv=5, estimator=RandomForestClassifier(),\n",
       "             param_grid={&#x27;max_depth&#x27;: [8, 10], &#x27;min_samples_split&#x27;: [15, 20],\n",
       "                         &#x27;n_estimators&#x27;: [85, 100]})</pre><b>In a Jupyter environment, please rerun this cell to show the HTML representation or trust the notebook. <br />On GitHub, the HTML representation is unable to render, please try loading this page with nbviewer.org.</b></div><div class=\"sk-container\" hidden><div class=\"sk-item sk-dashed-wrapped\"><div class=\"sk-label-container\"><div class=\"sk-label sk-toggleable\"><input class=\"sk-toggleable__control sk-hidden--visually\" id=\"sk-estimator-id-2\" type=\"checkbox\" ><label for=\"sk-estimator-id-2\" class=\"sk-toggleable__label sk-toggleable__label-arrow\">GridSearchCV</label><div class=\"sk-toggleable__content\"><pre>GridSearchCV(cv=5, estimator=RandomForestClassifier(),\n",
       "             param_grid={&#x27;max_depth&#x27;: [8, 10], &#x27;min_samples_split&#x27;: [15, 20],\n",
       "                         &#x27;n_estimators&#x27;: [85, 100]})</pre></div></div></div><div class=\"sk-parallel\"><div class=\"sk-parallel-item\"><div class=\"sk-item\"><div class=\"sk-label-container\"><div class=\"sk-label sk-toggleable\"><input class=\"sk-toggleable__control sk-hidden--visually\" id=\"sk-estimator-id-3\" type=\"checkbox\" ><label for=\"sk-estimator-id-3\" class=\"sk-toggleable__label sk-toggleable__label-arrow\">estimator: RandomForestClassifier</label><div class=\"sk-toggleable__content\"><pre>RandomForestClassifier()</pre></div></div></div><div class=\"sk-serial\"><div class=\"sk-item\"><div class=\"sk-estimator sk-toggleable\"><input class=\"sk-toggleable__control sk-hidden--visually\" id=\"sk-estimator-id-4\" type=\"checkbox\" ><label for=\"sk-estimator-id-4\" class=\"sk-toggleable__label sk-toggleable__label-arrow\">RandomForestClassifier</label><div class=\"sk-toggleable__content\"><pre>RandomForestClassifier()</pre></div></div></div></div></div></div></div></div></div></div>"
      ],
      "text/plain": [
       "GridSearchCV(cv=5, estimator=RandomForestClassifier(),\n",
       "             param_grid={'max_depth': [8, 10], 'min_samples_split': [15, 20],\n",
       "                         'n_estimators': [85, 100]})"
      ]
     },
     "execution_count": 80,
     "metadata": {},
     "output_type": "execute_result"
    }
   ],
   "source": [
    "gs_model=GridSearchCV(estimator=rf,param_grid=tuned_parameters,cv=5)\n",
    "gs_model.fit(X_train_scaled,y_train)"
   ]
  },
  {
   "cell_type": "code",
   "execution_count": 81,
   "id": "1d7dfe78",
   "metadata": {},
   "outputs": [
    {
     "name": "stdout",
     "output_type": "stream",
     "text": [
      "Best parameters are:  {'max_depth': 8, 'min_samples_split': 15, 'n_estimators': 100}\n"
     ]
    }
   ],
   "source": [
    "print('Best parameters are: ',gs_model.best_params_)"
   ]
  },
  {
   "cell_type": "code",
   "execution_count": 82,
   "id": "f1d97117",
   "metadata": {},
   "outputs": [],
   "source": [
    "#Finding suitable k in KNN"
   ]
  },
  {
   "cell_type": "code",
   "execution_count": 83,
   "id": "341e506c",
   "metadata": {},
   "outputs": [],
   "source": [
    "k_values=range(3,21)\n",
    "\n",
    "acc_score={}\n",
    "\n",
    "for k in k_values:\n",
    "    knn=KNeighborsClassifier(n_neighbors=k)\n",
    "    knn.fit(X_train_scaled,y_train)\n",
    "    y_pred=knn.predict(X_test_scaled)\n",
    "    acc_score[k]=accuracy_score(y_test,y_pred)"
   ]
  },
  {
   "cell_type": "code",
   "execution_count": 84,
   "id": "c28697a5",
   "metadata": {},
   "outputs": [
    {
     "data": {
      "text/plain": [
       "0.8695652173913043"
      ]
     },
     "execution_count": 84,
     "metadata": {},
     "output_type": "execute_result"
    }
   ],
   "source": [
    "max(acc_score.values())"
   ]
  },
  {
   "cell_type": "code",
   "execution_count": 85,
   "id": "904b53c8",
   "metadata": {},
   "outputs": [
    {
     "data": {
      "text/plain": [
       "4"
      ]
     },
     "execution_count": 85,
     "metadata": {},
     "output_type": "execute_result"
    }
   ],
   "source": [
    "max(acc_score,key=acc_score.get)"
   ]
  },
  {
   "cell_type": "markdown",
   "id": "c98522da",
   "metadata": {},
   "source": [
    "## 10.Model Building"
   ]
  },
  {
   "cell_type": "code",
   "execution_count": 86,
   "id": "f1921727",
   "metadata": {},
   "outputs": [],
   "source": [
    "models=[LogisticRegression(),SGDClassifier(),DecisionTreeClassifier(),RandomForestClassifier(),\n",
    "        RandomForestClassifier(n_estimators=100,min_samples_split=15,max_depth=8),XGBClassifier(dual=False),\n",
    "       KNeighborsClassifier(n_neighbors=4),AdaBoostClassifier(),GradientBoostingClassifier(),\n",
    "       LGBMClassifier(),CatBoostClassifier(),SVC(kernel='linear'),SVC(kernel='rbf'),SVC(kernel='sigmoid'),SVC(kernel='poly'),GaussianNB()]"
   ]
  },
  {
   "cell_type": "code",
   "execution_count": 87,
   "id": "7c30e11b",
   "metadata": {},
   "outputs": [
    {
     "name": "stdout",
     "output_type": "stream",
     "text": [
      "LogisticRegression(): \n",
      "Accuracy:  0.8043478260869565\n",
      "Recall Score:  0.875\n",
      "AUC Score:  0.8011363636363636\n",
      "Confusion Matrix: \n",
      "[[16  6]\n",
      " [ 3 21]]\n",
      "Classification Report: \n",
      "              precision    recall  f1-score   support\n",
      "\n",
      "           0       0.84      0.73      0.78        22\n",
      "           1       0.78      0.88      0.82        24\n",
      "\n",
      "    accuracy                           0.80        46\n",
      "   macro avg       0.81      0.80      0.80        46\n",
      "weighted avg       0.81      0.80      0.80        46\n",
      "\n",
      "\n",
      "SGDClassifier(): \n",
      "Accuracy:  0.7608695652173914\n",
      "Recall Score:  0.875\n",
      "AUC Score:  0.7556818181818181\n",
      "Confusion Matrix: \n",
      "[[14  8]\n",
      " [ 3 21]]\n",
      "Classification Report: \n",
      "              precision    recall  f1-score   support\n",
      "\n",
      "           0       0.82      0.64      0.72        22\n",
      "           1       0.72      0.88      0.79        24\n",
      "\n",
      "    accuracy                           0.76        46\n",
      "   macro avg       0.77      0.76      0.76        46\n",
      "weighted avg       0.77      0.76      0.76        46\n",
      "\n",
      "\n",
      "DecisionTreeClassifier(): \n",
      "Accuracy:  0.7391304347826086\n",
      "Recall Score:  0.75\n",
      "AUC Score:  0.7386363636363636\n",
      "Confusion Matrix: \n",
      "[[16  6]\n",
      " [ 6 18]]\n",
      "Classification Report: \n",
      "              precision    recall  f1-score   support\n",
      "\n",
      "           0       0.73      0.73      0.73        22\n",
      "           1       0.75      0.75      0.75        24\n",
      "\n",
      "    accuracy                           0.74        46\n",
      "   macro avg       0.74      0.74      0.74        46\n",
      "weighted avg       0.74      0.74      0.74        46\n",
      "\n",
      "\n",
      "RandomForestClassifier(): \n",
      "Accuracy:  0.8478260869565217\n",
      "Recall Score:  0.9166666666666666\n",
      "AUC Score:  0.8446969696969696\n",
      "Confusion Matrix: \n",
      "[[17  5]\n",
      " [ 2 22]]\n",
      "Classification Report: \n",
      "              precision    recall  f1-score   support\n",
      "\n",
      "           0       0.89      0.77      0.83        22\n",
      "           1       0.81      0.92      0.86        24\n",
      "\n",
      "    accuracy                           0.85        46\n",
      "   macro avg       0.85      0.84      0.85        46\n",
      "weighted avg       0.85      0.85      0.85        46\n",
      "\n",
      "\n",
      "RandomForestClassifier(max_depth=8, min_samples_split=15): \n",
      "Accuracy:  0.8260869565217391\n",
      "Recall Score:  0.9166666666666666\n",
      "AUC Score:  0.8219696969696969\n",
      "Confusion Matrix: \n",
      "[[16  6]\n",
      " [ 2 22]]\n",
      "Classification Report: \n",
      "              precision    recall  f1-score   support\n",
      "\n",
      "           0       0.89      0.73      0.80        22\n",
      "           1       0.79      0.92      0.85        24\n",
      "\n",
      "    accuracy                           0.83        46\n",
      "   macro avg       0.84      0.82      0.82        46\n",
      "weighted avg       0.84      0.83      0.82        46\n",
      "\n",
      "\n",
      "[20:20:18] WARNING: C:/Users/administrator/workspace/xgboost-win64_release_1.6.0/src/learner.cc:627: \n",
      "Parameters: { \"dual\" } might not be used.\n",
      "\n",
      "  This could be a false alarm, with some parameters getting used by language bindings but\n",
      "  then being mistakenly passed down to XGBoost core, or some parameter actually being used\n",
      "  but getting flagged wrongly here. Please open an issue if you find any such cases.\n",
      "\n",
      "\n",
      "XGBClassifier(base_score=0.5, booster='gbtree', callbacks=None,\n",
      "              colsample_bylevel=1, colsample_bynode=1, colsample_bytree=1,\n",
      "              dual=False, early_stopping_rounds=None, enable_categorical=False,\n",
      "              eval_metric=None, gamma=0, gpu_id=-1, grow_policy='depthwise',\n",
      "              importance_type=None, interaction_constraints='',\n",
      "              learning_rate=0.300000012, max_bin=256, max_cat_to_onehot=4,\n",
      "              max_delta_step=0, max_depth=6, max_leaves=0, min_child_weight=1,\n",
      "              missing=nan, monotone_constraints='()', n_estimators=100,\n",
      "              n_jobs=0, num_parallel_tree=1, predictor='auto', random_state=0,\n",
      "              reg_alpha=0, ...): \n",
      "Accuracy:  0.8260869565217391\n",
      "Recall Score:  0.9166666666666666\n",
      "AUC Score:  0.8219696969696969\n",
      "Confusion Matrix: \n",
      "[[16  6]\n",
      " [ 2 22]]\n",
      "Classification Report: \n",
      "              precision    recall  f1-score   support\n",
      "\n",
      "           0       0.89      0.73      0.80        22\n",
      "           1       0.79      0.92      0.85        24\n",
      "\n",
      "    accuracy                           0.83        46\n",
      "   macro avg       0.84      0.82      0.82        46\n",
      "weighted avg       0.84      0.83      0.82        46\n",
      "\n",
      "\n",
      "KNeighborsClassifier(n_neighbors=4): \n",
      "Accuracy:  0.8695652173913043\n",
      "Recall Score:  0.9166666666666666\n",
      "AUC Score:  0.8674242424242423\n",
      "Confusion Matrix: \n",
      "[[18  4]\n",
      " [ 2 22]]\n",
      "Classification Report: \n",
      "              precision    recall  f1-score   support\n",
      "\n",
      "           0       0.90      0.82      0.86        22\n",
      "           1       0.85      0.92      0.88        24\n",
      "\n",
      "    accuracy                           0.87        46\n",
      "   macro avg       0.87      0.87      0.87        46\n",
      "weighted avg       0.87      0.87      0.87        46\n",
      "\n",
      "\n",
      "AdaBoostClassifier(): \n",
      "Accuracy:  0.8043478260869565\n",
      "Recall Score:  0.875\n",
      "AUC Score:  0.8011363636363636\n",
      "Confusion Matrix: \n",
      "[[16  6]\n",
      " [ 3 21]]\n",
      "Classification Report: \n",
      "              precision    recall  f1-score   support\n",
      "\n",
      "           0       0.84      0.73      0.78        22\n",
      "           1       0.78      0.88      0.82        24\n",
      "\n",
      "    accuracy                           0.80        46\n",
      "   macro avg       0.81      0.80      0.80        46\n",
      "weighted avg       0.81      0.80      0.80        46\n",
      "\n",
      "\n",
      "GradientBoostingClassifier(): \n",
      "Accuracy:  0.8478260869565217\n",
      "Recall Score:  0.9583333333333334\n",
      "AUC Score:  0.8428030303030303\n",
      "Confusion Matrix: \n",
      "[[16  6]\n",
      " [ 1 23]]\n",
      "Classification Report: \n",
      "              precision    recall  f1-score   support\n",
      "\n",
      "           0       0.94      0.73      0.82        22\n",
      "           1       0.79      0.96      0.87        24\n",
      "\n",
      "    accuracy                           0.85        46\n",
      "   macro avg       0.87      0.84      0.84        46\n",
      "weighted avg       0.86      0.85      0.85        46\n",
      "\n",
      "\n",
      "LGBMClassifier(): \n",
      "Accuracy:  0.8478260869565217\n",
      "Recall Score:  0.9583333333333334\n",
      "AUC Score:  0.8428030303030303\n",
      "Confusion Matrix: \n",
      "[[16  6]\n",
      " [ 1 23]]\n",
      "Classification Report: \n",
      "              precision    recall  f1-score   support\n",
      "\n",
      "           0       0.94      0.73      0.82        22\n",
      "           1       0.79      0.96      0.87        24\n",
      "\n",
      "    accuracy                           0.85        46\n",
      "   macro avg       0.87      0.84      0.84        46\n",
      "weighted avg       0.86      0.85      0.85        46\n",
      "\n",
      "\n",
      "Learning rate set to 0.005758\n",
      "0:\tlearn: 0.6892047\ttotal: 168ms\tremaining: 2m 47s\n",
      "1:\tlearn: 0.6856744\ttotal: 177ms\tremaining: 1m 28s\n",
      "2:\tlearn: 0.6815314\ttotal: 185ms\tremaining: 1m 1s\n",
      "3:\tlearn: 0.6776656\ttotal: 193ms\tremaining: 48.1s\n",
      "4:\tlearn: 0.6733048\ttotal: 201ms\tremaining: 40.1s\n",
      "5:\tlearn: 0.6692805\ttotal: 210ms\tremaining: 34.8s\n",
      "6:\tlearn: 0.6655105\ttotal: 218ms\tremaining: 30.9s\n",
      "7:\tlearn: 0.6620554\ttotal: 227ms\tremaining: 28.2s\n",
      "8:\tlearn: 0.6581992\ttotal: 236ms\tremaining: 26s\n",
      "9:\tlearn: 0.6548249\ttotal: 244ms\tremaining: 24.2s\n",
      "10:\tlearn: 0.6509060\ttotal: 252ms\tremaining: 22.7s\n",
      "11:\tlearn: 0.6465893\ttotal: 262ms\tremaining: 21.6s\n",
      "12:\tlearn: 0.6428647\ttotal: 270ms\tremaining: 20.5s\n",
      "13:\tlearn: 0.6388904\ttotal: 278ms\tremaining: 19.6s\n",
      "14:\tlearn: 0.6346962\ttotal: 286ms\tremaining: 18.8s\n",
      "15:\tlearn: 0.6305712\ttotal: 293ms\tremaining: 18s\n",
      "16:\tlearn: 0.6269350\ttotal: 303ms\tremaining: 17.5s\n",
      "17:\tlearn: 0.6237305\ttotal: 310ms\tremaining: 16.9s\n",
      "18:\tlearn: 0.6201757\ttotal: 318ms\tremaining: 16.4s\n",
      "19:\tlearn: 0.6166348\ttotal: 326ms\tremaining: 16s\n",
      "20:\tlearn: 0.6120517\ttotal: 335ms\tremaining: 15.6s\n",
      "21:\tlearn: 0.6092012\ttotal: 344ms\tremaining: 15.3s\n",
      "22:\tlearn: 0.6058667\ttotal: 352ms\tremaining: 14.9s\n",
      "23:\tlearn: 0.6032426\ttotal: 362ms\tremaining: 14.7s\n",
      "24:\tlearn: 0.6003777\ttotal: 372ms\tremaining: 14.5s\n",
      "25:\tlearn: 0.5969995\ttotal: 380ms\tremaining: 14.3s\n",
      "26:\tlearn: 0.5934320\ttotal: 390ms\tremaining: 14.1s\n",
      "27:\tlearn: 0.5901642\ttotal: 398ms\tremaining: 13.8s\n",
      "28:\tlearn: 0.5870755\ttotal: 406ms\tremaining: 13.6s\n",
      "29:\tlearn: 0.5839189\ttotal: 415ms\tremaining: 13.4s\n",
      "30:\tlearn: 0.5813849\ttotal: 422ms\tremaining: 13.2s\n",
      "31:\tlearn: 0.5784125\ttotal: 431ms\tremaining: 13s\n",
      "32:\tlearn: 0.5749286\ttotal: 440ms\tremaining: 12.9s\n",
      "33:\tlearn: 0.5722573\ttotal: 449ms\tremaining: 12.8s\n",
      "34:\tlearn: 0.5695440\ttotal: 457ms\tremaining: 12.6s\n",
      "35:\tlearn: 0.5659767\ttotal: 466ms\tremaining: 12.5s\n",
      "36:\tlearn: 0.5635538\ttotal: 475ms\tremaining: 12.3s\n",
      "37:\tlearn: 0.5607107\ttotal: 482ms\tremaining: 12.2s\n",
      "38:\tlearn: 0.5571569\ttotal: 491ms\tremaining: 12.1s\n",
      "39:\tlearn: 0.5542744\ttotal: 501ms\tremaining: 12s\n",
      "40:\tlearn: 0.5517785\ttotal: 510ms\tremaining: 11.9s\n",
      "41:\tlearn: 0.5484941\ttotal: 518ms\tremaining: 11.8s\n",
      "42:\tlearn: 0.5459670\ttotal: 526ms\tremaining: 11.7s\n",
      "43:\tlearn: 0.5433666\ttotal: 534ms\tremaining: 11.6s\n",
      "44:\tlearn: 0.5409125\ttotal: 544ms\tremaining: 11.5s\n",
      "45:\tlearn: 0.5382781\ttotal: 553ms\tremaining: 11.5s\n"
     ]
    },
    {
     "name": "stdout",
     "output_type": "stream",
     "text": [
      "46:\tlearn: 0.5355434\ttotal: 560ms\tremaining: 11.4s\n",
      "47:\tlearn: 0.5332304\ttotal: 569ms\tremaining: 11.3s\n",
      "48:\tlearn: 0.5310199\ttotal: 575ms\tremaining: 11.2s\n",
      "49:\tlearn: 0.5283007\ttotal: 584ms\tremaining: 11.1s\n",
      "50:\tlearn: 0.5262722\ttotal: 591ms\tremaining: 11s\n",
      "51:\tlearn: 0.5240935\ttotal: 600ms\tremaining: 10.9s\n",
      "52:\tlearn: 0.5215639\ttotal: 608ms\tremaining: 10.9s\n",
      "53:\tlearn: 0.5187609\ttotal: 617ms\tremaining: 10.8s\n",
      "54:\tlearn: 0.5167280\ttotal: 625ms\tremaining: 10.7s\n",
      "55:\tlearn: 0.5139488\ttotal: 633ms\tremaining: 10.7s\n",
      "56:\tlearn: 0.5113254\ttotal: 641ms\tremaining: 10.6s\n",
      "57:\tlearn: 0.5088925\ttotal: 649ms\tremaining: 10.5s\n",
      "58:\tlearn: 0.5065344\ttotal: 659ms\tremaining: 10.5s\n",
      "59:\tlearn: 0.5034634\ttotal: 667ms\tremaining: 10.4s\n",
      "60:\tlearn: 0.5012611\ttotal: 675ms\tremaining: 10.4s\n",
      "61:\tlearn: 0.4986044\ttotal: 683ms\tremaining: 10.3s\n",
      "62:\tlearn: 0.4964425\ttotal: 690ms\tremaining: 10.3s\n",
      "63:\tlearn: 0.4945734\ttotal: 698ms\tremaining: 10.2s\n",
      "64:\tlearn: 0.4928017\ttotal: 706ms\tremaining: 10.2s\n",
      "65:\tlearn: 0.4902864\ttotal: 714ms\tremaining: 10.1s\n",
      "66:\tlearn: 0.4887686\ttotal: 722ms\tremaining: 10s\n",
      "67:\tlearn: 0.4867126\ttotal: 729ms\tremaining: 9.99s\n",
      "68:\tlearn: 0.4843754\ttotal: 737ms\tremaining: 9.95s\n",
      "69:\tlearn: 0.4815248\ttotal: 745ms\tremaining: 9.9s\n",
      "70:\tlearn: 0.4795321\ttotal: 752ms\tremaining: 9.84s\n",
      "71:\tlearn: 0.4773120\ttotal: 760ms\tremaining: 9.8s\n",
      "72:\tlearn: 0.4755053\ttotal: 769ms\tremaining: 9.76s\n",
      "73:\tlearn: 0.4735986\ttotal: 777ms\tremaining: 9.72s\n",
      "74:\tlearn: 0.4715099\ttotal: 784ms\tremaining: 9.68s\n",
      "75:\tlearn: 0.4693583\ttotal: 792ms\tremaining: 9.62s\n",
      "76:\tlearn: 0.4673589\ttotal: 799ms\tremaining: 9.58s\n",
      "77:\tlearn: 0.4650640\ttotal: 808ms\tremaining: 9.55s\n",
      "78:\tlearn: 0.4626176\ttotal: 816ms\tremaining: 9.51s\n",
      "79:\tlearn: 0.4607725\ttotal: 824ms\tremaining: 9.47s\n",
      "80:\tlearn: 0.4586090\ttotal: 832ms\tremaining: 9.44s\n",
      "81:\tlearn: 0.4564972\ttotal: 840ms\tremaining: 9.4s\n",
      "82:\tlearn: 0.4542487\ttotal: 848ms\tremaining: 9.37s\n",
      "83:\tlearn: 0.4519493\ttotal: 856ms\tremaining: 9.33s\n",
      "84:\tlearn: 0.4499584\ttotal: 864ms\tremaining: 9.3s\n",
      "85:\tlearn: 0.4481577\ttotal: 872ms\tremaining: 9.27s\n",
      "86:\tlearn: 0.4455405\ttotal: 880ms\tremaining: 9.23s\n",
      "87:\tlearn: 0.4440001\ttotal: 887ms\tremaining: 9.2s\n",
      "88:\tlearn: 0.4421867\ttotal: 895ms\tremaining: 9.16s\n",
      "89:\tlearn: 0.4404584\ttotal: 903ms\tremaining: 9.13s\n",
      "90:\tlearn: 0.4381387\ttotal: 910ms\tremaining: 9.09s\n",
      "91:\tlearn: 0.4358654\ttotal: 918ms\tremaining: 9.06s\n",
      "92:\tlearn: 0.4340549\ttotal: 924ms\tremaining: 9.01s\n",
      "93:\tlearn: 0.4323487\ttotal: 932ms\tremaining: 8.98s\n",
      "94:\tlearn: 0.4308778\ttotal: 941ms\tremaining: 8.97s\n",
      "95:\tlearn: 0.4292364\ttotal: 950ms\tremaining: 8.94s\n",
      "96:\tlearn: 0.4271526\ttotal: 958ms\tremaining: 8.92s\n",
      "97:\tlearn: 0.4256493\ttotal: 967ms\tremaining: 8.9s\n",
      "98:\tlearn: 0.4237552\ttotal: 976ms\tremaining: 8.88s\n",
      "99:\tlearn: 0.4223573\ttotal: 986ms\tremaining: 8.87s\n",
      "100:\tlearn: 0.4208788\ttotal: 996ms\tremaining: 8.86s\n",
      "101:\tlearn: 0.4191015\ttotal: 1s\tremaining: 8.85s\n",
      "102:\tlearn: 0.4174274\ttotal: 1.01s\tremaining: 8.83s\n",
      "103:\tlearn: 0.4159414\ttotal: 1.02s\tremaining: 8.81s\n",
      "104:\tlearn: 0.4142892\ttotal: 1.03s\tremaining: 8.8s\n",
      "105:\tlearn: 0.4131898\ttotal: 1.04s\tremaining: 8.77s\n",
      "106:\tlearn: 0.4117503\ttotal: 1.05s\tremaining: 8.76s\n",
      "107:\tlearn: 0.4103290\ttotal: 1.06s\tremaining: 8.72s\n",
      "108:\tlearn: 0.4088118\ttotal: 1.06s\tremaining: 8.69s\n",
      "109:\tlearn: 0.4067641\ttotal: 1.07s\tremaining: 8.67s\n",
      "110:\tlearn: 0.4047149\ttotal: 1.08s\tremaining: 8.65s\n",
      "111:\tlearn: 0.4031351\ttotal: 1.09s\tremaining: 8.61s\n",
      "112:\tlearn: 0.4018054\ttotal: 1.09s\tremaining: 8.58s\n",
      "113:\tlearn: 0.4007627\ttotal: 1.1s\tremaining: 8.55s\n",
      "114:\tlearn: 0.3990972\ttotal: 1.11s\tremaining: 8.51s\n",
      "115:\tlearn: 0.3976214\ttotal: 1.11s\tremaining: 8.49s\n",
      "116:\tlearn: 0.3960558\ttotal: 1.12s\tremaining: 8.47s\n",
      "117:\tlearn: 0.3948306\ttotal: 1.13s\tremaining: 8.45s\n",
      "118:\tlearn: 0.3930207\ttotal: 1.14s\tremaining: 8.43s\n",
      "119:\tlearn: 0.3917797\ttotal: 1.15s\tremaining: 8.4s\n",
      "120:\tlearn: 0.3901476\ttotal: 1.15s\tremaining: 8.37s\n",
      "121:\tlearn: 0.3885193\ttotal: 1.16s\tremaining: 8.36s\n",
      "122:\tlearn: 0.3867950\ttotal: 1.17s\tremaining: 8.34s\n",
      "123:\tlearn: 0.3855284\ttotal: 1.18s\tremaining: 8.31s\n",
      "124:\tlearn: 0.3841296\ttotal: 1.18s\tremaining: 8.29s\n",
      "125:\tlearn: 0.3830849\ttotal: 1.19s\tremaining: 8.27s\n",
      "126:\tlearn: 0.3819025\ttotal: 1.2s\tremaining: 8.24s\n",
      "127:\tlearn: 0.3805050\ttotal: 1.21s\tremaining: 8.21s\n",
      "128:\tlearn: 0.3791058\ttotal: 1.21s\tremaining: 8.19s\n",
      "129:\tlearn: 0.3775581\ttotal: 1.22s\tremaining: 8.16s\n",
      "130:\tlearn: 0.3760202\ttotal: 1.23s\tremaining: 8.14s\n",
      "131:\tlearn: 0.3746040\ttotal: 1.23s\tremaining: 8.11s\n",
      "132:\tlearn: 0.3732561\ttotal: 1.24s\tremaining: 8.09s\n",
      "133:\tlearn: 0.3721130\ttotal: 1.25s\tremaining: 8.07s\n",
      "134:\tlearn: 0.3707792\ttotal: 1.26s\tremaining: 8.05s\n",
      "135:\tlearn: 0.3694232\ttotal: 1.26s\tremaining: 8.03s\n",
      "136:\tlearn: 0.3681585\ttotal: 1.27s\tremaining: 8.02s\n",
      "137:\tlearn: 0.3670245\ttotal: 1.28s\tremaining: 7.99s\n",
      "138:\tlearn: 0.3659474\ttotal: 1.29s\tremaining: 7.97s\n",
      "139:\tlearn: 0.3648554\ttotal: 1.29s\tremaining: 7.95s\n",
      "140:\tlearn: 0.3637138\ttotal: 1.3s\tremaining: 7.93s\n",
      "141:\tlearn: 0.3623884\ttotal: 1.31s\tremaining: 7.92s\n",
      "142:\tlearn: 0.3610436\ttotal: 1.32s\tremaining: 7.91s\n",
      "143:\tlearn: 0.3598383\ttotal: 1.33s\tremaining: 7.89s\n",
      "144:\tlearn: 0.3586982\ttotal: 1.33s\tremaining: 7.87s\n",
      "145:\tlearn: 0.3570663\ttotal: 1.34s\tremaining: 7.85s\n",
      "146:\tlearn: 0.3563174\ttotal: 1.35s\tremaining: 7.84s\n",
      "147:\tlearn: 0.3550628\ttotal: 1.36s\tremaining: 7.82s\n",
      "148:\tlearn: 0.3537710\ttotal: 1.37s\tremaining: 7.81s\n",
      "149:\tlearn: 0.3524653\ttotal: 1.37s\tremaining: 7.79s\n",
      "150:\tlearn: 0.3510396\ttotal: 1.38s\tremaining: 7.78s\n",
      "151:\tlearn: 0.3494211\ttotal: 1.39s\tremaining: 7.76s\n",
      "152:\tlearn: 0.3478884\ttotal: 1.4s\tremaining: 7.75s\n",
      "153:\tlearn: 0.3465950\ttotal: 1.41s\tremaining: 7.73s\n",
      "154:\tlearn: 0.3453151\ttotal: 1.42s\tremaining: 7.72s\n",
      "155:\tlearn: 0.3441594\ttotal: 1.42s\tremaining: 7.7s\n",
      "156:\tlearn: 0.3425780\ttotal: 1.43s\tremaining: 7.69s\n",
      "157:\tlearn: 0.3414996\ttotal: 1.44s\tremaining: 7.68s\n",
      "158:\tlearn: 0.3403182\ttotal: 1.45s\tremaining: 7.66s\n",
      "159:\tlearn: 0.3392097\ttotal: 1.46s\tremaining: 7.65s\n",
      "160:\tlearn: 0.3381958\ttotal: 1.47s\tremaining: 7.63s\n",
      "161:\tlearn: 0.3372754\ttotal: 1.47s\tremaining: 7.62s\n",
      "162:\tlearn: 0.3360200\ttotal: 1.48s\tremaining: 7.61s\n",
      "163:\tlearn: 0.3348880\ttotal: 1.49s\tremaining: 7.6s\n",
      "164:\tlearn: 0.3335978\ttotal: 1.5s\tremaining: 7.58s\n",
      "165:\tlearn: 0.3326926\ttotal: 1.51s\tremaining: 7.57s\n",
      "166:\tlearn: 0.3318134\ttotal: 1.51s\tremaining: 7.55s\n",
      "167:\tlearn: 0.3306060\ttotal: 1.52s\tremaining: 7.53s\n",
      "168:\tlearn: 0.3295972\ttotal: 1.53s\tremaining: 7.51s\n",
      "169:\tlearn: 0.3287437\ttotal: 1.54s\tremaining: 7.5s\n",
      "170:\tlearn: 0.3276641\ttotal: 1.54s\tremaining: 7.49s\n",
      "171:\tlearn: 0.3265088\ttotal: 1.55s\tremaining: 7.47s\n",
      "172:\tlearn: 0.3252752\ttotal: 1.56s\tremaining: 7.46s\n",
      "173:\tlearn: 0.3241849\ttotal: 1.57s\tremaining: 7.45s\n",
      "174:\tlearn: 0.3228638\ttotal: 1.58s\tremaining: 7.44s\n",
      "175:\tlearn: 0.3219076\ttotal: 1.59s\tremaining: 7.43s\n",
      "176:\tlearn: 0.3206274\ttotal: 1.59s\tremaining: 7.41s\n",
      "177:\tlearn: 0.3196368\ttotal: 1.6s\tremaining: 7.39s\n",
      "178:\tlearn: 0.3185053\ttotal: 1.61s\tremaining: 7.38s\n",
      "179:\tlearn: 0.3175957\ttotal: 1.61s\tremaining: 7.36s\n",
      "180:\tlearn: 0.3164615\ttotal: 1.62s\tremaining: 7.35s\n",
      "181:\tlearn: 0.3155822\ttotal: 1.63s\tremaining: 7.33s\n",
      "182:\tlearn: 0.3144134\ttotal: 1.64s\tremaining: 7.32s\n",
      "183:\tlearn: 0.3131142\ttotal: 1.65s\tremaining: 7.3s\n",
      "184:\tlearn: 0.3121490\ttotal: 1.65s\tremaining: 7.28s\n",
      "185:\tlearn: 0.3114020\ttotal: 1.66s\tremaining: 7.27s\n",
      "186:\tlearn: 0.3108850\ttotal: 1.67s\tremaining: 7.25s\n",
      "187:\tlearn: 0.3102121\ttotal: 1.68s\tremaining: 7.24s\n",
      "188:\tlearn: 0.3092313\ttotal: 1.68s\tremaining: 7.22s\n",
      "189:\tlearn: 0.3084385\ttotal: 1.69s\tremaining: 7.21s\n",
      "190:\tlearn: 0.3076352\ttotal: 1.7s\tremaining: 7.2s\n",
      "191:\tlearn: 0.3064123\ttotal: 1.71s\tremaining: 7.18s\n",
      "192:\tlearn: 0.3054798\ttotal: 1.72s\tremaining: 7.18s\n",
      "193:\tlearn: 0.3043754\ttotal: 1.73s\tremaining: 7.17s\n",
      "194:\tlearn: 0.3036402\ttotal: 1.73s\tremaining: 7.15s\n",
      "195:\tlearn: 0.3022317\ttotal: 1.74s\tremaining: 7.14s\n",
      "196:\tlearn: 0.3010966\ttotal: 1.75s\tremaining: 7.13s\n",
      "197:\tlearn: 0.2999967\ttotal: 1.76s\tremaining: 7.12s\n",
      "198:\tlearn: 0.2991228\ttotal: 1.77s\tremaining: 7.11s\n",
      "199:\tlearn: 0.2983459\ttotal: 1.77s\tremaining: 7.1s\n",
      "200:\tlearn: 0.2975132\ttotal: 1.78s\tremaining: 7.09s\n",
      "201:\tlearn: 0.2966449\ttotal: 1.79s\tremaining: 7.08s\n",
      "202:\tlearn: 0.2955829\ttotal: 1.8s\tremaining: 7.07s\n",
      "203:\tlearn: 0.2947746\ttotal: 1.81s\tremaining: 7.06s\n",
      "204:\tlearn: 0.2936477\ttotal: 1.82s\tremaining: 7.05s\n",
      "205:\tlearn: 0.2926271\ttotal: 1.82s\tremaining: 7.04s\n",
      "206:\tlearn: 0.2918609\ttotal: 1.83s\tremaining: 7.03s\n",
      "207:\tlearn: 0.2910022\ttotal: 1.84s\tremaining: 7.02s\n",
      "208:\tlearn: 0.2904291\ttotal: 1.85s\tremaining: 7.01s\n",
      "209:\tlearn: 0.2893564\ttotal: 1.86s\tremaining: 6.99s\n",
      "210:\tlearn: 0.2885289\ttotal: 1.87s\tremaining: 6.98s\n",
      "211:\tlearn: 0.2875561\ttotal: 1.88s\tremaining: 6.97s\n"
     ]
    },
    {
     "name": "stdout",
     "output_type": "stream",
     "text": [
      "212:\tlearn: 0.2871157\ttotal: 1.88s\tremaining: 6.96s\n",
      "213:\tlearn: 0.2864895\ttotal: 1.89s\tremaining: 6.94s\n",
      "214:\tlearn: 0.2854541\ttotal: 1.9s\tremaining: 6.93s\n",
      "215:\tlearn: 0.2847639\ttotal: 1.91s\tremaining: 6.92s\n",
      "216:\tlearn: 0.2840373\ttotal: 1.92s\tremaining: 6.91s\n",
      "217:\tlearn: 0.2832441\ttotal: 1.92s\tremaining: 6.9s\n",
      "218:\tlearn: 0.2825696\ttotal: 1.93s\tremaining: 6.89s\n",
      "219:\tlearn: 0.2817333\ttotal: 1.94s\tremaining: 6.88s\n",
      "220:\tlearn: 0.2808239\ttotal: 1.95s\tremaining: 6.87s\n",
      "221:\tlearn: 0.2799650\ttotal: 1.96s\tremaining: 6.86s\n",
      "222:\tlearn: 0.2792464\ttotal: 1.97s\tremaining: 6.85s\n",
      "223:\tlearn: 0.2786320\ttotal: 1.97s\tremaining: 6.84s\n",
      "224:\tlearn: 0.2779493\ttotal: 1.98s\tremaining: 6.83s\n",
      "225:\tlearn: 0.2773947\ttotal: 1.99s\tremaining: 6.82s\n",
      "226:\tlearn: 0.2766358\ttotal: 2s\tremaining: 6.8s\n",
      "227:\tlearn: 0.2757910\ttotal: 2s\tremaining: 6.79s\n",
      "228:\tlearn: 0.2748393\ttotal: 2.01s\tremaining: 6.78s\n",
      "229:\tlearn: 0.2738845\ttotal: 2.02s\tremaining: 6.76s\n",
      "230:\tlearn: 0.2732113\ttotal: 2.03s\tremaining: 6.75s\n",
      "231:\tlearn: 0.2726839\ttotal: 2.04s\tremaining: 6.74s\n",
      "232:\tlearn: 0.2719951\ttotal: 2.06s\tremaining: 6.77s\n",
      "233:\tlearn: 0.2711711\ttotal: 2.06s\tremaining: 6.76s\n",
      "234:\tlearn: 0.2704940\ttotal: 2.07s\tremaining: 6.74s\n",
      "235:\tlearn: 0.2696822\ttotal: 2.08s\tremaining: 6.73s\n",
      "236:\tlearn: 0.2691355\ttotal: 2.09s\tremaining: 6.73s\n",
      "237:\tlearn: 0.2683877\ttotal: 2.1s\tremaining: 6.71s\n",
      "238:\tlearn: 0.2679574\ttotal: 2.1s\tremaining: 6.7s\n",
      "239:\tlearn: 0.2669048\ttotal: 2.11s\tremaining: 6.69s\n",
      "240:\tlearn: 0.2662686\ttotal: 2.12s\tremaining: 6.67s\n",
      "241:\tlearn: 0.2656259\ttotal: 2.13s\tremaining: 6.67s\n",
      "242:\tlearn: 0.2648410\ttotal: 2.14s\tremaining: 6.66s\n",
      "243:\tlearn: 0.2640101\ttotal: 2.15s\tremaining: 6.65s\n",
      "244:\tlearn: 0.2633689\ttotal: 2.15s\tremaining: 6.64s\n",
      "245:\tlearn: 0.2627598\ttotal: 2.16s\tremaining: 6.63s\n",
      "246:\tlearn: 0.2620459\ttotal: 2.17s\tremaining: 6.62s\n",
      "247:\tlearn: 0.2611271\ttotal: 2.18s\tremaining: 6.61s\n",
      "248:\tlearn: 0.2601659\ttotal: 2.19s\tremaining: 6.59s\n",
      "249:\tlearn: 0.2597168\ttotal: 2.19s\tremaining: 6.58s\n",
      "250:\tlearn: 0.2587517\ttotal: 2.2s\tremaining: 6.57s\n",
      "251:\tlearn: 0.2579143\ttotal: 2.21s\tremaining: 6.56s\n",
      "252:\tlearn: 0.2572874\ttotal: 2.22s\tremaining: 6.56s\n",
      "253:\tlearn: 0.2564352\ttotal: 2.23s\tremaining: 6.55s\n",
      "254:\tlearn: 0.2556416\ttotal: 2.24s\tremaining: 6.54s\n",
      "255:\tlearn: 0.2552631\ttotal: 2.25s\tremaining: 6.53s\n",
      "256:\tlearn: 0.2545814\ttotal: 2.25s\tremaining: 6.52s\n",
      "257:\tlearn: 0.2537353\ttotal: 2.26s\tremaining: 6.5s\n",
      "258:\tlearn: 0.2532293\ttotal: 2.27s\tremaining: 6.49s\n",
      "259:\tlearn: 0.2525046\ttotal: 2.27s\tremaining: 6.48s\n",
      "260:\tlearn: 0.2519868\ttotal: 2.28s\tremaining: 6.47s\n",
      "261:\tlearn: 0.2512596\ttotal: 2.29s\tremaining: 6.46s\n",
      "262:\tlearn: 0.2508491\ttotal: 2.3s\tremaining: 6.45s\n",
      "263:\tlearn: 0.2500826\ttotal: 2.31s\tremaining: 6.44s\n",
      "264:\tlearn: 0.2494024\ttotal: 2.32s\tremaining: 6.43s\n",
      "265:\tlearn: 0.2488439\ttotal: 2.33s\tremaining: 6.42s\n",
      "266:\tlearn: 0.2482269\ttotal: 2.34s\tremaining: 6.41s\n",
      "267:\tlearn: 0.2475549\ttotal: 2.34s\tremaining: 6.4s\n",
      "268:\tlearn: 0.2469598\ttotal: 2.35s\tremaining: 6.4s\n",
      "269:\tlearn: 0.2465653\ttotal: 2.36s\tremaining: 6.39s\n",
      "270:\tlearn: 0.2458973\ttotal: 2.37s\tremaining: 6.38s\n",
      "271:\tlearn: 0.2453346\ttotal: 2.38s\tremaining: 6.37s\n",
      "272:\tlearn: 0.2446061\ttotal: 2.39s\tremaining: 6.36s\n",
      "273:\tlearn: 0.2441878\ttotal: 2.4s\tremaining: 6.35s\n",
      "274:\tlearn: 0.2437177\ttotal: 2.4s\tremaining: 6.33s\n",
      "275:\tlearn: 0.2429943\ttotal: 2.41s\tremaining: 6.32s\n",
      "276:\tlearn: 0.2425452\ttotal: 2.42s\tremaining: 6.31s\n",
      "277:\tlearn: 0.2418151\ttotal: 2.43s\tremaining: 6.3s\n",
      "278:\tlearn: 0.2412390\ttotal: 2.43s\tremaining: 6.29s\n",
      "279:\tlearn: 0.2406114\ttotal: 2.44s\tremaining: 6.28s\n",
      "280:\tlearn: 0.2400744\ttotal: 2.45s\tremaining: 6.27s\n",
      "281:\tlearn: 0.2393785\ttotal: 2.46s\tremaining: 6.25s\n",
      "282:\tlearn: 0.2387857\ttotal: 2.46s\tremaining: 6.24s\n",
      "283:\tlearn: 0.2382554\ttotal: 2.47s\tremaining: 6.23s\n",
      "284:\tlearn: 0.2376544\ttotal: 2.48s\tremaining: 6.22s\n",
      "285:\tlearn: 0.2370026\ttotal: 2.48s\tremaining: 6.21s\n",
      "286:\tlearn: 0.2365277\ttotal: 2.49s\tremaining: 6.19s\n",
      "287:\tlearn: 0.2359625\ttotal: 2.5s\tremaining: 6.18s\n",
      "288:\tlearn: 0.2355014\ttotal: 2.51s\tremaining: 6.17s\n",
      "289:\tlearn: 0.2349381\ttotal: 2.52s\tremaining: 6.16s\n",
      "290:\tlearn: 0.2342665\ttotal: 2.52s\tremaining: 6.15s\n",
      "291:\tlearn: 0.2336683\ttotal: 2.54s\tremaining: 6.15s\n",
      "292:\tlearn: 0.2332003\ttotal: 2.54s\tremaining: 6.14s\n",
      "293:\tlearn: 0.2326345\ttotal: 2.55s\tremaining: 6.13s\n",
      "294:\tlearn: 0.2323380\ttotal: 2.56s\tremaining: 6.12s\n",
      "295:\tlearn: 0.2321651\ttotal: 2.57s\tremaining: 6.11s\n",
      "296:\tlearn: 0.2315714\ttotal: 2.58s\tremaining: 6.11s\n",
      "297:\tlearn: 0.2312139\ttotal: 2.59s\tremaining: 6.1s\n",
      "298:\tlearn: 0.2306041\ttotal: 2.6s\tremaining: 6.09s\n",
      "299:\tlearn: 0.2302064\ttotal: 2.61s\tremaining: 6.08s\n",
      "300:\tlearn: 0.2298007\ttotal: 2.61s\tremaining: 6.07s\n",
      "301:\tlearn: 0.2293328\ttotal: 2.62s\tremaining: 6.06s\n",
      "302:\tlearn: 0.2288857\ttotal: 2.63s\tremaining: 6.05s\n",
      "303:\tlearn: 0.2285065\ttotal: 2.64s\tremaining: 6.04s\n",
      "304:\tlearn: 0.2279918\ttotal: 2.65s\tremaining: 6.03s\n",
      "305:\tlearn: 0.2274552\ttotal: 2.65s\tremaining: 6.02s\n",
      "306:\tlearn: 0.2268952\ttotal: 2.66s\tremaining: 6.01s\n",
      "307:\tlearn: 0.2264836\ttotal: 2.67s\tremaining: 6s\n",
      "308:\tlearn: 0.2259714\ttotal: 2.68s\tremaining: 5.99s\n",
      "309:\tlearn: 0.2251936\ttotal: 2.69s\tremaining: 5.98s\n",
      "310:\tlearn: 0.2247926\ttotal: 2.69s\tremaining: 5.97s\n",
      "311:\tlearn: 0.2239611\ttotal: 2.7s\tremaining: 5.96s\n",
      "312:\tlearn: 0.2234245\ttotal: 2.71s\tremaining: 5.95s\n",
      "313:\tlearn: 0.2229228\ttotal: 2.72s\tremaining: 5.94s\n",
      "314:\tlearn: 0.2224100\ttotal: 2.73s\tremaining: 5.93s\n",
      "315:\tlearn: 0.2220917\ttotal: 2.74s\tremaining: 5.92s\n",
      "316:\tlearn: 0.2214154\ttotal: 2.75s\tremaining: 5.92s\n",
      "317:\tlearn: 0.2209350\ttotal: 2.75s\tremaining: 5.91s\n",
      "318:\tlearn: 0.2204413\ttotal: 2.76s\tremaining: 5.9s\n",
      "319:\tlearn: 0.2199783\ttotal: 2.77s\tremaining: 5.89s\n",
      "320:\tlearn: 0.2194142\ttotal: 2.78s\tremaining: 5.88s\n",
      "321:\tlearn: 0.2188956\ttotal: 2.79s\tremaining: 5.87s\n",
      "322:\tlearn: 0.2184063\ttotal: 2.79s\tremaining: 5.86s\n",
      "323:\tlearn: 0.2179301\ttotal: 2.8s\tremaining: 5.85s\n",
      "324:\tlearn: 0.2175508\ttotal: 2.81s\tremaining: 5.84s\n",
      "325:\tlearn: 0.2168690\ttotal: 2.82s\tremaining: 5.83s\n",
      "326:\tlearn: 0.2164152\ttotal: 2.83s\tremaining: 5.81s\n",
      "327:\tlearn: 0.2160828\ttotal: 2.83s\tremaining: 5.8s\n",
      "328:\tlearn: 0.2156775\ttotal: 2.84s\tremaining: 5.79s\n",
      "329:\tlearn: 0.2153754\ttotal: 2.85s\tremaining: 5.78s\n",
      "330:\tlearn: 0.2150938\ttotal: 2.85s\tremaining: 5.77s\n",
      "331:\tlearn: 0.2145128\ttotal: 2.86s\tremaining: 5.76s\n",
      "332:\tlearn: 0.2141054\ttotal: 2.87s\tremaining: 5.75s\n",
      "333:\tlearn: 0.2135187\ttotal: 2.88s\tremaining: 5.74s\n",
      "334:\tlearn: 0.2131412\ttotal: 2.88s\tremaining: 5.73s\n",
      "335:\tlearn: 0.2127681\ttotal: 2.89s\tremaining: 5.72s\n",
      "336:\tlearn: 0.2122249\ttotal: 2.9s\tremaining: 5.71s\n",
      "337:\tlearn: 0.2117148\ttotal: 2.91s\tremaining: 5.7s\n",
      "338:\tlearn: 0.2114775\ttotal: 2.92s\tremaining: 5.68s\n",
      "339:\tlearn: 0.2110420\ttotal: 2.92s\tremaining: 5.67s\n",
      "340:\tlearn: 0.2106487\ttotal: 2.93s\tremaining: 5.66s\n",
      "341:\tlearn: 0.2100627\ttotal: 2.94s\tremaining: 5.65s\n",
      "342:\tlearn: 0.2096676\ttotal: 2.94s\tremaining: 5.64s\n",
      "343:\tlearn: 0.2091868\ttotal: 2.95s\tremaining: 5.63s\n",
      "344:\tlearn: 0.2086286\ttotal: 2.96s\tremaining: 5.62s\n",
      "345:\tlearn: 0.2082996\ttotal: 2.97s\tremaining: 5.61s\n",
      "346:\tlearn: 0.2076212\ttotal: 2.97s\tremaining: 5.6s\n",
      "347:\tlearn: 0.2073379\ttotal: 2.98s\tremaining: 5.59s\n",
      "348:\tlearn: 0.2070528\ttotal: 2.99s\tremaining: 5.58s\n",
      "349:\tlearn: 0.2065526\ttotal: 3s\tremaining: 5.57s\n",
      "350:\tlearn: 0.2059923\ttotal: 3s\tremaining: 5.56s\n",
      "351:\tlearn: 0.2054943\ttotal: 3.01s\tremaining: 5.54s\n",
      "352:\tlearn: 0.2051722\ttotal: 3.02s\tremaining: 5.53s\n",
      "353:\tlearn: 0.2046670\ttotal: 3.03s\tremaining: 5.52s\n",
      "354:\tlearn: 0.2041101\ttotal: 3.04s\tremaining: 5.52s\n",
      "355:\tlearn: 0.2037886\ttotal: 3.04s\tremaining: 5.51s\n",
      "356:\tlearn: 0.2034349\ttotal: 3.05s\tremaining: 5.5s\n",
      "357:\tlearn: 0.2029280\ttotal: 3.06s\tremaining: 5.49s\n",
      "358:\tlearn: 0.2025461\ttotal: 3.07s\tremaining: 5.47s\n",
      "359:\tlearn: 0.2022120\ttotal: 3.07s\tremaining: 5.46s\n",
      "360:\tlearn: 0.2018510\ttotal: 3.08s\tremaining: 5.45s\n",
      "361:\tlearn: 0.2013594\ttotal: 3.09s\tremaining: 5.44s\n",
      "362:\tlearn: 0.2009725\ttotal: 3.1s\tremaining: 5.43s\n",
      "363:\tlearn: 0.2005319\ttotal: 3.1s\tremaining: 5.42s\n",
      "364:\tlearn: 0.2002013\ttotal: 3.11s\tremaining: 5.41s\n",
      "365:\tlearn: 0.1998302\ttotal: 3.12s\tremaining: 5.4s\n",
      "366:\tlearn: 0.1993762\ttotal: 3.13s\tremaining: 5.39s\n",
      "367:\tlearn: 0.1988911\ttotal: 3.13s\tremaining: 5.38s\n",
      "368:\tlearn: 0.1983276\ttotal: 3.14s\tremaining: 5.37s\n",
      "369:\tlearn: 0.1978860\ttotal: 3.15s\tremaining: 5.36s\n",
      "370:\tlearn: 0.1974591\ttotal: 3.15s\tremaining: 5.35s\n",
      "371:\tlearn: 0.1971779\ttotal: 3.16s\tremaining: 5.34s\n",
      "372:\tlearn: 0.1966226\ttotal: 3.17s\tremaining: 5.33s\n",
      "373:\tlearn: 0.1961112\ttotal: 3.18s\tremaining: 5.32s\n",
      "374:\tlearn: 0.1958517\ttotal: 3.19s\tremaining: 5.31s\n",
      "375:\tlearn: 0.1952584\ttotal: 3.19s\tremaining: 5.3s\n",
      "376:\tlearn: 0.1947128\ttotal: 3.2s\tremaining: 5.29s\n",
      "377:\tlearn: 0.1944003\ttotal: 3.21s\tremaining: 5.28s\n",
      "378:\tlearn: 0.1937615\ttotal: 3.22s\tremaining: 5.28s\n",
      "379:\tlearn: 0.1935133\ttotal: 3.23s\tremaining: 5.26s\n",
      "380:\tlearn: 0.1932171\ttotal: 3.23s\tremaining: 5.25s\n",
      "381:\tlearn: 0.1928690\ttotal: 3.24s\tremaining: 5.25s\n",
      "382:\tlearn: 0.1924721\ttotal: 3.25s\tremaining: 5.24s\n",
      "383:\tlearn: 0.1921976\ttotal: 3.26s\tremaining: 5.23s\n",
      "384:\tlearn: 0.1918067\ttotal: 3.27s\tremaining: 5.22s\n",
      "385:\tlearn: 0.1914002\ttotal: 3.28s\tremaining: 5.21s\n",
      "386:\tlearn: 0.1910386\ttotal: 3.28s\tremaining: 5.2s\n",
      "387:\tlearn: 0.1907563\ttotal: 3.29s\tremaining: 5.19s\n",
      "388:\tlearn: 0.1903560\ttotal: 3.3s\tremaining: 5.18s\n",
      "389:\tlearn: 0.1900356\ttotal: 3.31s\tremaining: 5.17s\n",
      "390:\tlearn: 0.1897150\ttotal: 3.32s\tremaining: 5.17s\n",
      "391:\tlearn: 0.1894444\ttotal: 3.33s\tremaining: 5.16s\n",
      "392:\tlearn: 0.1892083\ttotal: 3.33s\tremaining: 5.15s\n"
     ]
    },
    {
     "name": "stdout",
     "output_type": "stream",
     "text": [
      "393:\tlearn: 0.1888782\ttotal: 3.34s\tremaining: 5.14s\n",
      "394:\tlearn: 0.1883236\ttotal: 3.35s\tremaining: 5.13s\n",
      "395:\tlearn: 0.1880421\ttotal: 3.36s\tremaining: 5.12s\n",
      "396:\tlearn: 0.1876002\ttotal: 3.37s\tremaining: 5.11s\n",
      "397:\tlearn: 0.1872087\ttotal: 3.37s\tremaining: 5.1s\n",
      "398:\tlearn: 0.1867494\ttotal: 3.38s\tremaining: 5.09s\n",
      "399:\tlearn: 0.1863803\ttotal: 3.39s\tremaining: 5.09s\n",
      "400:\tlearn: 0.1858095\ttotal: 3.4s\tremaining: 5.08s\n",
      "401:\tlearn: 0.1854307\ttotal: 3.41s\tremaining: 5.07s\n",
      "402:\tlearn: 0.1851682\ttotal: 3.42s\tremaining: 5.06s\n",
      "403:\tlearn: 0.1848491\ttotal: 3.42s\tremaining: 5.05s\n",
      "404:\tlearn: 0.1842950\ttotal: 3.43s\tremaining: 5.04s\n",
      "405:\tlearn: 0.1838310\ttotal: 3.44s\tremaining: 5.04s\n",
      "406:\tlearn: 0.1834914\ttotal: 3.45s\tremaining: 5.03s\n",
      "407:\tlearn: 0.1831562\ttotal: 3.46s\tremaining: 5.02s\n",
      "408:\tlearn: 0.1827840\ttotal: 3.47s\tremaining: 5.01s\n",
      "409:\tlearn: 0.1823342\ttotal: 3.47s\tremaining: 5s\n",
      "410:\tlearn: 0.1820194\ttotal: 3.48s\tremaining: 4.99s\n",
      "411:\tlearn: 0.1817478\ttotal: 3.49s\tremaining: 4.98s\n",
      "412:\tlearn: 0.1814607\ttotal: 3.5s\tremaining: 4.97s\n",
      "413:\tlearn: 0.1810046\ttotal: 3.51s\tremaining: 4.96s\n",
      "414:\tlearn: 0.1806046\ttotal: 3.51s\tremaining: 4.95s\n",
      "415:\tlearn: 0.1803842\ttotal: 3.52s\tremaining: 4.94s\n",
      "416:\tlearn: 0.1801061\ttotal: 3.53s\tremaining: 4.94s\n",
      "417:\tlearn: 0.1797694\ttotal: 3.54s\tremaining: 4.93s\n",
      "418:\tlearn: 0.1793133\ttotal: 3.55s\tremaining: 4.92s\n",
      "419:\tlearn: 0.1790285\ttotal: 3.55s\tremaining: 4.91s\n",
      "420:\tlearn: 0.1785531\ttotal: 3.56s\tremaining: 4.9s\n",
      "421:\tlearn: 0.1783589\ttotal: 3.57s\tremaining: 4.89s\n",
      "422:\tlearn: 0.1780692\ttotal: 3.58s\tremaining: 4.88s\n",
      "423:\tlearn: 0.1776772\ttotal: 3.59s\tremaining: 4.87s\n",
      "424:\tlearn: 0.1774236\ttotal: 3.59s\tremaining: 4.86s\n",
      "425:\tlearn: 0.1772629\ttotal: 3.6s\tremaining: 4.85s\n",
      "426:\tlearn: 0.1769528\ttotal: 3.61s\tremaining: 4.84s\n",
      "427:\tlearn: 0.1766192\ttotal: 3.62s\tremaining: 4.83s\n",
      "428:\tlearn: 0.1762204\ttotal: 3.62s\tremaining: 4.82s\n",
      "429:\tlearn: 0.1759209\ttotal: 3.63s\tremaining: 4.81s\n",
      "430:\tlearn: 0.1756520\ttotal: 3.64s\tremaining: 4.8s\n",
      "431:\tlearn: 0.1753249\ttotal: 3.65s\tremaining: 4.79s\n",
      "432:\tlearn: 0.1751274\ttotal: 3.65s\tremaining: 4.78s\n",
      "433:\tlearn: 0.1746586\ttotal: 3.66s\tremaining: 4.77s\n",
      "434:\tlearn: 0.1743366\ttotal: 3.67s\tremaining: 4.76s\n",
      "435:\tlearn: 0.1740109\ttotal: 3.67s\tremaining: 4.75s\n",
      "436:\tlearn: 0.1737046\ttotal: 3.68s\tremaining: 4.74s\n",
      "437:\tlearn: 0.1735017\ttotal: 3.69s\tremaining: 4.73s\n",
      "438:\tlearn: 0.1731608\ttotal: 3.69s\tremaining: 4.72s\n",
      "439:\tlearn: 0.1728908\ttotal: 3.7s\tremaining: 4.71s\n",
      "440:\tlearn: 0.1726507\ttotal: 3.71s\tremaining: 4.7s\n",
      "441:\tlearn: 0.1724806\ttotal: 3.72s\tremaining: 4.69s\n",
      "442:\tlearn: 0.1722711\ttotal: 3.72s\tremaining: 4.68s\n",
      "443:\tlearn: 0.1718767\ttotal: 3.73s\tremaining: 4.67s\n",
      "444:\tlearn: 0.1714559\ttotal: 3.74s\tremaining: 4.66s\n",
      "445:\tlearn: 0.1711328\ttotal: 3.75s\tremaining: 4.65s\n",
      "446:\tlearn: 0.1707149\ttotal: 3.75s\tremaining: 4.64s\n",
      "447:\tlearn: 0.1703976\ttotal: 3.76s\tremaining: 4.63s\n",
      "448:\tlearn: 0.1700369\ttotal: 3.77s\tremaining: 4.63s\n",
      "449:\tlearn: 0.1698439\ttotal: 3.78s\tremaining: 4.62s\n",
      "450:\tlearn: 0.1695235\ttotal: 3.78s\tremaining: 4.6s\n",
      "451:\tlearn: 0.1692515\ttotal: 3.79s\tremaining: 4.59s\n",
      "452:\tlearn: 0.1688677\ttotal: 3.8s\tremaining: 4.58s\n",
      "453:\tlearn: 0.1684480\ttotal: 3.8s\tremaining: 4.58s\n",
      "454:\tlearn: 0.1682655\ttotal: 3.81s\tremaining: 4.57s\n",
      "455:\tlearn: 0.1679808\ttotal: 3.82s\tremaining: 4.56s\n",
      "456:\tlearn: 0.1677523\ttotal: 3.83s\tremaining: 4.55s\n",
      "457:\tlearn: 0.1673446\ttotal: 3.83s\tremaining: 4.54s\n",
      "458:\tlearn: 0.1670311\ttotal: 3.84s\tremaining: 4.53s\n",
      "459:\tlearn: 0.1667739\ttotal: 3.85s\tremaining: 4.52s\n",
      "460:\tlearn: 0.1664017\ttotal: 3.86s\tremaining: 4.51s\n",
      "461:\tlearn: 0.1660285\ttotal: 3.86s\tremaining: 4.5s\n",
      "462:\tlearn: 0.1657408\ttotal: 3.87s\tremaining: 4.49s\n",
      "463:\tlearn: 0.1655291\ttotal: 3.88s\tremaining: 4.48s\n",
      "464:\tlearn: 0.1651710\ttotal: 3.89s\tremaining: 4.47s\n",
      "465:\tlearn: 0.1648361\ttotal: 3.9s\tremaining: 4.46s\n",
      "466:\tlearn: 0.1645626\ttotal: 3.9s\tremaining: 4.45s\n",
      "467:\tlearn: 0.1641251\ttotal: 3.91s\tremaining: 4.44s\n",
      "468:\tlearn: 0.1638856\ttotal: 3.92s\tremaining: 4.43s\n",
      "469:\tlearn: 0.1634071\ttotal: 3.92s\tremaining: 4.42s\n",
      "470:\tlearn: 0.1630867\ttotal: 3.93s\tremaining: 4.42s\n",
      "471:\tlearn: 0.1628436\ttotal: 3.94s\tremaining: 4.41s\n",
      "472:\tlearn: 0.1625974\ttotal: 3.95s\tremaining: 4.4s\n",
      "473:\tlearn: 0.1622927\ttotal: 3.96s\tremaining: 4.39s\n",
      "474:\tlearn: 0.1618368\ttotal: 3.96s\tremaining: 4.38s\n",
      "475:\tlearn: 0.1615384\ttotal: 3.97s\tremaining: 4.37s\n",
      "476:\tlearn: 0.1611484\ttotal: 3.98s\tremaining: 4.36s\n",
      "477:\tlearn: 0.1608244\ttotal: 3.99s\tremaining: 4.35s\n",
      "478:\tlearn: 0.1605985\ttotal: 3.99s\tremaining: 4.34s\n",
      "479:\tlearn: 0.1602922\ttotal: 4s\tremaining: 4.33s\n",
      "480:\tlearn: 0.1600345\ttotal: 4.01s\tremaining: 4.33s\n",
      "481:\tlearn: 0.1596965\ttotal: 4.02s\tremaining: 4.32s\n",
      "482:\tlearn: 0.1594379\ttotal: 4.02s\tremaining: 4.31s\n",
      "483:\tlearn: 0.1589915\ttotal: 4.03s\tremaining: 4.29s\n",
      "484:\tlearn: 0.1588439\ttotal: 4.04s\tremaining: 4.29s\n",
      "485:\tlearn: 0.1586071\ttotal: 4.04s\tremaining: 4.28s\n",
      "486:\tlearn: 0.1584800\ttotal: 4.05s\tremaining: 4.27s\n",
      "487:\tlearn: 0.1582182\ttotal: 4.06s\tremaining: 4.26s\n",
      "488:\tlearn: 0.1578947\ttotal: 4.07s\tremaining: 4.25s\n",
      "489:\tlearn: 0.1575033\ttotal: 4.07s\tremaining: 4.24s\n",
      "490:\tlearn: 0.1572737\ttotal: 4.08s\tremaining: 4.23s\n",
      "491:\tlearn: 0.1570940\ttotal: 4.09s\tremaining: 4.22s\n",
      "492:\tlearn: 0.1567529\ttotal: 4.09s\tremaining: 4.21s\n",
      "493:\tlearn: 0.1564437\ttotal: 4.1s\tremaining: 4.2s\n",
      "494:\tlearn: 0.1561380\ttotal: 4.11s\tremaining: 4.19s\n",
      "495:\tlearn: 0.1559505\ttotal: 4.12s\tremaining: 4.18s\n",
      "496:\tlearn: 0.1557394\ttotal: 4.13s\tremaining: 4.17s\n",
      "497:\tlearn: 0.1552425\ttotal: 4.13s\tremaining: 4.16s\n",
      "498:\tlearn: 0.1549320\ttotal: 4.14s\tremaining: 4.15s\n",
      "499:\tlearn: 0.1545357\ttotal: 4.15s\tremaining: 4.15s\n",
      "500:\tlearn: 0.1542180\ttotal: 4.15s\tremaining: 4.14s\n",
      "501:\tlearn: 0.1537905\ttotal: 4.16s\tremaining: 4.13s\n",
      "502:\tlearn: 0.1534634\ttotal: 4.17s\tremaining: 4.12s\n",
      "503:\tlearn: 0.1532576\ttotal: 4.18s\tremaining: 4.11s\n",
      "504:\tlearn: 0.1529280\ttotal: 4.18s\tremaining: 4.1s\n",
      "505:\tlearn: 0.1527618\ttotal: 4.19s\tremaining: 4.09s\n",
      "506:\tlearn: 0.1523926\ttotal: 4.2s\tremaining: 4.08s\n",
      "507:\tlearn: 0.1521710\ttotal: 4.21s\tremaining: 4.07s\n",
      "508:\tlearn: 0.1518177\ttotal: 4.21s\tremaining: 4.07s\n",
      "509:\tlearn: 0.1515249\ttotal: 4.22s\tremaining: 4.06s\n",
      "510:\tlearn: 0.1511536\ttotal: 4.23s\tremaining: 4.05s\n",
      "511:\tlearn: 0.1507127\ttotal: 4.24s\tremaining: 4.04s\n",
      "512:\tlearn: 0.1503863\ttotal: 4.25s\tremaining: 4.03s\n",
      "513:\tlearn: 0.1499968\ttotal: 4.26s\tremaining: 4.02s\n",
      "514:\tlearn: 0.1496983\ttotal: 4.26s\tremaining: 4.01s\n",
      "515:\tlearn: 0.1494400\ttotal: 4.27s\tremaining: 4.01s\n",
      "516:\tlearn: 0.1492750\ttotal: 4.28s\tremaining: 4s\n",
      "517:\tlearn: 0.1489466\ttotal: 4.29s\tremaining: 3.99s\n",
      "518:\tlearn: 0.1486971\ttotal: 4.3s\tremaining: 3.98s\n",
      "519:\tlearn: 0.1483831\ttotal: 4.3s\tremaining: 3.97s\n",
      "520:\tlearn: 0.1481787\ttotal: 4.31s\tremaining: 3.96s\n",
      "521:\tlearn: 0.1479561\ttotal: 4.32s\tremaining: 3.96s\n",
      "522:\tlearn: 0.1476563\ttotal: 4.33s\tremaining: 3.95s\n",
      "523:\tlearn: 0.1474274\ttotal: 4.34s\tremaining: 3.94s\n",
      "524:\tlearn: 0.1471634\ttotal: 4.34s\tremaining: 3.93s\n",
      "525:\tlearn: 0.1468156\ttotal: 4.36s\tremaining: 3.92s\n",
      "526:\tlearn: 0.1464007\ttotal: 4.36s\tremaining: 3.92s\n",
      "527:\tlearn: 0.1462392\ttotal: 4.37s\tremaining: 3.91s\n",
      "528:\tlearn: 0.1459830\ttotal: 4.38s\tremaining: 3.9s\n",
      "529:\tlearn: 0.1458468\ttotal: 4.39s\tremaining: 3.89s\n",
      "530:\tlearn: 0.1455801\ttotal: 4.4s\tremaining: 3.89s\n",
      "531:\tlearn: 0.1452951\ttotal: 4.41s\tremaining: 3.88s\n",
      "532:\tlearn: 0.1450037\ttotal: 4.42s\tremaining: 3.87s\n",
      "533:\tlearn: 0.1447975\ttotal: 4.42s\tremaining: 3.86s\n",
      "534:\tlearn: 0.1445670\ttotal: 4.43s\tremaining: 3.85s\n",
      "535:\tlearn: 0.1442869\ttotal: 4.44s\tremaining: 3.85s\n",
      "536:\tlearn: 0.1440561\ttotal: 4.45s\tremaining: 3.84s\n",
      "537:\tlearn: 0.1437576\ttotal: 4.46s\tremaining: 3.83s\n",
      "538:\tlearn: 0.1436375\ttotal: 4.47s\tremaining: 3.82s\n",
      "539:\tlearn: 0.1433345\ttotal: 4.48s\tremaining: 3.81s\n",
      "540:\tlearn: 0.1430700\ttotal: 4.49s\tremaining: 3.81s\n",
      "541:\tlearn: 0.1426469\ttotal: 4.5s\tremaining: 3.8s\n",
      "542:\tlearn: 0.1423835\ttotal: 4.5s\tremaining: 3.79s\n",
      "543:\tlearn: 0.1421089\ttotal: 4.51s\tremaining: 3.78s\n",
      "544:\tlearn: 0.1418782\ttotal: 4.52s\tremaining: 3.77s\n",
      "545:\tlearn: 0.1416700\ttotal: 4.53s\tremaining: 3.76s\n",
      "546:\tlearn: 0.1415403\ttotal: 4.54s\tremaining: 3.75s\n",
      "547:\tlearn: 0.1411559\ttotal: 4.54s\tremaining: 3.75s\n",
      "548:\tlearn: 0.1408325\ttotal: 4.55s\tremaining: 3.74s\n",
      "549:\tlearn: 0.1406002\ttotal: 4.56s\tremaining: 3.73s\n",
      "550:\tlearn: 0.1403265\ttotal: 4.57s\tremaining: 3.72s\n",
      "551:\tlearn: 0.1400965\ttotal: 4.57s\tremaining: 3.71s\n",
      "552:\tlearn: 0.1397543\ttotal: 4.58s\tremaining: 3.7s\n",
      "553:\tlearn: 0.1394562\ttotal: 4.59s\tremaining: 3.69s\n",
      "554:\tlearn: 0.1392689\ttotal: 4.6s\tremaining: 3.69s\n"
     ]
    },
    {
     "name": "stdout",
     "output_type": "stream",
     "text": [
      "555:\tlearn: 0.1390053\ttotal: 4.61s\tremaining: 3.68s\n",
      "556:\tlearn: 0.1387383\ttotal: 4.61s\tremaining: 3.67s\n",
      "557:\tlearn: 0.1384477\ttotal: 4.62s\tremaining: 3.66s\n",
      "558:\tlearn: 0.1382412\ttotal: 4.63s\tremaining: 3.65s\n",
      "559:\tlearn: 0.1379527\ttotal: 4.64s\tremaining: 3.64s\n",
      "560:\tlearn: 0.1377824\ttotal: 4.65s\tremaining: 3.63s\n",
      "561:\tlearn: 0.1375304\ttotal: 4.65s\tremaining: 3.63s\n",
      "562:\tlearn: 0.1372425\ttotal: 4.66s\tremaining: 3.62s\n",
      "563:\tlearn: 0.1369885\ttotal: 4.67s\tremaining: 3.61s\n",
      "564:\tlearn: 0.1367602\ttotal: 4.68s\tremaining: 3.6s\n",
      "565:\tlearn: 0.1365269\ttotal: 4.69s\tremaining: 3.6s\n",
      "566:\tlearn: 0.1363962\ttotal: 4.7s\tremaining: 3.59s\n",
      "567:\tlearn: 0.1361794\ttotal: 4.7s\tremaining: 3.58s\n",
      "568:\tlearn: 0.1358961\ttotal: 4.71s\tremaining: 3.57s\n",
      "569:\tlearn: 0.1357122\ttotal: 4.72s\tremaining: 3.56s\n",
      "570:\tlearn: 0.1353869\ttotal: 4.73s\tremaining: 3.55s\n",
      "571:\tlearn: 0.1351002\ttotal: 4.74s\tremaining: 3.54s\n",
      "572:\tlearn: 0.1348097\ttotal: 4.74s\tremaining: 3.53s\n",
      "573:\tlearn: 0.1345664\ttotal: 4.75s\tremaining: 3.52s\n",
      "574:\tlearn: 0.1342482\ttotal: 4.76s\tremaining: 3.52s\n",
      "575:\tlearn: 0.1340993\ttotal: 4.77s\tremaining: 3.51s\n",
      "576:\tlearn: 0.1338648\ttotal: 4.77s\tremaining: 3.5s\n",
      "577:\tlearn: 0.1335783\ttotal: 4.78s\tremaining: 3.49s\n",
      "578:\tlearn: 0.1333052\ttotal: 4.79s\tremaining: 3.48s\n",
      "579:\tlearn: 0.1331437\ttotal: 4.8s\tremaining: 3.47s\n",
      "580:\tlearn: 0.1328592\ttotal: 4.81s\tremaining: 3.47s\n",
      "581:\tlearn: 0.1326295\ttotal: 4.82s\tremaining: 3.46s\n",
      "582:\tlearn: 0.1323507\ttotal: 4.82s\tremaining: 3.45s\n",
      "583:\tlearn: 0.1321470\ttotal: 4.83s\tremaining: 3.44s\n",
      "584:\tlearn: 0.1319081\ttotal: 4.84s\tremaining: 3.43s\n",
      "585:\tlearn: 0.1315447\ttotal: 4.85s\tremaining: 3.42s\n",
      "586:\tlearn: 0.1313068\ttotal: 4.86s\tremaining: 3.42s\n",
      "587:\tlearn: 0.1311502\ttotal: 4.86s\tremaining: 3.41s\n",
      "588:\tlearn: 0.1310399\ttotal: 4.87s\tremaining: 3.4s\n",
      "589:\tlearn: 0.1308766\ttotal: 4.88s\tremaining: 3.39s\n",
      "590:\tlearn: 0.1306861\ttotal: 4.89s\tremaining: 3.38s\n",
      "591:\tlearn: 0.1303797\ttotal: 4.89s\tremaining: 3.37s\n",
      "592:\tlearn: 0.1301225\ttotal: 4.9s\tremaining: 3.37s\n",
      "593:\tlearn: 0.1299945\ttotal: 4.91s\tremaining: 3.36s\n",
      "594:\tlearn: 0.1297675\ttotal: 4.92s\tremaining: 3.35s\n",
      "595:\tlearn: 0.1295271\ttotal: 4.93s\tremaining: 3.34s\n",
      "596:\tlearn: 0.1292955\ttotal: 4.94s\tremaining: 3.33s\n",
      "597:\tlearn: 0.1291217\ttotal: 4.95s\tremaining: 3.32s\n",
      "598:\tlearn: 0.1289030\ttotal: 4.96s\tremaining: 3.32s\n",
      "599:\tlearn: 0.1286620\ttotal: 4.96s\tremaining: 3.31s\n",
      "600:\tlearn: 0.1283605\ttotal: 4.97s\tremaining: 3.3s\n",
      "601:\tlearn: 0.1280749\ttotal: 4.98s\tremaining: 3.29s\n",
      "602:\tlearn: 0.1279009\ttotal: 4.99s\tremaining: 3.28s\n",
      "603:\tlearn: 0.1276121\ttotal: 5s\tremaining: 3.28s\n",
      "604:\tlearn: 0.1272902\ttotal: 5s\tremaining: 3.27s\n",
      "605:\tlearn: 0.1270999\ttotal: 5.01s\tremaining: 3.26s\n",
      "606:\tlearn: 0.1268492\ttotal: 5.02s\tremaining: 3.25s\n",
      "607:\tlearn: 0.1266843\ttotal: 5.03s\tremaining: 3.24s\n",
      "608:\tlearn: 0.1264778\ttotal: 5.04s\tremaining: 3.23s\n",
      "609:\tlearn: 0.1263585\ttotal: 5.04s\tremaining: 3.22s\n",
      "610:\tlearn: 0.1262060\ttotal: 5.05s\tremaining: 3.22s\n",
      "611:\tlearn: 0.1259384\ttotal: 5.06s\tremaining: 3.21s\n",
      "612:\tlearn: 0.1258272\ttotal: 5.07s\tremaining: 3.2s\n",
      "613:\tlearn: 0.1255774\ttotal: 5.07s\tremaining: 3.19s\n",
      "614:\tlearn: 0.1254262\ttotal: 5.08s\tremaining: 3.18s\n",
      "615:\tlearn: 0.1252314\ttotal: 5.09s\tremaining: 3.17s\n",
      "616:\tlearn: 0.1250572\ttotal: 5.1s\tremaining: 3.16s\n",
      "617:\tlearn: 0.1248035\ttotal: 5.11s\tremaining: 3.16s\n",
      "618:\tlearn: 0.1244822\ttotal: 5.11s\tremaining: 3.15s\n",
      "619:\tlearn: 0.1241779\ttotal: 5.12s\tremaining: 3.14s\n",
      "620:\tlearn: 0.1239835\ttotal: 5.13s\tremaining: 3.13s\n",
      "621:\tlearn: 0.1236920\ttotal: 5.14s\tremaining: 3.12s\n",
      "622:\tlearn: 0.1234371\ttotal: 5.14s\tremaining: 3.11s\n",
      "623:\tlearn: 0.1231496\ttotal: 5.15s\tremaining: 3.1s\n",
      "624:\tlearn: 0.1229079\ttotal: 5.16s\tremaining: 3.1s\n",
      "625:\tlearn: 0.1227209\ttotal: 5.17s\tremaining: 3.09s\n",
      "626:\tlearn: 0.1224649\ttotal: 5.18s\tremaining: 3.08s\n",
      "627:\tlearn: 0.1223338\ttotal: 5.18s\tremaining: 3.07s\n",
      "628:\tlearn: 0.1222346\ttotal: 5.19s\tremaining: 3.06s\n",
      "629:\tlearn: 0.1220204\ttotal: 5.2s\tremaining: 3.05s\n",
      "630:\tlearn: 0.1217639\ttotal: 5.21s\tremaining: 3.04s\n",
      "631:\tlearn: 0.1215598\ttotal: 5.21s\tremaining: 3.04s\n",
      "632:\tlearn: 0.1212195\ttotal: 5.22s\tremaining: 3.03s\n",
      "633:\tlearn: 0.1210428\ttotal: 5.23s\tremaining: 3.02s\n",
      "634:\tlearn: 0.1208516\ttotal: 5.24s\tremaining: 3.01s\n",
      "635:\tlearn: 0.1206067\ttotal: 5.25s\tremaining: 3s\n",
      "636:\tlearn: 0.1204337\ttotal: 5.25s\tremaining: 2.99s\n",
      "637:\tlearn: 0.1202109\ttotal: 5.26s\tremaining: 2.99s\n",
      "638:\tlearn: 0.1199845\ttotal: 5.27s\tremaining: 2.98s\n",
      "639:\tlearn: 0.1198735\ttotal: 5.28s\tremaining: 2.97s\n",
      "640:\tlearn: 0.1197244\ttotal: 5.29s\tremaining: 2.96s\n",
      "641:\tlearn: 0.1195597\ttotal: 5.29s\tremaining: 2.95s\n",
      "642:\tlearn: 0.1193640\ttotal: 5.3s\tremaining: 2.94s\n",
      "643:\tlearn: 0.1191850\ttotal: 5.31s\tremaining: 2.94s\n",
      "644:\tlearn: 0.1190457\ttotal: 5.32s\tremaining: 2.93s\n",
      "645:\tlearn: 0.1188604\ttotal: 5.33s\tremaining: 2.92s\n",
      "646:\tlearn: 0.1186417\ttotal: 5.33s\tremaining: 2.91s\n",
      "647:\tlearn: 0.1184383\ttotal: 5.34s\tremaining: 2.9s\n",
      "648:\tlearn: 0.1182564\ttotal: 5.35s\tremaining: 2.89s\n",
      "649:\tlearn: 0.1180917\ttotal: 5.36s\tremaining: 2.88s\n",
      "650:\tlearn: 0.1179377\ttotal: 5.37s\tremaining: 2.88s\n",
      "651:\tlearn: 0.1177410\ttotal: 5.37s\tremaining: 2.87s\n",
      "652:\tlearn: 0.1175246\ttotal: 5.38s\tremaining: 2.86s\n",
      "653:\tlearn: 0.1172685\ttotal: 5.39s\tremaining: 2.85s\n",
      "654:\tlearn: 0.1170166\ttotal: 5.4s\tremaining: 2.84s\n",
      "655:\tlearn: 0.1168811\ttotal: 5.41s\tremaining: 2.83s\n",
      "656:\tlearn: 0.1167293\ttotal: 5.42s\tremaining: 2.83s\n",
      "657:\tlearn: 0.1164219\ttotal: 5.42s\tremaining: 2.82s\n",
      "658:\tlearn: 0.1161905\ttotal: 5.43s\tremaining: 2.81s\n",
      "659:\tlearn: 0.1159533\ttotal: 5.44s\tremaining: 2.8s\n",
      "660:\tlearn: 0.1158350\ttotal: 5.45s\tremaining: 2.79s\n",
      "661:\tlearn: 0.1156835\ttotal: 5.46s\tremaining: 2.79s\n",
      "662:\tlearn: 0.1155235\ttotal: 5.47s\tremaining: 2.78s\n",
      "663:\tlearn: 0.1152682\ttotal: 5.47s\tremaining: 2.77s\n",
      "664:\tlearn: 0.1150682\ttotal: 5.48s\tremaining: 2.76s\n",
      "665:\tlearn: 0.1149280\ttotal: 5.49s\tremaining: 2.75s\n",
      "666:\tlearn: 0.1146766\ttotal: 5.5s\tremaining: 2.75s\n",
      "667:\tlearn: 0.1144484\ttotal: 5.51s\tremaining: 2.74s\n",
      "668:\tlearn: 0.1142355\ttotal: 5.51s\tremaining: 2.73s\n",
      "669:\tlearn: 0.1140421\ttotal: 5.52s\tremaining: 2.72s\n",
      "670:\tlearn: 0.1139567\ttotal: 5.53s\tremaining: 2.71s\n",
      "671:\tlearn: 0.1137291\ttotal: 5.53s\tremaining: 2.7s\n",
      "672:\tlearn: 0.1135508\ttotal: 5.54s\tremaining: 2.69s\n",
      "673:\tlearn: 0.1133039\ttotal: 5.55s\tremaining: 2.68s\n",
      "674:\tlearn: 0.1131390\ttotal: 5.56s\tremaining: 2.68s\n",
      "675:\tlearn: 0.1128783\ttotal: 5.57s\tremaining: 2.67s\n",
      "676:\tlearn: 0.1126017\ttotal: 5.57s\tremaining: 2.66s\n",
      "677:\tlearn: 0.1124607\ttotal: 5.58s\tremaining: 2.65s\n",
      "678:\tlearn: 0.1123533\ttotal: 5.59s\tremaining: 2.64s\n",
      "679:\tlearn: 0.1122174\ttotal: 5.6s\tremaining: 2.64s\n",
      "680:\tlearn: 0.1121303\ttotal: 5.61s\tremaining: 2.63s\n",
      "681:\tlearn: 0.1119974\ttotal: 5.62s\tremaining: 2.62s\n",
      "682:\tlearn: 0.1119029\ttotal: 5.63s\tremaining: 2.61s\n",
      "683:\tlearn: 0.1117627\ttotal: 5.63s\tremaining: 2.6s\n",
      "684:\tlearn: 0.1115573\ttotal: 5.64s\tremaining: 2.59s\n",
      "685:\tlearn: 0.1114231\ttotal: 5.65s\tremaining: 2.59s\n",
      "686:\tlearn: 0.1112714\ttotal: 5.66s\tremaining: 2.58s\n",
      "687:\tlearn: 0.1110886\ttotal: 5.67s\tremaining: 2.57s\n",
      "688:\tlearn: 0.1109052\ttotal: 5.67s\tremaining: 2.56s\n",
      "689:\tlearn: 0.1108218\ttotal: 5.68s\tremaining: 2.55s\n",
      "690:\tlearn: 0.1106218\ttotal: 5.69s\tremaining: 2.54s\n",
      "691:\tlearn: 0.1104032\ttotal: 5.7s\tremaining: 2.54s\n",
      "692:\tlearn: 0.1102549\ttotal: 5.71s\tremaining: 2.53s\n",
      "693:\tlearn: 0.1099704\ttotal: 5.72s\tremaining: 2.52s\n",
      "694:\tlearn: 0.1097519\ttotal: 5.73s\tremaining: 2.51s\n",
      "695:\tlearn: 0.1095454\ttotal: 5.73s\tremaining: 2.5s\n",
      "696:\tlearn: 0.1094042\ttotal: 5.74s\tremaining: 2.5s\n",
      "697:\tlearn: 0.1093242\ttotal: 5.75s\tremaining: 2.49s\n",
      "698:\tlearn: 0.1091943\ttotal: 5.76s\tremaining: 2.48s\n",
      "699:\tlearn: 0.1089967\ttotal: 5.77s\tremaining: 2.47s\n",
      "700:\tlearn: 0.1088699\ttotal: 5.78s\tremaining: 2.46s\n",
      "701:\tlearn: 0.1087212\ttotal: 5.78s\tremaining: 2.46s\n",
      "702:\tlearn: 0.1085945\ttotal: 5.79s\tremaining: 2.45s\n",
      "703:\tlearn: 0.1083797\ttotal: 5.8s\tremaining: 2.44s\n",
      "704:\tlearn: 0.1082333\ttotal: 5.81s\tremaining: 2.43s\n",
      "705:\tlearn: 0.1081643\ttotal: 5.82s\tremaining: 2.42s\n",
      "706:\tlearn: 0.1080314\ttotal: 5.82s\tremaining: 2.41s\n",
      "707:\tlearn: 0.1078160\ttotal: 5.83s\tremaining: 2.4s\n",
      "708:\tlearn: 0.1076913\ttotal: 5.84s\tremaining: 2.4s\n",
      "709:\tlearn: 0.1075354\ttotal: 5.85s\tremaining: 2.39s\n",
      "710:\tlearn: 0.1072802\ttotal: 5.86s\tremaining: 2.38s\n",
      "711:\tlearn: 0.1071208\ttotal: 5.87s\tremaining: 2.37s\n",
      "712:\tlearn: 0.1068674\ttotal: 5.88s\tremaining: 2.37s\n",
      "713:\tlearn: 0.1066904\ttotal: 5.88s\tremaining: 2.36s\n",
      "714:\tlearn: 0.1065752\ttotal: 5.89s\tremaining: 2.35s\n",
      "715:\tlearn: 0.1064286\ttotal: 5.9s\tremaining: 2.34s\n"
     ]
    },
    {
     "name": "stdout",
     "output_type": "stream",
     "text": [
      "716:\tlearn: 0.1063371\ttotal: 5.91s\tremaining: 2.33s\n",
      "717:\tlearn: 0.1061602\ttotal: 5.92s\tremaining: 2.33s\n",
      "718:\tlearn: 0.1059964\ttotal: 5.93s\tremaining: 2.32s\n",
      "719:\tlearn: 0.1058448\ttotal: 5.94s\tremaining: 2.31s\n",
      "720:\tlearn: 0.1056083\ttotal: 5.94s\tremaining: 2.3s\n",
      "721:\tlearn: 0.1053302\ttotal: 5.95s\tremaining: 2.29s\n",
      "722:\tlearn: 0.1050317\ttotal: 5.96s\tremaining: 2.28s\n",
      "723:\tlearn: 0.1048619\ttotal: 5.97s\tremaining: 2.27s\n",
      "724:\tlearn: 0.1046237\ttotal: 5.98s\tremaining: 2.27s\n",
      "725:\tlearn: 0.1044977\ttotal: 5.99s\tremaining: 2.26s\n",
      "726:\tlearn: 0.1043910\ttotal: 5.99s\tremaining: 2.25s\n",
      "727:\tlearn: 0.1042355\ttotal: 6s\tremaining: 2.24s\n",
      "728:\tlearn: 0.1040296\ttotal: 6.01s\tremaining: 2.23s\n",
      "729:\tlearn: 0.1038722\ttotal: 6.02s\tremaining: 2.23s\n",
      "730:\tlearn: 0.1036421\ttotal: 6.03s\tremaining: 2.22s\n",
      "731:\tlearn: 0.1033725\ttotal: 6.04s\tremaining: 2.21s\n",
      "732:\tlearn: 0.1032512\ttotal: 6.04s\tremaining: 2.2s\n",
      "733:\tlearn: 0.1032053\ttotal: 6.05s\tremaining: 2.19s\n",
      "734:\tlearn: 0.1030126\ttotal: 6.06s\tremaining: 2.19s\n",
      "735:\tlearn: 0.1028989\ttotal: 6.07s\tremaining: 2.18s\n",
      "736:\tlearn: 0.1026341\ttotal: 6.08s\tremaining: 2.17s\n",
      "737:\tlearn: 0.1024249\ttotal: 6.08s\tremaining: 2.16s\n",
      "738:\tlearn: 0.1022240\ttotal: 6.09s\tremaining: 2.15s\n",
      "739:\tlearn: 0.1021465\ttotal: 6.1s\tremaining: 2.14s\n",
      "740:\tlearn: 0.1019659\ttotal: 6.11s\tremaining: 2.14s\n",
      "741:\tlearn: 0.1017934\ttotal: 6.12s\tremaining: 2.13s\n",
      "742:\tlearn: 0.1015862\ttotal: 6.13s\tremaining: 2.12s\n",
      "743:\tlearn: 0.1014687\ttotal: 6.14s\tremaining: 2.11s\n",
      "744:\tlearn: 0.1013422\ttotal: 6.15s\tremaining: 2.1s\n",
      "745:\tlearn: 0.1010424\ttotal: 6.15s\tremaining: 2.1s\n",
      "746:\tlearn: 0.1008871\ttotal: 6.16s\tremaining: 2.09s\n",
      "747:\tlearn: 0.1007775\ttotal: 6.17s\tremaining: 2.08s\n",
      "748:\tlearn: 0.1006414\ttotal: 6.18s\tremaining: 2.07s\n",
      "749:\tlearn: 0.1005036\ttotal: 6.18s\tremaining: 2.06s\n",
      "750:\tlearn: 0.1002750\ttotal: 6.19s\tremaining: 2.05s\n",
      "751:\tlearn: 0.1001226\ttotal: 6.2s\tremaining: 2.04s\n",
      "752:\tlearn: 0.1000062\ttotal: 6.21s\tremaining: 2.04s\n",
      "753:\tlearn: 0.0998163\ttotal: 6.21s\tremaining: 2.03s\n",
      "754:\tlearn: 0.0995828\ttotal: 6.22s\tremaining: 2.02s\n",
      "755:\tlearn: 0.0994012\ttotal: 6.23s\tremaining: 2.01s\n",
      "756:\tlearn: 0.0992224\ttotal: 6.24s\tremaining: 2s\n",
      "757:\tlearn: 0.0989952\ttotal: 6.24s\tremaining: 1.99s\n",
      "758:\tlearn: 0.0988585\ttotal: 6.25s\tremaining: 1.98s\n",
      "759:\tlearn: 0.0987054\ttotal: 6.26s\tremaining: 1.98s\n",
      "760:\tlearn: 0.0985158\ttotal: 6.26s\tremaining: 1.97s\n",
      "761:\tlearn: 0.0983942\ttotal: 6.27s\tremaining: 1.96s\n",
      "762:\tlearn: 0.0982649\ttotal: 6.28s\tremaining: 1.95s\n",
      "763:\tlearn: 0.0981202\ttotal: 6.29s\tremaining: 1.94s\n",
      "764:\tlearn: 0.0980682\ttotal: 6.3s\tremaining: 1.93s\n",
      "765:\tlearn: 0.0979992\ttotal: 6.3s\tremaining: 1.93s\n",
      "766:\tlearn: 0.0977893\ttotal: 6.31s\tremaining: 1.92s\n",
      "767:\tlearn: 0.0976034\ttotal: 6.32s\tremaining: 1.91s\n",
      "768:\tlearn: 0.0973752\ttotal: 6.33s\tremaining: 1.9s\n",
      "769:\tlearn: 0.0971209\ttotal: 6.33s\tremaining: 1.89s\n",
      "770:\tlearn: 0.0970351\ttotal: 6.34s\tremaining: 1.88s\n",
      "771:\tlearn: 0.0968342\ttotal: 6.35s\tremaining: 1.88s\n",
      "772:\tlearn: 0.0966359\ttotal: 6.36s\tremaining: 1.87s\n",
      "773:\tlearn: 0.0964982\ttotal: 6.37s\tremaining: 1.86s\n",
      "774:\tlearn: 0.0963548\ttotal: 6.37s\tremaining: 1.85s\n",
      "775:\tlearn: 0.0962126\ttotal: 6.38s\tremaining: 1.84s\n",
      "776:\tlearn: 0.0960889\ttotal: 6.39s\tremaining: 1.83s\n",
      "777:\tlearn: 0.0959564\ttotal: 6.4s\tremaining: 1.82s\n",
      "778:\tlearn: 0.0958029\ttotal: 6.41s\tremaining: 1.82s\n",
      "779:\tlearn: 0.0956703\ttotal: 6.41s\tremaining: 1.81s\n",
      "780:\tlearn: 0.0955920\ttotal: 6.42s\tremaining: 1.8s\n",
      "781:\tlearn: 0.0954348\ttotal: 6.42s\tremaining: 1.79s\n",
      "782:\tlearn: 0.0952719\ttotal: 6.43s\tremaining: 1.78s\n",
      "783:\tlearn: 0.0951399\ttotal: 6.44s\tremaining: 1.77s\n",
      "784:\tlearn: 0.0949641\ttotal: 6.45s\tremaining: 1.76s\n",
      "785:\tlearn: 0.0948209\ttotal: 6.45s\tremaining: 1.76s\n",
      "786:\tlearn: 0.0946847\ttotal: 6.46s\tremaining: 1.75s\n",
      "787:\tlearn: 0.0945826\ttotal: 6.47s\tremaining: 1.74s\n",
      "788:\tlearn: 0.0944515\ttotal: 6.47s\tremaining: 1.73s\n",
      "789:\tlearn: 0.0943590\ttotal: 6.48s\tremaining: 1.72s\n",
      "790:\tlearn: 0.0942023\ttotal: 6.49s\tremaining: 1.71s\n",
      "791:\tlearn: 0.0940677\ttotal: 6.5s\tremaining: 1.71s\n",
      "792:\tlearn: 0.0938990\ttotal: 6.5s\tremaining: 1.7s\n",
      "793:\tlearn: 0.0937526\ttotal: 6.51s\tremaining: 1.69s\n",
      "794:\tlearn: 0.0935507\ttotal: 6.52s\tremaining: 1.68s\n",
      "795:\tlearn: 0.0934072\ttotal: 6.52s\tremaining: 1.67s\n",
      "796:\tlearn: 0.0932308\ttotal: 6.53s\tremaining: 1.66s\n",
      "797:\tlearn: 0.0931230\ttotal: 6.54s\tremaining: 1.66s\n",
      "798:\tlearn: 0.0929761\ttotal: 6.55s\tremaining: 1.65s\n",
      "799:\tlearn: 0.0928404\ttotal: 6.55s\tremaining: 1.64s\n",
      "800:\tlearn: 0.0927813\ttotal: 6.56s\tremaining: 1.63s\n",
      "801:\tlearn: 0.0925526\ttotal: 6.57s\tremaining: 1.62s\n",
      "802:\tlearn: 0.0923835\ttotal: 6.57s\tremaining: 1.61s\n",
      "803:\tlearn: 0.0922518\ttotal: 6.58s\tremaining: 1.6s\n",
      "804:\tlearn: 0.0921298\ttotal: 6.59s\tremaining: 1.59s\n",
      "805:\tlearn: 0.0919919\ttotal: 6.59s\tremaining: 1.59s\n",
      "806:\tlearn: 0.0918505\ttotal: 6.6s\tremaining: 1.58s\n",
      "807:\tlearn: 0.0917504\ttotal: 6.61s\tremaining: 1.57s\n",
      "808:\tlearn: 0.0915701\ttotal: 6.61s\tremaining: 1.56s\n",
      "809:\tlearn: 0.0914233\ttotal: 6.62s\tremaining: 1.55s\n",
      "810:\tlearn: 0.0913022\ttotal: 6.63s\tremaining: 1.54s\n",
      "811:\tlearn: 0.0911292\ttotal: 6.63s\tremaining: 1.53s\n",
      "812:\tlearn: 0.0909696\ttotal: 6.64s\tremaining: 1.53s\n",
      "813:\tlearn: 0.0907438\ttotal: 6.65s\tremaining: 1.52s\n",
      "814:\tlearn: 0.0906319\ttotal: 6.65s\tremaining: 1.51s\n",
      "815:\tlearn: 0.0904945\ttotal: 6.66s\tremaining: 1.5s\n",
      "816:\tlearn: 0.0903557\ttotal: 6.67s\tremaining: 1.49s\n",
      "817:\tlearn: 0.0902263\ttotal: 6.68s\tremaining: 1.49s\n",
      "818:\tlearn: 0.0900601\ttotal: 6.68s\tremaining: 1.48s\n",
      "819:\tlearn: 0.0899272\ttotal: 6.69s\tremaining: 1.47s\n",
      "820:\tlearn: 0.0897920\ttotal: 6.7s\tremaining: 1.46s\n",
      "821:\tlearn: 0.0896841\ttotal: 6.7s\tremaining: 1.45s\n",
      "822:\tlearn: 0.0895435\ttotal: 6.71s\tremaining: 1.44s\n",
      "823:\tlearn: 0.0894724\ttotal: 6.72s\tremaining: 1.43s\n",
      "824:\tlearn: 0.0893331\ttotal: 6.72s\tremaining: 1.43s\n",
      "825:\tlearn: 0.0891602\ttotal: 6.73s\tremaining: 1.42s\n",
      "826:\tlearn: 0.0890011\ttotal: 6.74s\tremaining: 1.41s\n",
      "827:\tlearn: 0.0888820\ttotal: 6.75s\tremaining: 1.4s\n",
      "828:\tlearn: 0.0887836\ttotal: 6.75s\tremaining: 1.39s\n",
      "829:\tlearn: 0.0886772\ttotal: 6.76s\tremaining: 1.38s\n",
      "830:\tlearn: 0.0885479\ttotal: 6.77s\tremaining: 1.38s\n",
      "831:\tlearn: 0.0884272\ttotal: 6.77s\tremaining: 1.37s\n",
      "832:\tlearn: 0.0882894\ttotal: 6.78s\tremaining: 1.36s\n",
      "833:\tlearn: 0.0881533\ttotal: 6.79s\tremaining: 1.35s\n",
      "834:\tlearn: 0.0879488\ttotal: 6.8s\tremaining: 1.34s\n",
      "835:\tlearn: 0.0877655\ttotal: 6.81s\tremaining: 1.34s\n",
      "836:\tlearn: 0.0876564\ttotal: 6.82s\tremaining: 1.33s\n",
      "837:\tlearn: 0.0875835\ttotal: 6.83s\tremaining: 1.32s\n",
      "838:\tlearn: 0.0873951\ttotal: 6.83s\tremaining: 1.31s\n",
      "839:\tlearn: 0.0872674\ttotal: 6.84s\tremaining: 1.3s\n",
      "840:\tlearn: 0.0871446\ttotal: 6.87s\tremaining: 1.3s\n",
      "841:\tlearn: 0.0870673\ttotal: 6.87s\tremaining: 1.29s\n",
      "842:\tlearn: 0.0868873\ttotal: 6.88s\tremaining: 1.28s\n",
      "843:\tlearn: 0.0867999\ttotal: 6.89s\tremaining: 1.27s\n",
      "844:\tlearn: 0.0866990\ttotal: 6.9s\tremaining: 1.26s\n",
      "845:\tlearn: 0.0865487\ttotal: 6.91s\tremaining: 1.26s\n",
      "846:\tlearn: 0.0864448\ttotal: 6.91s\tremaining: 1.25s\n",
      "847:\tlearn: 0.0863514\ttotal: 6.92s\tremaining: 1.24s\n",
      "848:\tlearn: 0.0862083\ttotal: 6.93s\tremaining: 1.23s\n",
      "849:\tlearn: 0.0860960\ttotal: 6.93s\tremaining: 1.22s\n",
      "850:\tlearn: 0.0859569\ttotal: 6.94s\tremaining: 1.22s\n",
      "851:\tlearn: 0.0858190\ttotal: 6.95s\tremaining: 1.21s\n",
      "852:\tlearn: 0.0857060\ttotal: 6.96s\tremaining: 1.2s\n",
      "853:\tlearn: 0.0855486\ttotal: 6.96s\tremaining: 1.19s\n",
      "854:\tlearn: 0.0854360\ttotal: 6.97s\tremaining: 1.18s\n",
      "855:\tlearn: 0.0854063\ttotal: 6.98s\tremaining: 1.17s\n",
      "856:\tlearn: 0.0853184\ttotal: 6.98s\tremaining: 1.17s\n",
      "857:\tlearn: 0.0852045\ttotal: 6.99s\tremaining: 1.16s\n",
      "858:\tlearn: 0.0850796\ttotal: 7s\tremaining: 1.15s\n",
      "859:\tlearn: 0.0849109\ttotal: 7.01s\tremaining: 1.14s\n",
      "860:\tlearn: 0.0848495\ttotal: 7.01s\tremaining: 1.13s\n",
      "861:\tlearn: 0.0847271\ttotal: 7.02s\tremaining: 1.12s\n",
      "862:\tlearn: 0.0846049\ttotal: 7.03s\tremaining: 1.11s\n",
      "863:\tlearn: 0.0845072\ttotal: 7.03s\tremaining: 1.11s\n",
      "864:\tlearn: 0.0843426\ttotal: 7.04s\tremaining: 1.1s\n",
      "865:\tlearn: 0.0841873\ttotal: 7.05s\tremaining: 1.09s\n",
      "866:\tlearn: 0.0840811\ttotal: 7.05s\tremaining: 1.08s\n",
      "867:\tlearn: 0.0839567\ttotal: 7.06s\tremaining: 1.07s\n",
      "868:\tlearn: 0.0838445\ttotal: 7.07s\tremaining: 1.06s\n",
      "869:\tlearn: 0.0837322\ttotal: 7.08s\tremaining: 1.06s\n",
      "870:\tlearn: 0.0836605\ttotal: 7.08s\tremaining: 1.05s\n",
      "871:\tlearn: 0.0836182\ttotal: 7.09s\tremaining: 1.04s\n",
      "872:\tlearn: 0.0834617\ttotal: 7.1s\tremaining: 1.03s\n",
      "873:\tlearn: 0.0833893\ttotal: 7.11s\tremaining: 1.02s\n",
      "874:\tlearn: 0.0832795\ttotal: 7.11s\tremaining: 1.02s\n",
      "875:\tlearn: 0.0831613\ttotal: 7.12s\tremaining: 1.01s\n",
      "876:\tlearn: 0.0830539\ttotal: 7.12s\tremaining: 999ms\n",
      "877:\tlearn: 0.0830160\ttotal: 7.13s\tremaining: 991ms\n",
      "878:\tlearn: 0.0828839\ttotal: 7.14s\tremaining: 982ms\n",
      "879:\tlearn: 0.0827805\ttotal: 7.14s\tremaining: 974ms\n",
      "880:\tlearn: 0.0827038\ttotal: 7.15s\tremaining: 966ms\n",
      "881:\tlearn: 0.0825912\ttotal: 7.16s\tremaining: 958ms\n",
      "882:\tlearn: 0.0824017\ttotal: 7.17s\tremaining: 949ms\n",
      "883:\tlearn: 0.0822156\ttotal: 7.17s\tremaining: 941ms\n",
      "884:\tlearn: 0.0820996\ttotal: 7.18s\tremaining: 933ms\n",
      "885:\tlearn: 0.0819915\ttotal: 7.19s\tremaining: 925ms\n",
      "886:\tlearn: 0.0818904\ttotal: 7.19s\tremaining: 916ms\n",
      "887:\tlearn: 0.0817512\ttotal: 7.2s\tremaining: 908ms\n",
      "888:\tlearn: 0.0815758\ttotal: 7.21s\tremaining: 900ms\n",
      "889:\tlearn: 0.0814442\ttotal: 7.21s\tremaining: 891ms\n"
     ]
    },
    {
     "name": "stdout",
     "output_type": "stream",
     "text": [
      "890:\tlearn: 0.0812798\ttotal: 7.22s\tremaining: 883ms\n",
      "891:\tlearn: 0.0811189\ttotal: 7.23s\tremaining: 875ms\n",
      "892:\tlearn: 0.0809992\ttotal: 7.23s\tremaining: 867ms\n",
      "893:\tlearn: 0.0808823\ttotal: 7.24s\tremaining: 858ms\n",
      "894:\tlearn: 0.0807302\ttotal: 7.25s\tremaining: 850ms\n",
      "895:\tlearn: 0.0806044\ttotal: 7.25s\tremaining: 842ms\n",
      "896:\tlearn: 0.0805485\ttotal: 7.26s\tremaining: 834ms\n",
      "897:\tlearn: 0.0804851\ttotal: 7.27s\tremaining: 825ms\n",
      "898:\tlearn: 0.0803115\ttotal: 7.27s\tremaining: 817ms\n",
      "899:\tlearn: 0.0802497\ttotal: 7.28s\tremaining: 809ms\n",
      "900:\tlearn: 0.0800967\ttotal: 7.29s\tremaining: 801ms\n",
      "901:\tlearn: 0.0799811\ttotal: 7.29s\tremaining: 792ms\n",
      "902:\tlearn: 0.0798160\ttotal: 7.3s\tremaining: 784ms\n",
      "903:\tlearn: 0.0796596\ttotal: 7.3s\tremaining: 776ms\n",
      "904:\tlearn: 0.0795473\ttotal: 7.31s\tremaining: 768ms\n",
      "905:\tlearn: 0.0793843\ttotal: 7.32s\tremaining: 760ms\n",
      "906:\tlearn: 0.0792454\ttotal: 7.33s\tremaining: 751ms\n",
      "907:\tlearn: 0.0791497\ttotal: 7.33s\tremaining: 743ms\n",
      "908:\tlearn: 0.0790056\ttotal: 7.34s\tremaining: 735ms\n",
      "909:\tlearn: 0.0788624\ttotal: 7.35s\tremaining: 727ms\n",
      "910:\tlearn: 0.0787403\ttotal: 7.35s\tremaining: 718ms\n",
      "911:\tlearn: 0.0786673\ttotal: 7.36s\tremaining: 710ms\n",
      "912:\tlearn: 0.0785299\ttotal: 7.37s\tremaining: 702ms\n",
      "913:\tlearn: 0.0784077\ttotal: 7.37s\tremaining: 694ms\n",
      "914:\tlearn: 0.0782919\ttotal: 7.38s\tremaining: 686ms\n",
      "915:\tlearn: 0.0781491\ttotal: 7.39s\tremaining: 677ms\n",
      "916:\tlearn: 0.0780750\ttotal: 7.39s\tremaining: 669ms\n",
      "917:\tlearn: 0.0779276\ttotal: 7.4s\tremaining: 661ms\n",
      "918:\tlearn: 0.0778251\ttotal: 7.41s\tremaining: 653ms\n",
      "919:\tlearn: 0.0776921\ttotal: 7.42s\tremaining: 645ms\n",
      "920:\tlearn: 0.0775793\ttotal: 7.43s\tremaining: 637ms\n",
      "921:\tlearn: 0.0774340\ttotal: 7.43s\tremaining: 629ms\n",
      "922:\tlearn: 0.0773268\ttotal: 7.44s\tremaining: 621ms\n",
      "923:\tlearn: 0.0772059\ttotal: 7.45s\tremaining: 613ms\n",
      "924:\tlearn: 0.0770817\ttotal: 7.46s\tremaining: 605ms\n",
      "925:\tlearn: 0.0769373\ttotal: 7.46s\tremaining: 596ms\n",
      "926:\tlearn: 0.0768290\ttotal: 7.47s\tremaining: 588ms\n",
      "927:\tlearn: 0.0767508\ttotal: 7.48s\tremaining: 580ms\n",
      "928:\tlearn: 0.0767012\ttotal: 7.48s\tremaining: 572ms\n",
      "929:\tlearn: 0.0765769\ttotal: 7.49s\tremaining: 564ms\n",
      "930:\tlearn: 0.0764799\ttotal: 7.5s\tremaining: 556ms\n",
      "931:\tlearn: 0.0763445\ttotal: 7.51s\tremaining: 548ms\n",
      "932:\tlearn: 0.0761865\ttotal: 7.51s\tremaining: 540ms\n",
      "933:\tlearn: 0.0759942\ttotal: 7.52s\tremaining: 532ms\n",
      "934:\tlearn: 0.0759300\ttotal: 7.53s\tremaining: 524ms\n",
      "935:\tlearn: 0.0758523\ttotal: 7.54s\tremaining: 515ms\n",
      "936:\tlearn: 0.0757989\ttotal: 7.54s\tremaining: 507ms\n",
      "937:\tlearn: 0.0756830\ttotal: 7.55s\tremaining: 499ms\n",
      "938:\tlearn: 0.0756111\ttotal: 7.56s\tremaining: 491ms\n",
      "939:\tlearn: 0.0755249\ttotal: 7.56s\tremaining: 483ms\n",
      "940:\tlearn: 0.0753871\ttotal: 7.57s\tremaining: 475ms\n",
      "941:\tlearn: 0.0752733\ttotal: 7.58s\tremaining: 467ms\n",
      "942:\tlearn: 0.0751706\ttotal: 7.59s\tremaining: 459ms\n",
      "943:\tlearn: 0.0750192\ttotal: 7.59s\tremaining: 451ms\n",
      "944:\tlearn: 0.0749568\ttotal: 7.6s\tremaining: 442ms\n",
      "945:\tlearn: 0.0748130\ttotal: 7.61s\tremaining: 434ms\n",
      "946:\tlearn: 0.0747917\ttotal: 7.62s\tremaining: 426ms\n",
      "947:\tlearn: 0.0746586\ttotal: 7.62s\tremaining: 418ms\n",
      "948:\tlearn: 0.0745474\ttotal: 7.63s\tremaining: 410ms\n",
      "949:\tlearn: 0.0744055\ttotal: 7.64s\tremaining: 402ms\n",
      "950:\tlearn: 0.0742995\ttotal: 7.65s\tremaining: 394ms\n",
      "951:\tlearn: 0.0741182\ttotal: 7.66s\tremaining: 386ms\n",
      "952:\tlearn: 0.0739945\ttotal: 7.66s\tremaining: 378ms\n",
      "953:\tlearn: 0.0738460\ttotal: 7.67s\tremaining: 370ms\n",
      "954:\tlearn: 0.0737658\ttotal: 7.68s\tremaining: 362ms\n",
      "955:\tlearn: 0.0736622\ttotal: 7.69s\tremaining: 354ms\n",
      "956:\tlearn: 0.0735409\ttotal: 7.7s\tremaining: 346ms\n",
      "957:\tlearn: 0.0733968\ttotal: 7.7s\tremaining: 338ms\n",
      "958:\tlearn: 0.0733499\ttotal: 7.71s\tremaining: 330ms\n",
      "959:\tlearn: 0.0732729\ttotal: 7.72s\tremaining: 322ms\n",
      "960:\tlearn: 0.0731626\ttotal: 7.72s\tremaining: 313ms\n",
      "961:\tlearn: 0.0730782\ttotal: 7.73s\tremaining: 305ms\n",
      "962:\tlearn: 0.0729565\ttotal: 7.74s\tremaining: 297ms\n",
      "963:\tlearn: 0.0728955\ttotal: 7.75s\tremaining: 289ms\n",
      "964:\tlearn: 0.0727839\ttotal: 7.75s\tremaining: 281ms\n",
      "965:\tlearn: 0.0725960\ttotal: 7.76s\tremaining: 273ms\n",
      "966:\tlearn: 0.0725193\ttotal: 7.77s\tremaining: 265ms\n",
      "967:\tlearn: 0.0724132\ttotal: 7.78s\tremaining: 257ms\n",
      "968:\tlearn: 0.0723372\ttotal: 7.78s\tremaining: 249ms\n",
      "969:\tlearn: 0.0722671\ttotal: 7.79s\tremaining: 241ms\n",
      "970:\tlearn: 0.0721795\ttotal: 7.8s\tremaining: 233ms\n",
      "971:\tlearn: 0.0720863\ttotal: 7.81s\tremaining: 225ms\n",
      "972:\tlearn: 0.0719791\ttotal: 7.81s\tremaining: 217ms\n",
      "973:\tlearn: 0.0718971\ttotal: 7.82s\tremaining: 209ms\n",
      "974:\tlearn: 0.0717429\ttotal: 7.83s\tremaining: 201ms\n",
      "975:\tlearn: 0.0716540\ttotal: 7.84s\tremaining: 193ms\n",
      "976:\tlearn: 0.0715413\ttotal: 7.84s\tremaining: 185ms\n",
      "977:\tlearn: 0.0714359\ttotal: 7.85s\tremaining: 177ms\n",
      "978:\tlearn: 0.0713232\ttotal: 7.86s\tremaining: 169ms\n",
      "979:\tlearn: 0.0712237\ttotal: 7.87s\tremaining: 161ms\n",
      "980:\tlearn: 0.0711320\ttotal: 7.87s\tremaining: 152ms\n",
      "981:\tlearn: 0.0710027\ttotal: 7.88s\tremaining: 144ms\n",
      "982:\tlearn: 0.0708987\ttotal: 7.89s\tremaining: 136ms\n",
      "983:\tlearn: 0.0708159\ttotal: 7.89s\tremaining: 128ms\n",
      "984:\tlearn: 0.0706629\ttotal: 7.9s\tremaining: 120ms\n",
      "985:\tlearn: 0.0705652\ttotal: 7.91s\tremaining: 112ms\n",
      "986:\tlearn: 0.0705496\ttotal: 7.92s\tremaining: 104ms\n",
      "987:\tlearn: 0.0704633\ttotal: 7.92s\tremaining: 96.3ms\n",
      "988:\tlearn: 0.0703561\ttotal: 7.93s\tremaining: 88.2ms\n",
      "989:\tlearn: 0.0702590\ttotal: 7.94s\tremaining: 80.2ms\n",
      "990:\tlearn: 0.0701474\ttotal: 7.95s\tremaining: 72.2ms\n",
      "991:\tlearn: 0.0700073\ttotal: 7.95s\tremaining: 64.1ms\n",
      "992:\tlearn: 0.0699714\ttotal: 7.97s\tremaining: 56.2ms\n",
      "993:\tlearn: 0.0699176\ttotal: 7.97s\tremaining: 48.1ms\n",
      "994:\tlearn: 0.0697720\ttotal: 7.98s\tremaining: 40.1ms\n",
      "995:\tlearn: 0.0696869\ttotal: 7.99s\tremaining: 32.1ms\n",
      "996:\tlearn: 0.0695713\ttotal: 8s\tremaining: 24.1ms\n",
      "997:\tlearn: 0.0694866\ttotal: 8s\tremaining: 16ms\n",
      "998:\tlearn: 0.0694427\ttotal: 8.01s\tremaining: 8.02ms\n",
      "999:\tlearn: 0.0693351\ttotal: 8.02s\tremaining: 0us\n",
      "<catboost.core.CatBoostClassifier object at 0x000002232F2B5C70>: \n",
      "Accuracy:  0.8478260869565217\n",
      "Recall Score:  0.9583333333333334\n",
      "AUC Score:  0.8428030303030303\n",
      "Confusion Matrix: \n",
      "[[16  6]\n",
      " [ 1 23]]\n",
      "Classification Report: \n",
      "              precision    recall  f1-score   support\n",
      "\n",
      "           0       0.94      0.73      0.82        22\n",
      "           1       0.79      0.96      0.87        24\n",
      "\n",
      "    accuracy                           0.85        46\n",
      "   macro avg       0.87      0.84      0.84        46\n",
      "weighted avg       0.86      0.85      0.85        46\n",
      "\n",
      "\n",
      "SVC(kernel='linear'): \n",
      "Accuracy:  0.8043478260869565\n",
      "Recall Score:  0.875\n",
      "AUC Score:  0.8011363636363636\n",
      "Confusion Matrix: \n",
      "[[16  6]\n",
      " [ 3 21]]\n",
      "Classification Report: \n",
      "              precision    recall  f1-score   support\n",
      "\n",
      "           0       0.84      0.73      0.78        22\n",
      "           1       0.78      0.88      0.82        24\n",
      "\n",
      "    accuracy                           0.80        46\n",
      "   macro avg       0.81      0.80      0.80        46\n",
      "weighted avg       0.81      0.80      0.80        46\n",
      "\n",
      "\n",
      "SVC(): \n",
      "Accuracy:  0.8260869565217391\n",
      "Recall Score:  0.9166666666666666\n",
      "AUC Score:  0.8219696969696969\n",
      "Confusion Matrix: \n",
      "[[16  6]\n",
      " [ 2 22]]\n",
      "Classification Report: \n",
      "              precision    recall  f1-score   support\n",
      "\n",
      "           0       0.89      0.73      0.80        22\n",
      "           1       0.79      0.92      0.85        24\n",
      "\n",
      "    accuracy                           0.83        46\n",
      "   macro avg       0.84      0.82      0.82        46\n",
      "weighted avg       0.84      0.83      0.82        46\n",
      "\n",
      "\n",
      "SVC(kernel='sigmoid'): \n",
      "Accuracy:  0.8260869565217391\n",
      "Recall Score:  0.9583333333333334\n",
      "AUC Score:  0.8200757575757577\n",
      "Confusion Matrix: \n",
      "[[15  7]\n",
      " [ 1 23]]\n",
      "Classification Report: \n",
      "              precision    recall  f1-score   support\n",
      "\n",
      "           0       0.94      0.68      0.79        22\n",
      "           1       0.77      0.96      0.85        24\n",
      "\n",
      "    accuracy                           0.83        46\n",
      "   macro avg       0.85      0.82      0.82        46\n",
      "weighted avg       0.85      0.83      0.82        46\n",
      "\n",
      "\n",
      "SVC(kernel='poly'): \n",
      "Accuracy:  0.8260869565217391\n",
      "Recall Score:  1.0\n",
      "AUC Score:  0.8181818181818181\n",
      "Confusion Matrix: \n",
      "[[14  8]\n",
      " [ 0 24]]\n",
      "Classification Report: \n",
      "              precision    recall  f1-score   support\n",
      "\n",
      "           0       1.00      0.64      0.78        22\n",
      "           1       0.75      1.00      0.86        24\n",
      "\n",
      "    accuracy                           0.83        46\n",
      "   macro avg       0.88      0.82      0.82        46\n",
      "weighted avg       0.87      0.83      0.82        46\n",
      "\n",
      "\n",
      "GaussianNB(): \n",
      "Accuracy:  0.8478260869565217\n",
      "Recall Score:  0.9166666666666666\n",
      "AUC Score:  0.8446969696969696\n",
      "Confusion Matrix: \n",
      "[[17  5]\n",
      " [ 2 22]]\n",
      "Classification Report: \n",
      "              precision    recall  f1-score   support\n",
      "\n",
      "           0       0.89      0.77      0.83        22\n",
      "           1       0.81      0.92      0.86        24\n",
      "\n",
      "    accuracy                           0.85        46\n",
      "   macro avg       0.85      0.84      0.85        46\n",
      "weighted avg       0.85      0.85      0.85        46\n",
      "\n",
      "\n"
     ]
    }
   ],
   "source": [
    "for i in range(16):\n",
    "    models[i].fit(X_train_scaled,y_train)\n",
    "    \n",
    "    print(f'{models[i]}: ')\n",
    "    y_pred=models[i].predict(X_test_scaled)\n",
    "    \n",
    "    print('Accuracy: ',accuracy_score(y_test,y_pred))\n",
    "    print('Recall Score: ',recall_score(y_test,y_pred))\n",
    "    \n",
    "    fpr,tpr,thresholds=roc_curve(y_test,y_pred)\n",
    "    print('AUC Score: ',auc(fpr,tpr))\n",
    "    \n",
    "    print('Confusion Matrix: ')\n",
    "    print(confusion_matrix(y_test,y_pred))\n",
    "    \n",
    "    print('Classification Report: ')\n",
    "    print(classification_report(y_test,y_pred))\n",
    "    \n",
    "    print()"
   ]
  },
  {
   "cell_type": "markdown",
   "id": "b194951d",
   "metadata": {},
   "source": [
    "We can see that using CatBoostClassifier model, we get a model accuracy of 85% and a recall score of 96%"
   ]
  },
  {
   "cell_type": "markdown",
   "id": "2b590e6a",
   "metadata": {},
   "source": [
    "## 11.Neural Network"
   ]
  },
  {
   "cell_type": "code",
   "execution_count": 89,
   "id": "6e1eb26c",
   "metadata": {},
   "outputs": [
    {
     "data": {
      "text/plain": [
       "(256, 19)"
      ]
     },
     "execution_count": 89,
     "metadata": {},
     "output_type": "execute_result"
    }
   ],
   "source": [
    "X_train_scaled.shape"
   ]
  },
  {
   "cell_type": "code",
   "execution_count": 90,
   "id": "52919b00",
   "metadata": {},
   "outputs": [],
   "source": [
    "classifier=Sequential()"
   ]
  },
  {
   "cell_type": "code",
   "execution_count": 92,
   "id": "0d251764",
   "metadata": {},
   "outputs": [
    {
     "data": {
      "text/plain": [
       "<keras.layers.regularization.dropout.Dropout at 0x2233722e5e0>"
      ]
     },
     "execution_count": 92,
     "metadata": {},
     "output_type": "execute_result"
    }
   ],
   "source": [
    "classifier.add(Dense(128,kernel_initializer='uniform',activation='relu',input_dim=19))\n",
    "Dropout(0.01)\n",
    "classifier.add(Dense(32,kernel_initializer='uniform',activation='relu'))\n",
    "Dropout(0.01)"
   ]
  },
  {
   "cell_type": "code",
   "execution_count": 94,
   "id": "93ee607e",
   "metadata": {},
   "outputs": [],
   "source": [
    "classifier.add(Dense(1,kernel_initializer='uniform',activation='sigmoid'))"
   ]
  },
  {
   "cell_type": "code",
   "execution_count": 95,
   "id": "66f11d38",
   "metadata": {},
   "outputs": [],
   "source": [
    "classifier.compile(optimizer='adam',loss='binary_crossentropy',metrics=['accuracy'])"
   ]
  },
  {
   "cell_type": "code",
   "execution_count": 97,
   "id": "cf6d91ed",
   "metadata": {},
   "outputs": [],
   "source": [
    "earlystop=EarlyStopping(monitor='loss',patience=3)"
   ]
  },
  {
   "cell_type": "code",
   "execution_count": 98,
   "id": "e35efe13",
   "metadata": {},
   "outputs": [
    {
     "name": "stdout",
     "output_type": "stream",
     "text": [
      "Epoch 1/100\n",
      "16/16 [==============================] - 2s 33ms/step - loss: 0.6943 - accuracy: 0.4531 - val_loss: 0.6940 - val_accuracy: 0.4531\n",
      "Epoch 2/100\n",
      "16/16 [==============================] - 0s 9ms/step - loss: 0.6939 - accuracy: 0.4531 - val_loss: 0.6935 - val_accuracy: 0.4531\n",
      "Epoch 3/100\n",
      "16/16 [==============================] - 0s 8ms/step - loss: 0.6934 - accuracy: 0.4531 - val_loss: 0.6931 - val_accuracy: 0.5469\n",
      "Epoch 4/100\n",
      "16/16 [==============================] - 0s 9ms/step - loss: 0.6931 - accuracy: 0.5469 - val_loss: 0.6927 - val_accuracy: 0.5469\n",
      "Epoch 5/100\n",
      "16/16 [==============================] - 0s 9ms/step - loss: 0.6926 - accuracy: 0.5469 - val_loss: 0.6925 - val_accuracy: 0.5469\n",
      "Epoch 6/100\n",
      "16/16 [==============================] - 0s 9ms/step - loss: 0.6923 - accuracy: 0.5469 - val_loss: 0.6921 - val_accuracy: 0.5469\n",
      "Epoch 7/100\n",
      "16/16 [==============================] - 0s 9ms/step - loss: 0.6920 - accuracy: 0.5469 - val_loss: 0.6917 - val_accuracy: 0.5469\n",
      "Epoch 8/100\n",
      "16/16 [==============================] - 0s 8ms/step - loss: 0.6915 - accuracy: 0.5469 - val_loss: 0.6909 - val_accuracy: 0.5469\n",
      "Epoch 9/100\n",
      "16/16 [==============================] - 0s 9ms/step - loss: 0.6893 - accuracy: 0.5469 - val_loss: 0.6867 - val_accuracy: 0.5469\n",
      "Epoch 10/100\n",
      "16/16 [==============================] - 0s 8ms/step - loss: 0.6842 - accuracy: 0.6055 - val_loss: 0.6809 - val_accuracy: 0.9297\n",
      "Epoch 11/100\n",
      "16/16 [==============================] - 0s 7ms/step - loss: 0.6788 - accuracy: 0.9219 - val_loss: 0.6752 - val_accuracy: 0.9336\n",
      "Epoch 12/100\n",
      "16/16 [==============================] - 0s 8ms/step - loss: 0.6732 - accuracy: 0.9219 - val_loss: 0.6707 - val_accuracy: 0.9336\n",
      "Epoch 13/100\n",
      "16/16 [==============================] - 0s 8ms/step - loss: 0.6686 - accuracy: 0.9258 - val_loss: 0.6651 - val_accuracy: 0.9453\n",
      "Epoch 14/100\n",
      "16/16 [==============================] - 0s 9ms/step - loss: 0.6631 - accuracy: 0.9414 - val_loss: 0.6608 - val_accuracy: 0.9414\n",
      "Epoch 15/100\n",
      "16/16 [==============================] - 0s 9ms/step - loss: 0.6589 - accuracy: 0.9414 - val_loss: 0.6561 - val_accuracy: 0.9453\n",
      "Epoch 16/100\n",
      "16/16 [==============================] - 0s 9ms/step - loss: 0.6543 - accuracy: 0.9453 - val_loss: 0.6520 - val_accuracy: 0.9453\n",
      "Epoch 17/100\n",
      "16/16 [==============================] - 0s 10ms/step - loss: 0.6503 - accuracy: 0.9453 - val_loss: 0.6478 - val_accuracy: 0.9453\n",
      "Epoch 18/100\n",
      "16/16 [==============================] - 0s 9ms/step - loss: 0.6458 - accuracy: 0.9492 - val_loss: 0.6432 - val_accuracy: 0.9531\n",
      "Epoch 19/100\n",
      "16/16 [==============================] - 0s 9ms/step - loss: 0.6421 - accuracy: 0.9492 - val_loss: 0.6399 - val_accuracy: 0.9492\n",
      "Epoch 20/100\n",
      "16/16 [==============================] - 0s 9ms/step - loss: 0.6384 - accuracy: 0.9492 - val_loss: 0.6359 - val_accuracy: 0.9492\n",
      "Epoch 21/100\n",
      "16/16 [==============================] - 0s 9ms/step - loss: 0.6345 - accuracy: 0.9531 - val_loss: 0.6325 - val_accuracy: 0.9453\n",
      "Epoch 22/100\n",
      "16/16 [==============================] - 0s 10ms/step - loss: 0.6314 - accuracy: 0.9453 - val_loss: 0.6300 - val_accuracy: 0.9414\n",
      "Epoch 23/100\n",
      "16/16 [==============================] - 0s 9ms/step - loss: 0.6288 - accuracy: 0.9375 - val_loss: 0.6254 - val_accuracy: 0.9492\n",
      "Epoch 24/100\n",
      "16/16 [==============================] - 0s 9ms/step - loss: 0.6244 - accuracy: 0.9453 - val_loss: 0.6219 - val_accuracy: 0.9492\n",
      "Epoch 25/100\n",
      "16/16 [==============================] - 0s 10ms/step - loss: 0.6216 - accuracy: 0.9453 - val_loss: 0.6183 - val_accuracy: 0.9531\n",
      "Epoch 26/100\n",
      "16/16 [==============================] - 0s 9ms/step - loss: 0.6178 - accuracy: 0.9453 - val_loss: 0.6146 - val_accuracy: 0.9531\n",
      "Epoch 27/100\n",
      "16/16 [==============================] - 0s 8ms/step - loss: 0.6136 - accuracy: 0.9492 - val_loss: 0.6113 - val_accuracy: 0.9531\n",
      "Epoch 28/100\n",
      "16/16 [==============================] - 0s 9ms/step - loss: 0.6091 - accuracy: 0.9570 - val_loss: 0.6072 - val_accuracy: 0.9570\n",
      "Epoch 29/100\n",
      "16/16 [==============================] - 0s 8ms/step - loss: 0.6057 - accuracy: 0.9570 - val_loss: 0.6038 - val_accuracy: 0.9570\n",
      "Epoch 30/100\n",
      "16/16 [==============================] - 0s 10ms/step - loss: 0.6022 - accuracy: 0.9570 - val_loss: 0.6005 - val_accuracy: 0.9570\n",
      "Epoch 31/100\n",
      "16/16 [==============================] - 0s 9ms/step - loss: 0.5990 - accuracy: 0.9570 - val_loss: 0.5972 - val_accuracy: 0.9570\n",
      "Epoch 32/100\n",
      "16/16 [==============================] - 0s 9ms/step - loss: 0.5957 - accuracy: 0.9570 - val_loss: 0.5940 - val_accuracy: 0.9570\n",
      "Epoch 33/100\n",
      "16/16 [==============================] - 0s 10ms/step - loss: 0.5926 - accuracy: 0.9570 - val_loss: 0.5909 - val_accuracy: 0.9570\n",
      "Epoch 34/100\n",
      "16/16 [==============================] - 0s 8ms/step - loss: 0.5894 - accuracy: 0.9570 - val_loss: 0.5876 - val_accuracy: 0.9570\n",
      "Epoch 35/100\n",
      "16/16 [==============================] - 0s 9ms/step - loss: 0.5862 - accuracy: 0.9570 - val_loss: 0.5846 - val_accuracy: 0.9570\n",
      "Epoch 36/100\n",
      "16/16 [==============================] - 0s 9ms/step - loss: 0.5832 - accuracy: 0.9570 - val_loss: 0.5816 - val_accuracy: 0.9570\n",
      "Epoch 37/100\n",
      "16/16 [==============================] - 0s 9ms/step - loss: 0.5801 - accuracy: 0.9570 - val_loss: 0.5785 - val_accuracy: 0.9570\n",
      "Epoch 38/100\n",
      "16/16 [==============================] - 0s 10ms/step - loss: 0.5771 - accuracy: 0.9570 - val_loss: 0.5755 - val_accuracy: 0.9570\n",
      "Epoch 39/100\n",
      "16/16 [==============================] - 0s 9ms/step - loss: 0.5741 - accuracy: 0.9570 - val_loss: 0.5725 - val_accuracy: 0.9570\n",
      "Epoch 40/100\n",
      "16/16 [==============================] - 0s 9ms/step - loss: 0.5712 - accuracy: 0.9570 - val_loss: 0.5696 - val_accuracy: 0.9570\n",
      "Epoch 41/100\n",
      "16/16 [==============================] - 0s 9ms/step - loss: 0.5682 - accuracy: 0.9570 - val_loss: 0.5664 - val_accuracy: 0.9570\n",
      "Epoch 42/100\n",
      "16/16 [==============================] - 0s 9ms/step - loss: 0.5658 - accuracy: 0.9531 - val_loss: 0.5644 - val_accuracy: 0.9570\n",
      "Epoch 43/100\n",
      "16/16 [==============================] - 0s 10ms/step - loss: 0.5629 - accuracy: 0.9570 - val_loss: 0.5637 - val_accuracy: 0.9453\n",
      "Epoch 44/100\n",
      "16/16 [==============================] - 0s 9ms/step - loss: 0.5628 - accuracy: 0.9492 - val_loss: 0.5569 - val_accuracy: 0.9609\n",
      "Epoch 45/100\n",
      "16/16 [==============================] - 0s 9ms/step - loss: 0.5556 - accuracy: 0.9609 - val_loss: 0.5541 - val_accuracy: 0.9609\n",
      "Epoch 46/100\n",
      "16/16 [==============================] - 0s 9ms/step - loss: 0.5528 - accuracy: 0.9609 - val_loss: 0.5513 - val_accuracy: 0.9609\n",
      "Epoch 47/100\n",
      "16/16 [==============================] - 0s 8ms/step - loss: 0.5500 - accuracy: 0.9609 - val_loss: 0.5484 - val_accuracy: 0.9609\n",
      "Epoch 48/100\n",
      "16/16 [==============================] - 0s 10ms/step - loss: 0.5471 - accuracy: 0.9609 - val_loss: 0.5457 - val_accuracy: 0.9609\n",
      "Epoch 49/100\n",
      "16/16 [==============================] - 0s 9ms/step - loss: 0.5444 - accuracy: 0.9609 - val_loss: 0.5429 - val_accuracy: 0.9609\n",
      "Epoch 50/100\n",
      "16/16 [==============================] - 0s 10ms/step - loss: 0.5416 - accuracy: 0.9609 - val_loss: 0.5402 - val_accuracy: 0.9609\n",
      "Epoch 51/100\n",
      "16/16 [==============================] - 0s 9ms/step - loss: 0.5389 - accuracy: 0.9609 - val_loss: 0.5375 - val_accuracy: 0.9609\n",
      "Epoch 52/100\n",
      "16/16 [==============================] - 0s 10ms/step - loss: 0.5363 - accuracy: 0.9609 - val_loss: 0.5348 - val_accuracy: 0.9609\n",
      "Epoch 53/100\n",
      "16/16 [==============================] - 0s 9ms/step - loss: 0.5336 - accuracy: 0.9609 - val_loss: 0.5321 - val_accuracy: 0.9609\n",
      "Epoch 54/100\n",
      "16/16 [==============================] - 0s 9ms/step - loss: 0.5309 - accuracy: 0.9609 - val_loss: 0.5295 - val_accuracy: 0.9609\n",
      "Epoch 55/100\n",
      "16/16 [==============================] - 0s 10ms/step - loss: 0.5283 - accuracy: 0.9609 - val_loss: 0.5269 - val_accuracy: 0.9609\n",
      "Epoch 56/100\n",
      "16/16 [==============================] - 0s 9ms/step - loss: 0.5257 - accuracy: 0.9609 - val_loss: 0.5243 - val_accuracy: 0.9609\n",
      "Epoch 57/100\n",
      "16/16 [==============================] - 0s 9ms/step - loss: 0.5231 - accuracy: 0.9609 - val_loss: 0.5218 - val_accuracy: 0.9609\n",
      "Epoch 58/100\n",
      "16/16 [==============================] - 0s 9ms/step - loss: 0.5206 - accuracy: 0.9609 - val_loss: 0.5192 - val_accuracy: 0.9609\n"
     ]
    },
    {
     "name": "stdout",
     "output_type": "stream",
     "text": [
      "Epoch 59/100\n",
      "16/16 [==============================] - 0s 10ms/step - loss: 0.5181 - accuracy: 0.9609 - val_loss: 0.5167 - val_accuracy: 0.9609\n",
      "Epoch 60/100\n",
      "16/16 [==============================] - 0s 10ms/step - loss: 0.5155 - accuracy: 0.9609 - val_loss: 0.5142 - val_accuracy: 0.9609\n",
      "Epoch 61/100\n",
      "16/16 [==============================] - 0s 10ms/step - loss: 0.5130 - accuracy: 0.9609 - val_loss: 0.5117 - val_accuracy: 0.9609\n",
      "Epoch 62/100\n",
      "16/16 [==============================] - 0s 10ms/step - loss: 0.5106 - accuracy: 0.9609 - val_loss: 0.5092 - val_accuracy: 0.9609\n",
      "Epoch 63/100\n",
      "16/16 [==============================] - 0s 9ms/step - loss: 0.5081 - accuracy: 0.9609 - val_loss: 0.5068 - val_accuracy: 0.9609\n",
      "Epoch 64/100\n",
      "16/16 [==============================] - 0s 10ms/step - loss: 0.5057 - accuracy: 0.9609 - val_loss: 0.5044 - val_accuracy: 0.9609\n",
      "Epoch 65/100\n",
      "16/16 [==============================] - 0s 9ms/step - loss: 0.5033 - accuracy: 0.9609 - val_loss: 0.5020 - val_accuracy: 0.9609\n",
      "Epoch 66/100\n",
      "16/16 [==============================] - 0s 10ms/step - loss: 0.5008 - accuracy: 0.9609 - val_loss: 0.4996 - val_accuracy: 0.9609\n",
      "Epoch 67/100\n",
      "16/16 [==============================] - 0s 9ms/step - loss: 0.4985 - accuracy: 0.9609 - val_loss: 0.4972 - val_accuracy: 0.9609\n",
      "Epoch 68/100\n",
      "16/16 [==============================] - 0s 9ms/step - loss: 0.4961 - accuracy: 0.9609 - val_loss: 0.4948 - val_accuracy: 0.9609\n",
      "Epoch 69/100\n",
      "16/16 [==============================] - 0s 9ms/step - loss: 0.4938 - accuracy: 0.9609 - val_loss: 0.4925 - val_accuracy: 0.9609\n",
      "Epoch 70/100\n",
      "16/16 [==============================] - 0s 9ms/step - loss: 0.4914 - accuracy: 0.9609 - val_loss: 0.4903 - val_accuracy: 0.9609\n",
      "Epoch 71/100\n",
      "16/16 [==============================] - 0s 10ms/step - loss: 0.4891 - accuracy: 0.9609 - val_loss: 0.4880 - val_accuracy: 0.9609\n",
      "Epoch 72/100\n",
      "16/16 [==============================] - 0s 10ms/step - loss: 0.4869 - accuracy: 0.9609 - val_loss: 0.4856 - val_accuracy: 0.9609\n",
      "Epoch 73/100\n",
      "16/16 [==============================] - 0s 9ms/step - loss: 0.4846 - accuracy: 0.9609 - val_loss: 0.4834 - val_accuracy: 0.9609\n",
      "Epoch 74/100\n",
      "16/16 [==============================] - 0s 8ms/step - loss: 0.4824 - accuracy: 0.9609 - val_loss: 0.4811 - val_accuracy: 0.9609\n",
      "Epoch 75/100\n",
      "16/16 [==============================] - 0s 9ms/step - loss: 0.4801 - accuracy: 0.9609 - val_loss: 0.4789 - val_accuracy: 0.9609\n",
      "Epoch 76/100\n",
      "16/16 [==============================] - 0s 9ms/step - loss: 0.4779 - accuracy: 0.9609 - val_loss: 0.4767 - val_accuracy: 0.9609\n",
      "Epoch 77/100\n",
      "16/16 [==============================] - 0s 9ms/step - loss: 0.4757 - accuracy: 0.9609 - val_loss: 0.4745 - val_accuracy: 0.9609\n",
      "Epoch 78/100\n",
      "16/16 [==============================] - 0s 10ms/step - loss: 0.4735 - accuracy: 0.9609 - val_loss: 0.4723 - val_accuracy: 0.9609\n",
      "Epoch 79/100\n",
      "16/16 [==============================] - 0s 10ms/step - loss: 0.4713 - accuracy: 0.9609 - val_loss: 0.4702 - val_accuracy: 0.9609\n",
      "Epoch 80/100\n",
      "16/16 [==============================] - 0s 9ms/step - loss: 0.4692 - accuracy: 0.9609 - val_loss: 0.4680 - val_accuracy: 0.9609\n",
      "Epoch 81/100\n",
      "16/16 [==============================] - 0s 9ms/step - loss: 0.4670 - accuracy: 0.9609 - val_loss: 0.4659 - val_accuracy: 0.9609\n",
      "Epoch 82/100\n",
      "16/16 [==============================] - 0s 9ms/step - loss: 0.4649 - accuracy: 0.9609 - val_loss: 0.4638 - val_accuracy: 0.9609\n",
      "Epoch 83/100\n",
      "16/16 [==============================] - 0s 9ms/step - loss: 0.4628 - accuracy: 0.9609 - val_loss: 0.4617 - val_accuracy: 0.9609\n",
      "Epoch 84/100\n",
      "16/16 [==============================] - 0s 8ms/step - loss: 0.4607 - accuracy: 0.9609 - val_loss: 0.4595 - val_accuracy: 0.9609\n",
      "Epoch 85/100\n",
      "16/16 [==============================] - 0s 9ms/step - loss: 0.4586 - accuracy: 0.9609 - val_loss: 0.4575 - val_accuracy: 0.9609\n",
      "Epoch 86/100\n",
      "16/16 [==============================] - 0s 9ms/step - loss: 0.4566 - accuracy: 0.9609 - val_loss: 0.4554 - val_accuracy: 0.9609\n",
      "Epoch 87/100\n",
      "16/16 [==============================] - 0s 9ms/step - loss: 0.4545 - accuracy: 0.9609 - val_loss: 0.4534 - val_accuracy: 0.9609\n",
      "Epoch 88/100\n",
      "16/16 [==============================] - 0s 9ms/step - loss: 0.4525 - accuracy: 0.9609 - val_loss: 0.4514 - val_accuracy: 0.9609\n",
      "Epoch 89/100\n",
      "16/16 [==============================] - 0s 9ms/step - loss: 0.4504 - accuracy: 0.9609 - val_loss: 0.4494 - val_accuracy: 0.9609\n",
      "Epoch 90/100\n",
      "16/16 [==============================] - 0s 9ms/step - loss: 0.4484 - accuracy: 0.9609 - val_loss: 0.4474 - val_accuracy: 0.9609\n",
      "Epoch 91/100\n",
      "16/16 [==============================] - 0s 9ms/step - loss: 0.4464 - accuracy: 0.9609 - val_loss: 0.4454 - val_accuracy: 0.9609\n",
      "Epoch 92/100\n",
      "16/16 [==============================] - 0s 9ms/step - loss: 0.4445 - accuracy: 0.9609 - val_loss: 0.4434 - val_accuracy: 0.9609\n",
      "Epoch 93/100\n",
      "16/16 [==============================] - 0s 10ms/step - loss: 0.4425 - accuracy: 0.9609 - val_loss: 0.4414 - val_accuracy: 0.9609\n",
      "Epoch 94/100\n",
      "16/16 [==============================] - 0s 9ms/step - loss: 0.4405 - accuracy: 0.9609 - val_loss: 0.4395 - val_accuracy: 0.9609\n",
      "Epoch 95/100\n",
      "16/16 [==============================] - 0s 9ms/step - loss: 0.4386 - accuracy: 0.9609 - val_loss: 0.4376 - val_accuracy: 0.9609\n",
      "Epoch 96/100\n",
      "16/16 [==============================] - 0s 9ms/step - loss: 0.4367 - accuracy: 0.9609 - val_loss: 0.4357 - val_accuracy: 0.9609\n",
      "Epoch 97/100\n",
      "16/16 [==============================] - 0s 9ms/step - loss: 0.4348 - accuracy: 0.9609 - val_loss: 0.4337 - val_accuracy: 0.9609\n",
      "Epoch 98/100\n",
      "16/16 [==============================] - 0s 9ms/step - loss: 0.4329 - accuracy: 0.9609 - val_loss: 0.4318 - val_accuracy: 0.9609\n",
      "Epoch 99/100\n",
      "16/16 [==============================] - 0s 9ms/step - loss: 0.4310 - accuracy: 0.9609 - val_loss: 0.4300 - val_accuracy: 0.9609\n",
      "Epoch 100/100\n",
      "16/16 [==============================] - 0s 9ms/step - loss: 0.4291 - accuracy: 0.9609 - val_loss: 0.4281 - val_accuracy: 0.9609\n"
     ]
    },
    {
     "data": {
      "text/plain": [
       "<keras.callbacks.History at 0x223372c3ca0>"
      ]
     },
     "execution_count": 98,
     "metadata": {},
     "output_type": "execute_result"
    }
   ],
   "source": [
    "classifier.fit(X_train_scaled,y_train,batch_size=16,epochs=100,validation_data=[X_train_scaled,y_train],callbacks=earlystop)"
   ]
  },
  {
   "cell_type": "code",
   "execution_count": 99,
   "id": "48d7fe0d",
   "metadata": {},
   "outputs": [
    {
     "name": "stdout",
     "output_type": "stream",
     "text": [
      "2/2 [==============================] - 0s 12ms/step\n"
     ]
    }
   ],
   "source": [
    "y_pred=classifier.predict(X_test_scaled)"
   ]
  },
  {
   "cell_type": "code",
   "execution_count": 101,
   "id": "1b2e0703",
   "metadata": {},
   "outputs": [],
   "source": [
    "y_pred=np.round(y_pred)"
   ]
  },
  {
   "cell_type": "code",
   "execution_count": 102,
   "id": "d7dde82a",
   "metadata": {},
   "outputs": [
    {
     "name": "stdout",
     "output_type": "stream",
     "text": [
      "[[15  7]\n",
      " [ 2 22]]\n"
     ]
    }
   ],
   "source": [
    "print(confusion_matrix(y_test,y_pred))"
   ]
  },
  {
   "cell_type": "code",
   "execution_count": 103,
   "id": "0022a14e",
   "metadata": {},
   "outputs": [
    {
     "name": "stdout",
     "output_type": "stream",
     "text": [
      "              precision    recall  f1-score   support\n",
      "\n",
      "           0       0.88      0.68      0.77        22\n",
      "           1       0.76      0.92      0.83        24\n",
      "\n",
      "    accuracy                           0.80        46\n",
      "   macro avg       0.82      0.80      0.80        46\n",
      "weighted avg       0.82      0.80      0.80        46\n",
      "\n"
     ]
    }
   ],
   "source": [
    "print(classification_report(y_test,y_pred))"
   ]
  },
  {
   "cell_type": "markdown",
   "id": "f232ee32",
   "metadata": {},
   "source": [
    "We can see that using Neural network, the model is 80% accurate with a recall value of 92%"
   ]
  },
  {
   "cell_type": "markdown",
   "id": "c7a02c98",
   "metadata": {},
   "source": [
    "So we can conclude that CatBoost Model works best with this dataset for predicting the output classes."
   ]
  }
 ],
 "metadata": {
  "kernelspec": {
   "display_name": "Python 3 (ipykernel)",
   "language": "python",
   "name": "python3"
  },
  "language_info": {
   "codemirror_mode": {
    "name": "ipython",
    "version": 3
   },
   "file_extension": ".py",
   "mimetype": "text/x-python",
   "name": "python",
   "nbconvert_exporter": "python",
   "pygments_lexer": "ipython3",
   "version": "3.9.12"
  }
 },
 "nbformat": 4,
 "nbformat_minor": 5
}
